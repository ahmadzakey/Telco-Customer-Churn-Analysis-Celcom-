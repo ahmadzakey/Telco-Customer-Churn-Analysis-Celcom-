{
 "cells": [
  {
   "cell_type": "markdown",
   "id": "57b2740f-9eaf-472c-87bc-da263e269678",
   "metadata": {},
   "source": [
    "Notes Variable dataset store\n",
    "\n",
    "- df\n",
    "- df1\n",
    "- df_scaled\n",
    "- df_feature\n",
    "- df_filtered (Label encode)\n",
    "- df_filtered1 (One hot encode)\n"
   ]
  },
  {
   "cell_type": "markdown",
   "id": "c1aacf69-46d0-4985-aa36-5ae1e515fc5e",
   "metadata": {},
   "source": [
    "- customerID: ID unik untuk setiap pelanggan dalam dataset.\n",
    "- gender: Jantina pelanggan (Male/Female).\n",
    "- SeniorCitizen: Menunjukkan sama ada pelanggan adalah warga emas (1 = Ya, 0 = Tidak).\n",
    "- Partner: Menunjukkan sama ada pelanggan mempunyai pasangan (Yes/No).\n",
    "- Dependents: Menunjukkan sama ada pelanggan mempunyai tanggungan (Yes/No).\n",
    "- tenure: Tempoh masa pelanggan telah menjadi pelanggan syarikat telekomunikasi tersebut (dalam bulan).\n",
    "- PhoneService: Menunjukkan sama ada pelanggan menggunakan perkhidmatan telefon (Yes/No).\n",
    "- MultipleLines: Menunjukkan sama ada pelanggan mempunyai lebih daripada satu talian telefon (Yes/No/No phone service).\n",
    "- InternetService: Jenis perkhidmatan internet yang digunakan oleh pelanggan (DSL/Fiber optic/No).\n",
    "- OnlineSecurity: Menunjukkan sama ada pelanggan melanggan perkhidmatan keselamatan dalam talian (Yes/No/No internet service)\n",
    "- OnlineBackup: Menunjukkan sama ada pelanggan melanggan perkhidmatan sandaran dalam talian (Yes/No/No internet service).\n",
    "- DeviceProtection: Menunjukkan sama ada pelanggan melanggan perkhidmatan perlindungan peranti (Yes/No/No internet service).\n",
    "- TechSupport: Menunjukkan sama ada pelanggan melanggan perkhidmatan sokongan teknikal (Yes/No/No internet service).\n",
    "- StreamingTV: Menunjukkan sama ada pelanggan melanggan perkhidmatan TV streaming (Yes/No/No internet service).\n",
    "- StreamingMovies: Menunjukkan sama ada pelanggan melanggan perkhidmatan filem streaming (Yes/No/No internet service).\n",
    "- Contract: Jenis kontrak yang dipilih pelanggan (Month-to-month/One year/Two year).\n",
    "- PaperlessBilling: Menunjukkan sama ada pelanggan melanggan bil tanpa kertas (Yes/No).\n",
    "- PaymentMethod: Kaedah pembayaran yang digunakan oleh pelanggan (Electronic check/Mailed check/Bank transfer (automatic)/Credit card (automatic)).\n",
    "- MonthlyCharges: Caj bulanan yang dikenakan kepada pelanggan.\n",
    "- TotalCharges: Jumlah caj keseluruhan yang dikenakan kepada pelanggan.\n",
    "- Churn: Sasaran (target) dalam analisis ini; menunjukkan sama ada pelanggan telah berhenti melanggan (Yes/No)."
   ]
  },
  {
   "cell_type": "code",
   "execution_count": 146,
   "id": "2880d074-3ace-4ba4-90ce-29ca2d14e7ed",
   "metadata": {},
   "outputs": [],
   "source": [
    "import pandas as pd\n",
    "import numpy as np\n",
    "import seaborn as sns\n",
    "import matplotlib.pyplot as plt"
   ]
  },
  {
   "cell_type": "code",
   "execution_count": 147,
   "id": "db167337-a349-4429-ae33-bb0dbb14f3ee",
   "metadata": {},
   "outputs": [],
   "source": [
    "pd.set_option('display.max_columns', None)"
   ]
  },
  {
   "cell_type": "code",
   "execution_count": 148,
   "id": "d18944dc-4c41-422f-a7c6-14d1f6b4737c",
   "metadata": {},
   "outputs": [
    {
     "data": {
      "text/html": [
       "<div>\n",
       "<style scoped>\n",
       "    .dataframe tbody tr th:only-of-type {\n",
       "        vertical-align: middle;\n",
       "    }\n",
       "\n",
       "    .dataframe tbody tr th {\n",
       "        vertical-align: top;\n",
       "    }\n",
       "\n",
       "    .dataframe thead th {\n",
       "        text-align: right;\n",
       "    }\n",
       "</style>\n",
       "<table border=\"1\" class=\"dataframe\">\n",
       "  <thead>\n",
       "    <tr style=\"text-align: right;\">\n",
       "      <th></th>\n",
       "      <th>customerID</th>\n",
       "      <th>gender</th>\n",
       "      <th>SeniorCitizen</th>\n",
       "      <th>Partner</th>\n",
       "      <th>Dependents</th>\n",
       "      <th>tenure</th>\n",
       "      <th>PhoneService</th>\n",
       "      <th>MultipleLines</th>\n",
       "      <th>InternetService</th>\n",
       "      <th>OnlineSecurity</th>\n",
       "      <th>OnlineBackup</th>\n",
       "      <th>DeviceProtection</th>\n",
       "      <th>TechSupport</th>\n",
       "      <th>StreamingTV</th>\n",
       "      <th>StreamingMovies</th>\n",
       "      <th>Contract</th>\n",
       "      <th>PaperlessBilling</th>\n",
       "      <th>PaymentMethod</th>\n",
       "      <th>MonthlyCharges</th>\n",
       "      <th>TotalCharges</th>\n",
       "      <th>Churn</th>\n",
       "    </tr>\n",
       "  </thead>\n",
       "  <tbody>\n",
       "    <tr>\n",
       "      <th>0</th>\n",
       "      <td>7590-VHVEG</td>\n",
       "      <td>Female</td>\n",
       "      <td>0</td>\n",
       "      <td>Yes</td>\n",
       "      <td>No</td>\n",
       "      <td>1</td>\n",
       "      <td>No</td>\n",
       "      <td>No phone service</td>\n",
       "      <td>DSL</td>\n",
       "      <td>No</td>\n",
       "      <td>Yes</td>\n",
       "      <td>No</td>\n",
       "      <td>No</td>\n",
       "      <td>No</td>\n",
       "      <td>No</td>\n",
       "      <td>Month-to-month</td>\n",
       "      <td>Yes</td>\n",
       "      <td>Electronic check</td>\n",
       "      <td>29.85</td>\n",
       "      <td>29.85</td>\n",
       "      <td>No</td>\n",
       "    </tr>\n",
       "    <tr>\n",
       "      <th>1</th>\n",
       "      <td>5575-GNVDE</td>\n",
       "      <td>Male</td>\n",
       "      <td>0</td>\n",
       "      <td>No</td>\n",
       "      <td>No</td>\n",
       "      <td>34</td>\n",
       "      <td>Yes</td>\n",
       "      <td>No</td>\n",
       "      <td>DSL</td>\n",
       "      <td>Yes</td>\n",
       "      <td>No</td>\n",
       "      <td>Yes</td>\n",
       "      <td>No</td>\n",
       "      <td>No</td>\n",
       "      <td>No</td>\n",
       "      <td>One year</td>\n",
       "      <td>No</td>\n",
       "      <td>Mailed check</td>\n",
       "      <td>56.95</td>\n",
       "      <td>1889.5</td>\n",
       "      <td>No</td>\n",
       "    </tr>\n",
       "    <tr>\n",
       "      <th>2</th>\n",
       "      <td>3668-QPYBK</td>\n",
       "      <td>Male</td>\n",
       "      <td>0</td>\n",
       "      <td>No</td>\n",
       "      <td>No</td>\n",
       "      <td>2</td>\n",
       "      <td>Yes</td>\n",
       "      <td>No</td>\n",
       "      <td>DSL</td>\n",
       "      <td>Yes</td>\n",
       "      <td>Yes</td>\n",
       "      <td>No</td>\n",
       "      <td>No</td>\n",
       "      <td>No</td>\n",
       "      <td>No</td>\n",
       "      <td>Month-to-month</td>\n",
       "      <td>Yes</td>\n",
       "      <td>Mailed check</td>\n",
       "      <td>53.85</td>\n",
       "      <td>108.15</td>\n",
       "      <td>Yes</td>\n",
       "    </tr>\n",
       "    <tr>\n",
       "      <th>3</th>\n",
       "      <td>7795-CFOCW</td>\n",
       "      <td>Male</td>\n",
       "      <td>0</td>\n",
       "      <td>No</td>\n",
       "      <td>No</td>\n",
       "      <td>45</td>\n",
       "      <td>No</td>\n",
       "      <td>No phone service</td>\n",
       "      <td>DSL</td>\n",
       "      <td>Yes</td>\n",
       "      <td>No</td>\n",
       "      <td>Yes</td>\n",
       "      <td>Yes</td>\n",
       "      <td>No</td>\n",
       "      <td>No</td>\n",
       "      <td>One year</td>\n",
       "      <td>No</td>\n",
       "      <td>Bank transfer (automatic)</td>\n",
       "      <td>42.30</td>\n",
       "      <td>1840.75</td>\n",
       "      <td>No</td>\n",
       "    </tr>\n",
       "    <tr>\n",
       "      <th>4</th>\n",
       "      <td>9237-HQITU</td>\n",
       "      <td>Female</td>\n",
       "      <td>0</td>\n",
       "      <td>No</td>\n",
       "      <td>No</td>\n",
       "      <td>2</td>\n",
       "      <td>Yes</td>\n",
       "      <td>No</td>\n",
       "      <td>Fiber optic</td>\n",
       "      <td>No</td>\n",
       "      <td>No</td>\n",
       "      <td>No</td>\n",
       "      <td>No</td>\n",
       "      <td>No</td>\n",
       "      <td>No</td>\n",
       "      <td>Month-to-month</td>\n",
       "      <td>Yes</td>\n",
       "      <td>Electronic check</td>\n",
       "      <td>70.70</td>\n",
       "      <td>151.65</td>\n",
       "      <td>Yes</td>\n",
       "    </tr>\n",
       "  </tbody>\n",
       "</table>\n",
       "</div>"
      ],
      "text/plain": [
       "   customerID  gender  SeniorCitizen Partner Dependents  tenure PhoneService  \\\n",
       "0  7590-VHVEG  Female              0     Yes         No       1           No   \n",
       "1  5575-GNVDE    Male              0      No         No      34          Yes   \n",
       "2  3668-QPYBK    Male              0      No         No       2          Yes   \n",
       "3  7795-CFOCW    Male              0      No         No      45           No   \n",
       "4  9237-HQITU  Female              0      No         No       2          Yes   \n",
       "\n",
       "      MultipleLines InternetService OnlineSecurity OnlineBackup  \\\n",
       "0  No phone service             DSL             No          Yes   \n",
       "1                No             DSL            Yes           No   \n",
       "2                No             DSL            Yes          Yes   \n",
       "3  No phone service             DSL            Yes           No   \n",
       "4                No     Fiber optic             No           No   \n",
       "\n",
       "  DeviceProtection TechSupport StreamingTV StreamingMovies        Contract  \\\n",
       "0               No          No          No              No  Month-to-month   \n",
       "1              Yes          No          No              No        One year   \n",
       "2               No          No          No              No  Month-to-month   \n",
       "3              Yes         Yes          No              No        One year   \n",
       "4               No          No          No              No  Month-to-month   \n",
       "\n",
       "  PaperlessBilling              PaymentMethod  MonthlyCharges TotalCharges  \\\n",
       "0              Yes           Electronic check           29.85        29.85   \n",
       "1               No               Mailed check           56.95       1889.5   \n",
       "2              Yes               Mailed check           53.85       108.15   \n",
       "3               No  Bank transfer (automatic)           42.30      1840.75   \n",
       "4              Yes           Electronic check           70.70       151.65   \n",
       "\n",
       "  Churn  \n",
       "0    No  \n",
       "1    No  \n",
       "2   Yes  \n",
       "3    No  \n",
       "4   Yes  "
      ]
     },
     "execution_count": 148,
     "metadata": {},
     "output_type": "execute_result"
    }
   ],
   "source": [
    "df = pd.read_csv('Data/WA_Fn-UseC_-Telco-Customer-Churn.csv')\n",
    "df.head()"
   ]
  },
  {
   "cell_type": "code",
   "execution_count": 149,
   "id": "ca5b4c5c-a687-41b0-ab31-e0cbbdb1aeca",
   "metadata": {},
   "outputs": [
    {
     "data": {
      "text/html": [
       "<div>\n",
       "<style scoped>\n",
       "    .dataframe tbody tr th:only-of-type {\n",
       "        vertical-align: middle;\n",
       "    }\n",
       "\n",
       "    .dataframe tbody tr th {\n",
       "        vertical-align: top;\n",
       "    }\n",
       "\n",
       "    .dataframe thead th {\n",
       "        text-align: right;\n",
       "    }\n",
       "</style>\n",
       "<table border=\"1\" class=\"dataframe\">\n",
       "  <thead>\n",
       "    <tr style=\"text-align: right;\">\n",
       "      <th></th>\n",
       "      <th>customerID</th>\n",
       "      <th>gender</th>\n",
       "      <th>SeniorCitizen</th>\n",
       "      <th>Partner</th>\n",
       "      <th>Dependents</th>\n",
       "      <th>tenure</th>\n",
       "      <th>PhoneService</th>\n",
       "      <th>MultipleLines</th>\n",
       "      <th>InternetService</th>\n",
       "      <th>OnlineSecurity</th>\n",
       "      <th>OnlineBackup</th>\n",
       "      <th>DeviceProtection</th>\n",
       "      <th>TechSupport</th>\n",
       "      <th>StreamingTV</th>\n",
       "      <th>StreamingMovies</th>\n",
       "      <th>Contract</th>\n",
       "      <th>PaperlessBilling</th>\n",
       "      <th>PaymentMethod</th>\n",
       "      <th>MonthlyCharges</th>\n",
       "      <th>TotalCharges</th>\n",
       "      <th>Churn</th>\n",
       "    </tr>\n",
       "  </thead>\n",
       "  <tbody>\n",
       "    <tr>\n",
       "      <th>7038</th>\n",
       "      <td>6840-RESVB</td>\n",
       "      <td>Male</td>\n",
       "      <td>0</td>\n",
       "      <td>Yes</td>\n",
       "      <td>Yes</td>\n",
       "      <td>24</td>\n",
       "      <td>Yes</td>\n",
       "      <td>Yes</td>\n",
       "      <td>DSL</td>\n",
       "      <td>Yes</td>\n",
       "      <td>No</td>\n",
       "      <td>Yes</td>\n",
       "      <td>Yes</td>\n",
       "      <td>Yes</td>\n",
       "      <td>Yes</td>\n",
       "      <td>One year</td>\n",
       "      <td>Yes</td>\n",
       "      <td>Mailed check</td>\n",
       "      <td>84.80</td>\n",
       "      <td>1990.5</td>\n",
       "      <td>No</td>\n",
       "    </tr>\n",
       "    <tr>\n",
       "      <th>7039</th>\n",
       "      <td>2234-XADUH</td>\n",
       "      <td>Female</td>\n",
       "      <td>0</td>\n",
       "      <td>Yes</td>\n",
       "      <td>Yes</td>\n",
       "      <td>72</td>\n",
       "      <td>Yes</td>\n",
       "      <td>Yes</td>\n",
       "      <td>Fiber optic</td>\n",
       "      <td>No</td>\n",
       "      <td>Yes</td>\n",
       "      <td>Yes</td>\n",
       "      <td>No</td>\n",
       "      <td>Yes</td>\n",
       "      <td>Yes</td>\n",
       "      <td>One year</td>\n",
       "      <td>Yes</td>\n",
       "      <td>Credit card (automatic)</td>\n",
       "      <td>103.20</td>\n",
       "      <td>7362.9</td>\n",
       "      <td>No</td>\n",
       "    </tr>\n",
       "    <tr>\n",
       "      <th>7040</th>\n",
       "      <td>4801-JZAZL</td>\n",
       "      <td>Female</td>\n",
       "      <td>0</td>\n",
       "      <td>Yes</td>\n",
       "      <td>Yes</td>\n",
       "      <td>11</td>\n",
       "      <td>No</td>\n",
       "      <td>No phone service</td>\n",
       "      <td>DSL</td>\n",
       "      <td>Yes</td>\n",
       "      <td>No</td>\n",
       "      <td>No</td>\n",
       "      <td>No</td>\n",
       "      <td>No</td>\n",
       "      <td>No</td>\n",
       "      <td>Month-to-month</td>\n",
       "      <td>Yes</td>\n",
       "      <td>Electronic check</td>\n",
       "      <td>29.60</td>\n",
       "      <td>346.45</td>\n",
       "      <td>No</td>\n",
       "    </tr>\n",
       "    <tr>\n",
       "      <th>7041</th>\n",
       "      <td>8361-LTMKD</td>\n",
       "      <td>Male</td>\n",
       "      <td>1</td>\n",
       "      <td>Yes</td>\n",
       "      <td>No</td>\n",
       "      <td>4</td>\n",
       "      <td>Yes</td>\n",
       "      <td>Yes</td>\n",
       "      <td>Fiber optic</td>\n",
       "      <td>No</td>\n",
       "      <td>No</td>\n",
       "      <td>No</td>\n",
       "      <td>No</td>\n",
       "      <td>No</td>\n",
       "      <td>No</td>\n",
       "      <td>Month-to-month</td>\n",
       "      <td>Yes</td>\n",
       "      <td>Mailed check</td>\n",
       "      <td>74.40</td>\n",
       "      <td>306.6</td>\n",
       "      <td>Yes</td>\n",
       "    </tr>\n",
       "    <tr>\n",
       "      <th>7042</th>\n",
       "      <td>3186-AJIEK</td>\n",
       "      <td>Male</td>\n",
       "      <td>0</td>\n",
       "      <td>No</td>\n",
       "      <td>No</td>\n",
       "      <td>66</td>\n",
       "      <td>Yes</td>\n",
       "      <td>No</td>\n",
       "      <td>Fiber optic</td>\n",
       "      <td>Yes</td>\n",
       "      <td>No</td>\n",
       "      <td>Yes</td>\n",
       "      <td>Yes</td>\n",
       "      <td>Yes</td>\n",
       "      <td>Yes</td>\n",
       "      <td>Two year</td>\n",
       "      <td>Yes</td>\n",
       "      <td>Bank transfer (automatic)</td>\n",
       "      <td>105.65</td>\n",
       "      <td>6844.5</td>\n",
       "      <td>No</td>\n",
       "    </tr>\n",
       "  </tbody>\n",
       "</table>\n",
       "</div>"
      ],
      "text/plain": [
       "      customerID  gender  SeniorCitizen Partner Dependents  tenure  \\\n",
       "7038  6840-RESVB    Male              0     Yes        Yes      24   \n",
       "7039  2234-XADUH  Female              0     Yes        Yes      72   \n",
       "7040  4801-JZAZL  Female              0     Yes        Yes      11   \n",
       "7041  8361-LTMKD    Male              1     Yes         No       4   \n",
       "7042  3186-AJIEK    Male              0      No         No      66   \n",
       "\n",
       "     PhoneService     MultipleLines InternetService OnlineSecurity  \\\n",
       "7038          Yes               Yes             DSL            Yes   \n",
       "7039          Yes               Yes     Fiber optic             No   \n",
       "7040           No  No phone service             DSL            Yes   \n",
       "7041          Yes               Yes     Fiber optic             No   \n",
       "7042          Yes                No     Fiber optic            Yes   \n",
       "\n",
       "     OnlineBackup DeviceProtection TechSupport StreamingTV StreamingMovies  \\\n",
       "7038           No              Yes         Yes         Yes             Yes   \n",
       "7039          Yes              Yes          No         Yes             Yes   \n",
       "7040           No               No          No          No              No   \n",
       "7041           No               No          No          No              No   \n",
       "7042           No              Yes         Yes         Yes             Yes   \n",
       "\n",
       "            Contract PaperlessBilling              PaymentMethod  \\\n",
       "7038        One year              Yes               Mailed check   \n",
       "7039        One year              Yes    Credit card (automatic)   \n",
       "7040  Month-to-month              Yes           Electronic check   \n",
       "7041  Month-to-month              Yes               Mailed check   \n",
       "7042        Two year              Yes  Bank transfer (automatic)   \n",
       "\n",
       "      MonthlyCharges TotalCharges Churn  \n",
       "7038           84.80       1990.5    No  \n",
       "7039          103.20       7362.9    No  \n",
       "7040           29.60       346.45    No  \n",
       "7041           74.40        306.6   Yes  \n",
       "7042          105.65       6844.5    No  "
      ]
     },
     "execution_count": 149,
     "metadata": {},
     "output_type": "execute_result"
    }
   ],
   "source": [
    "df.tail()"
   ]
  },
  {
   "cell_type": "code",
   "execution_count": 150,
   "id": "13d63af1-0ce8-4f21-a385-c2181a177e1f",
   "metadata": {},
   "outputs": [
    {
     "data": {
      "text/plain": [
       "(7043, 21)"
      ]
     },
     "execution_count": 150,
     "metadata": {},
     "output_type": "execute_result"
    }
   ],
   "source": [
    "df.shape"
   ]
  },
  {
   "cell_type": "code",
   "execution_count": 151,
   "id": "2be3b412-0dd1-400e-8ade-f25d16edb607",
   "metadata": {},
   "outputs": [
    {
     "data": {
      "text/plain": [
       "customerID          7043\n",
       "gender                 2\n",
       "SeniorCitizen          2\n",
       "Partner                2\n",
       "Dependents             2\n",
       "tenure                73\n",
       "PhoneService           2\n",
       "MultipleLines          3\n",
       "InternetService        3\n",
       "OnlineSecurity         3\n",
       "OnlineBackup           3\n",
       "DeviceProtection       3\n",
       "TechSupport            3\n",
       "StreamingTV            3\n",
       "StreamingMovies        3\n",
       "Contract               3\n",
       "PaperlessBilling       2\n",
       "PaymentMethod          4\n",
       "MonthlyCharges      1585\n",
       "TotalCharges        6531\n",
       "Churn                  2\n",
       "dtype: int64"
      ]
     },
     "execution_count": 151,
     "metadata": {},
     "output_type": "execute_result"
    }
   ],
   "source": [
    "df.nunique()"
   ]
  },
  {
   "cell_type": "markdown",
   "id": "c65cc668-3c52-4469-839f-e5128fc74386",
   "metadata": {},
   "source": [
    "### Dont have duplicate Values (Compare No unique value - EmployeeNumber with number of rows)"
   ]
  },
  {
   "cell_type": "code",
   "execution_count": 152,
   "id": "d5e8c40f-550c-48d3-a404-69cbcbd58514",
   "metadata": {},
   "outputs": [
    {
     "data": {
      "text/plain": [
       "<Axes: >"
      ]
     },
     "execution_count": 152,
     "metadata": {},
     "output_type": "execute_result"
    },
    {
     "data": {
      "image/png": "[encoded data removed]",
      "text/plain": [
       "<Figure size 640x480 with 2 Axes>"
      ]
     },
     "metadata": {},
     "output_type": "display_data"
    }
   ],
   "source": [
    "sns.heatmap(df.isnull())"
   ]
  },
  {
   "cell_type": "code",
   "execution_count": 153,
   "id": "a5d72ed5-c3ea-44fb-a105-b3e4bbf06bff",
   "metadata": {},
   "outputs": [
    {
     "data": {
      "text/plain": [
       "customerID          0\n",
       "gender              0\n",
       "SeniorCitizen       0\n",
       "Partner             0\n",
       "Dependents          0\n",
       "tenure              0\n",
       "PhoneService        0\n",
       "MultipleLines       0\n",
       "InternetService     0\n",
       "OnlineSecurity      0\n",
       "OnlineBackup        0\n",
       "DeviceProtection    0\n",
       "TechSupport         0\n",
       "StreamingTV         0\n",
       "StreamingMovies     0\n",
       "Contract            0\n",
       "PaperlessBilling    0\n",
       "PaymentMethod       0\n",
       "MonthlyCharges      0\n",
       "TotalCharges        0\n",
       "Churn               0\n",
       "dtype: int64"
      ]
     },
     "execution_count": 153,
     "metadata": {},
     "output_type": "execute_result"
    }
   ],
   "source": [
    "df.isna().sum()"
   ]
  },
  {
   "cell_type": "code",
   "execution_count": 154,
   "id": "d575b797-5f16-4fdf-8ce8-8a95e60d2a5e",
   "metadata": {},
   "outputs": [
    {
     "data": {
      "text/html": [
       "<div>\n",
       "<style scoped>\n",
       "    .dataframe tbody tr th:only-of-type {\n",
       "        vertical-align: middle;\n",
       "    }\n",
       "\n",
       "    .dataframe tbody tr th {\n",
       "        vertical-align: top;\n",
       "    }\n",
       "\n",
       "    .dataframe thead th {\n",
       "        text-align: right;\n",
       "    }\n",
       "</style>\n",
       "<table border=\"1\" class=\"dataframe\">\n",
       "  <thead>\n",
       "    <tr style=\"text-align: right;\">\n",
       "      <th></th>\n",
       "      <th>SeniorCitizen</th>\n",
       "      <th>tenure</th>\n",
       "      <th>MonthlyCharges</th>\n",
       "    </tr>\n",
       "  </thead>\n",
       "  <tbody>\n",
       "    <tr>\n",
       "      <th>count</th>\n",
       "      <td>7043.000000</td>\n",
       "      <td>7043.000000</td>\n",
       "      <td>7043.000000</td>\n",
       "    </tr>\n",
       "    <tr>\n",
       "      <th>mean</th>\n",
       "      <td>0.162147</td>\n",
       "      <td>32.371149</td>\n",
       "      <td>64.761692</td>\n",
       "    </tr>\n",
       "    <tr>\n",
       "      <th>std</th>\n",
       "      <td>0.368612</td>\n",
       "      <td>24.559481</td>\n",
       "      <td>30.090047</td>\n",
       "    </tr>\n",
       "    <tr>\n",
       "      <th>min</th>\n",
       "      <td>0.000000</td>\n",
       "      <td>0.000000</td>\n",
       "      <td>18.250000</td>\n",
       "    </tr>\n",
       "    <tr>\n",
       "      <th>25%</th>\n",
       "      <td>0.000000</td>\n",
       "      <td>9.000000</td>\n",
       "      <td>35.500000</td>\n",
       "    </tr>\n",
       "    <tr>\n",
       "      <th>50%</th>\n",
       "      <td>0.000000</td>\n",
       "      <td>29.000000</td>\n",
       "      <td>70.350000</td>\n",
       "    </tr>\n",
       "    <tr>\n",
       "      <th>75%</th>\n",
       "      <td>0.000000</td>\n",
       "      <td>55.000000</td>\n",
       "      <td>89.850000</td>\n",
       "    </tr>\n",
       "    <tr>\n",
       "      <th>max</th>\n",
       "      <td>1.000000</td>\n",
       "      <td>72.000000</td>\n",
       "      <td>118.750000</td>\n",
       "    </tr>\n",
       "  </tbody>\n",
       "</table>\n",
       "</div>"
      ],
      "text/plain": [
       "       SeniorCitizen       tenure  MonthlyCharges\n",
       "count    7043.000000  7043.000000     7043.000000\n",
       "mean        0.162147    32.371149       64.761692\n",
       "std         0.368612    24.559481       30.090047\n",
       "min         0.000000     0.000000       18.250000\n",
       "25%         0.000000     9.000000       35.500000\n",
       "50%         0.000000    29.000000       70.350000\n",
       "75%         0.000000    55.000000       89.850000\n",
       "max         1.000000    72.000000      118.750000"
      ]
     },
     "execution_count": 154,
     "metadata": {},
     "output_type": "execute_result"
    }
   ],
   "source": [
    "df.describe()"
   ]
  },
  {
   "cell_type": "code",
   "execution_count": 155,
   "id": "c6ea320f-6861-46fa-b95c-1a6739f4a077",
   "metadata": {},
   "outputs": [
    {
     "data": {
      "text/plain": [
       "customerID           object\n",
       "gender               object\n",
       "SeniorCitizen         int64\n",
       "Partner              object\n",
       "Dependents           object\n",
       "tenure                int64\n",
       "PhoneService         object\n",
       "MultipleLines        object\n",
       "InternetService      object\n",
       "OnlineSecurity       object\n",
       "OnlineBackup         object\n",
       "DeviceProtection     object\n",
       "TechSupport          object\n",
       "StreamingTV          object\n",
       "StreamingMovies      object\n",
       "Contract             object\n",
       "PaperlessBilling     object\n",
       "PaymentMethod        object\n",
       "MonthlyCharges      float64\n",
       "TotalCharges         object\n",
       "Churn                object\n",
       "dtype: object"
      ]
     },
     "execution_count": 155,
     "metadata": {},
     "output_type": "execute_result"
    }
   ],
   "source": [
    "df.dtypes"
   ]
  },
  {
   "cell_type": "code",
   "execution_count": 156,
   "id": "51e323ca-541a-420c-b371-7df748dfd5c4",
   "metadata": {},
   "outputs": [
    {
     "data": {
      "text/html": [
       "<div>\n",
       "<style scoped>\n",
       "    .dataframe tbody tr th:only-of-type {\n",
       "        vertical-align: middle;\n",
       "    }\n",
       "\n",
       "    .dataframe tbody tr th {\n",
       "        vertical-align: top;\n",
       "    }\n",
       "\n",
       "    .dataframe thead th {\n",
       "        text-align: right;\n",
       "    }\n",
       "</style>\n",
       "<table border=\"1\" class=\"dataframe\">\n",
       "  <thead>\n",
       "    <tr style=\"text-align: right;\">\n",
       "      <th></th>\n",
       "      <th>customerID</th>\n",
       "      <th>gender</th>\n",
       "      <th>SeniorCitizen</th>\n",
       "      <th>Partner</th>\n",
       "      <th>Dependents</th>\n",
       "      <th>tenure</th>\n",
       "      <th>PhoneService</th>\n",
       "      <th>MultipleLines</th>\n",
       "      <th>InternetService</th>\n",
       "      <th>OnlineSecurity</th>\n",
       "      <th>OnlineBackup</th>\n",
       "      <th>DeviceProtection</th>\n",
       "      <th>TechSupport</th>\n",
       "      <th>StreamingTV</th>\n",
       "      <th>StreamingMovies</th>\n",
       "      <th>Contract</th>\n",
       "      <th>PaperlessBilling</th>\n",
       "      <th>PaymentMethod</th>\n",
       "      <th>MonthlyCharges</th>\n",
       "      <th>TotalCharges</th>\n",
       "      <th>Churn</th>\n",
       "    </tr>\n",
       "  </thead>\n",
       "  <tbody>\n",
       "    <tr>\n",
       "      <th>0</th>\n",
       "      <td>7590-VHVEG</td>\n",
       "      <td>Female</td>\n",
       "      <td>0</td>\n",
       "      <td>Yes</td>\n",
       "      <td>No</td>\n",
       "      <td>1</td>\n",
       "      <td>No</td>\n",
       "      <td>No phone service</td>\n",
       "      <td>DSL</td>\n",
       "      <td>No</td>\n",
       "      <td>Yes</td>\n",
       "      <td>No</td>\n",
       "      <td>No</td>\n",
       "      <td>No</td>\n",
       "      <td>No</td>\n",
       "      <td>Month-to-month</td>\n",
       "      <td>Yes</td>\n",
       "      <td>Electronic check</td>\n",
       "      <td>29.85</td>\n",
       "      <td>29.85</td>\n",
       "      <td>No</td>\n",
       "    </tr>\n",
       "    <tr>\n",
       "      <th>1</th>\n",
       "      <td>5575-GNVDE</td>\n",
       "      <td>Male</td>\n",
       "      <td>0</td>\n",
       "      <td>No</td>\n",
       "      <td>No</td>\n",
       "      <td>34</td>\n",
       "      <td>Yes</td>\n",
       "      <td>No</td>\n",
       "      <td>DSL</td>\n",
       "      <td>Yes</td>\n",
       "      <td>No</td>\n",
       "      <td>Yes</td>\n",
       "      <td>No</td>\n",
       "      <td>No</td>\n",
       "      <td>No</td>\n",
       "      <td>One year</td>\n",
       "      <td>No</td>\n",
       "      <td>Mailed check</td>\n",
       "      <td>56.95</td>\n",
       "      <td>1889.5</td>\n",
       "      <td>No</td>\n",
       "    </tr>\n",
       "  </tbody>\n",
       "</table>\n",
       "</div>"
      ],
      "text/plain": [
       "   customerID  gender  SeniorCitizen Partner Dependents  tenure PhoneService  \\\n",
       "0  7590-VHVEG  Female              0     Yes         No       1           No   \n",
       "1  5575-GNVDE    Male              0      No         No      34          Yes   \n",
       "\n",
       "      MultipleLines InternetService OnlineSecurity OnlineBackup  \\\n",
       "0  No phone service             DSL             No          Yes   \n",
       "1                No             DSL            Yes           No   \n",
       "\n",
       "  DeviceProtection TechSupport StreamingTV StreamingMovies        Contract  \\\n",
       "0               No          No          No              No  Month-to-month   \n",
       "1              Yes          No          No              No        One year   \n",
       "\n",
       "  PaperlessBilling     PaymentMethod  MonthlyCharges TotalCharges Churn  \n",
       "0              Yes  Electronic check           29.85        29.85    No  \n",
       "1               No      Mailed check           56.95       1889.5    No  "
      ]
     },
     "execution_count": 156,
     "metadata": {},
     "output_type": "execute_result"
    }
   ],
   "source": [
    "df.head(2)"
   ]
  },
  {
   "cell_type": "code",
   "execution_count": 157,
   "id": "d7778d34-b629-4eb6-bd14-a48e3c08ea40",
   "metadata": {},
   "outputs": [
    {
     "data": {
      "text/plain": [
       "Index(['customerID', 'gender', 'SeniorCitizen', 'Partner', 'Dependents',\n",
       "       'tenure', 'PhoneService', 'MultipleLines', 'InternetService',\n",
       "       'OnlineSecurity', 'OnlineBackup', 'DeviceProtection', 'TechSupport',\n",
       "       'StreamingTV', 'StreamingMovies', 'Contract', 'PaperlessBilling',\n",
       "       'PaymentMethod', 'MonthlyCharges', 'TotalCharges', 'Churn'],\n",
       "      dtype='object')"
      ]
     },
     "execution_count": 157,
     "metadata": {},
     "output_type": "execute_result"
    }
   ],
   "source": [
    "df.columns"
   ]
  },
  {
   "cell_type": "code",
   "execution_count": 158,
   "id": "b5d307a5-4198-4e13-b7ee-2650521e74a3",
   "metadata": {},
   "outputs": [
    {
     "data": {
      "text/plain": [
       "Churn\n",
       "No     5174\n",
       "Yes    1869\n",
       "Name: count, dtype: int64"
      ]
     },
     "execution_count": 158,
     "metadata": {},
     "output_type": "execute_result"
    }
   ],
   "source": [
    "df['Churn'].value_counts()"
   ]
  },
  {
   "cell_type": "code",
   "execution_count": 159,
   "id": "7b265a96-8b29-4db0-86ec-86245b969b86",
   "metadata": {},
   "outputs": [
    {
     "name": "stdout",
     "output_type": "stream",
     "text": [
      "Churn\n",
      "No     73.463013\n",
      "Yes    26.536987\n",
      "Name: proportion, dtype: float64\n"
     ]
    }
   ],
   "source": [
    "# Get the percentage of each unique value in the 'Attrition' column\n",
    "Churn_percentage = df['Churn'].value_counts(normalize=True) * 100\n",
    "\n",
    "# Print the result\n",
    "print(Churn_percentage )"
   ]
  },
  {
   "cell_type": "markdown",
   "id": "6319c1b5-95a7-493c-aa3d-ae9864e0c623",
   "metadata": {},
   "source": [
    "## Anamolies Detection "
   ]
  },
  {
   "cell_type": "code",
   "execution_count": 160,
   "id": "c0f9f4b3-db16-47cb-b73d-1584aacc4f45",
   "metadata": {},
   "outputs": [
    {
     "data": {
      "image/png": "[encoded data removed]",
      "text/plain": [
       "<Figure size 800x400 with 1 Axes>"
      ]
     },
     "metadata": {},
     "output_type": "display_data"
    },
    {
     "data": {
      "image/png": "[encoded data removed]",
      "text/plain": [
       "<Figure size 800x400 with 1 Axes>"
      ]
     },
     "metadata": {},
     "output_type": "display_data"
    },
    {
     "data": {
      "image/png": "[encoded data removed]",
      "text/plain": [
       "<Figure size 800x400 with 1 Axes>"
      ]
     },
     "metadata": {},
     "output_type": "display_data"
    }
   ],
   "source": [
    "# Fir this first im using BOXPLOT\n",
    "\n",
    "numeric_cols = df.select_dtypes(include=['int64', 'float64']).columns\n",
    "\n",
    "\n",
    "# Plot boxplot untuk setiap kolum numerik\n",
    "for col in numeric_cols:\n",
    "    plt.figure(figsize=(8, 4))\n",
    "    sns.boxplot(data=df, x=col)\n",
    "    plt.title(f\"Boxplot for {col}\")\n",
    "    plt.show()"
   ]
  },
  {
   "cell_type": "code",
   "execution_count": 161,
   "id": "41b39be8-9d85-49bd-a171-a0fe6536e7b0",
   "metadata": {},
   "outputs": [
    {
     "data": {
      "text/plain": [
       "customerID           object\n",
       "gender               object\n",
       "SeniorCitizen         int64\n",
       "Partner              object\n",
       "Dependents           object\n",
       "tenure                int64\n",
       "PhoneService         object\n",
       "MultipleLines        object\n",
       "InternetService      object\n",
       "OnlineSecurity       object\n",
       "OnlineBackup         object\n",
       "DeviceProtection     object\n",
       "TechSupport          object\n",
       "StreamingTV          object\n",
       "StreamingMovies      object\n",
       "Contract             object\n",
       "PaperlessBilling     object\n",
       "PaymentMethod        object\n",
       "MonthlyCharges      float64\n",
       "TotalCharges         object\n",
       "Churn                object\n",
       "dtype: object"
      ]
     },
     "execution_count": 161,
     "metadata": {},
     "output_type": "execute_result"
    }
   ],
   "source": [
    "df.dtypes"
   ]
  },
  {
   "cell_type": "code",
   "execution_count": null,
   "id": "086d9644-6258-47c8-bbf7-f4fc6022a792",
   "metadata": {},
   "outputs": [],
   "source": []
  },
  {
   "cell_type": "code",
   "execution_count": null,
   "id": "8908d704-c5d9-4bc2-8782-62ed2d81d867",
   "metadata": {},
   "outputs": [],
   "source": []
  },
  {
   "cell_type": "code",
   "execution_count": 162,
   "id": "0cad2ba0-1e69-4cd6-92f6-86e80547cc67",
   "metadata": {},
   "outputs": [
    {
     "name": "stdout",
     "output_type": "stream",
     "text": [
      "['29.85' '1889.5' '108.15' ... '346.45' '306.6' '6844.5']\n"
     ]
    }
   ],
   "source": [
    "print(df[\"TotalCharges\"].unique())  # Melihat nilai unik\n"
   ]
  },
  {
   "cell_type": "code",
   "execution_count": 163,
   "id": "c44f719a-b3b5-4f4f-8acc-04102dc973c6",
   "metadata": {},
   "outputs": [
    {
     "data": {
      "text/html": [
       "<div>\n",
       "<style scoped>\n",
       "    .dataframe tbody tr th:only-of-type {\n",
       "        vertical-align: middle;\n",
       "    }\n",
       "\n",
       "    .dataframe tbody tr th {\n",
       "        vertical-align: top;\n",
       "    }\n",
       "\n",
       "    .dataframe thead th {\n",
       "        text-align: right;\n",
       "    }\n",
       "</style>\n",
       "<table border=\"1\" class=\"dataframe\">\n",
       "  <thead>\n",
       "    <tr style=\"text-align: right;\">\n",
       "      <th></th>\n",
       "      <th>customerID</th>\n",
       "      <th>gender</th>\n",
       "      <th>SeniorCitizen</th>\n",
       "      <th>Partner</th>\n",
       "      <th>Dependents</th>\n",
       "      <th>tenure</th>\n",
       "      <th>PhoneService</th>\n",
       "      <th>MultipleLines</th>\n",
       "      <th>InternetService</th>\n",
       "      <th>OnlineSecurity</th>\n",
       "      <th>OnlineBackup</th>\n",
       "      <th>DeviceProtection</th>\n",
       "      <th>TechSupport</th>\n",
       "      <th>StreamingTV</th>\n",
       "      <th>StreamingMovies</th>\n",
       "      <th>Contract</th>\n",
       "      <th>PaperlessBilling</th>\n",
       "      <th>PaymentMethod</th>\n",
       "      <th>MonthlyCharges</th>\n",
       "      <th>TotalCharges</th>\n",
       "      <th>Churn</th>\n",
       "    </tr>\n",
       "  </thead>\n",
       "  <tbody>\n",
       "    <tr>\n",
       "      <th>488</th>\n",
       "      <td>4472-LVYGI</td>\n",
       "      <td>Female</td>\n",
       "      <td>0</td>\n",
       "      <td>Yes</td>\n",
       "      <td>Yes</td>\n",
       "      <td>0</td>\n",
       "      <td>No</td>\n",
       "      <td>No phone service</td>\n",
       "      <td>DSL</td>\n",
       "      <td>Yes</td>\n",
       "      <td>No</td>\n",
       "      <td>Yes</td>\n",
       "      <td>Yes</td>\n",
       "      <td>Yes</td>\n",
       "      <td>No</td>\n",
       "      <td>Two year</td>\n",
       "      <td>Yes</td>\n",
       "      <td>Bank transfer (automatic)</td>\n",
       "      <td>52.55</td>\n",
       "      <td></td>\n",
       "      <td>No</td>\n",
       "    </tr>\n",
       "    <tr>\n",
       "      <th>753</th>\n",
       "      <td>3115-CZMZD</td>\n",
       "      <td>Male</td>\n",
       "      <td>0</td>\n",
       "      <td>No</td>\n",
       "      <td>Yes</td>\n",
       "      <td>0</td>\n",
       "      <td>Yes</td>\n",
       "      <td>No</td>\n",
       "      <td>No</td>\n",
       "      <td>No internet service</td>\n",
       "      <td>No internet service</td>\n",
       "      <td>No internet service</td>\n",
       "      <td>No internet service</td>\n",
       "      <td>No internet service</td>\n",
       "      <td>No internet service</td>\n",
       "      <td>Two year</td>\n",
       "      <td>No</td>\n",
       "      <td>Mailed check</td>\n",
       "      <td>20.25</td>\n",
       "      <td></td>\n",
       "      <td>No</td>\n",
       "    </tr>\n",
       "    <tr>\n",
       "      <th>936</th>\n",
       "      <td>5709-LVOEQ</td>\n",
       "      <td>Female</td>\n",
       "      <td>0</td>\n",
       "      <td>Yes</td>\n",
       "      <td>Yes</td>\n",
       "      <td>0</td>\n",
       "      <td>Yes</td>\n",
       "      <td>No</td>\n",
       "      <td>DSL</td>\n",
       "      <td>Yes</td>\n",
       "      <td>Yes</td>\n",
       "      <td>Yes</td>\n",
       "      <td>No</td>\n",
       "      <td>Yes</td>\n",
       "      <td>Yes</td>\n",
       "      <td>Two year</td>\n",
       "      <td>No</td>\n",
       "      <td>Mailed check</td>\n",
       "      <td>80.85</td>\n",
       "      <td></td>\n",
       "      <td>No</td>\n",
       "    </tr>\n",
       "    <tr>\n",
       "      <th>1082</th>\n",
       "      <td>4367-NUYAO</td>\n",
       "      <td>Male</td>\n",
       "      <td>0</td>\n",
       "      <td>Yes</td>\n",
       "      <td>Yes</td>\n",
       "      <td>0</td>\n",
       "      <td>Yes</td>\n",
       "      <td>Yes</td>\n",
       "      <td>No</td>\n",
       "      <td>No internet service</td>\n",
       "      <td>No internet service</td>\n",
       "      <td>No internet service</td>\n",
       "      <td>No internet service</td>\n",
       "      <td>No internet service</td>\n",
       "      <td>No internet service</td>\n",
       "      <td>Two year</td>\n",
       "      <td>No</td>\n",
       "      <td>Mailed check</td>\n",
       "      <td>25.75</td>\n",
       "      <td></td>\n",
       "      <td>No</td>\n",
       "    </tr>\n",
       "    <tr>\n",
       "      <th>1340</th>\n",
       "      <td>1371-DWPAZ</td>\n",
       "      <td>Female</td>\n",
       "      <td>0</td>\n",
       "      <td>Yes</td>\n",
       "      <td>Yes</td>\n",
       "      <td>0</td>\n",
       "      <td>No</td>\n",
       "      <td>No phone service</td>\n",
       "      <td>DSL</td>\n",
       "      <td>Yes</td>\n",
       "      <td>Yes</td>\n",
       "      <td>Yes</td>\n",
       "      <td>Yes</td>\n",
       "      <td>Yes</td>\n",
       "      <td>No</td>\n",
       "      <td>Two year</td>\n",
       "      <td>No</td>\n",
       "      <td>Credit card (automatic)</td>\n",
       "      <td>56.05</td>\n",
       "      <td></td>\n",
       "      <td>No</td>\n",
       "    </tr>\n",
       "    <tr>\n",
       "      <th>3331</th>\n",
       "      <td>7644-OMVMY</td>\n",
       "      <td>Male</td>\n",
       "      <td>0</td>\n",
       "      <td>Yes</td>\n",
       "      <td>Yes</td>\n",
       "      <td>0</td>\n",
       "      <td>Yes</td>\n",
       "      <td>No</td>\n",
       "      <td>No</td>\n",
       "      <td>No internet service</td>\n",
       "      <td>No internet service</td>\n",
       "      <td>No internet service</td>\n",
       "      <td>No internet service</td>\n",
       "      <td>No internet service</td>\n",
       "      <td>No internet service</td>\n",
       "      <td>Two year</td>\n",
       "      <td>No</td>\n",
       "      <td>Mailed check</td>\n",
       "      <td>19.85</td>\n",
       "      <td></td>\n",
       "      <td>No</td>\n",
       "    </tr>\n",
       "    <tr>\n",
       "      <th>3826</th>\n",
       "      <td>3213-VVOLG</td>\n",
       "      <td>Male</td>\n",
       "      <td>0</td>\n",
       "      <td>Yes</td>\n",
       "      <td>Yes</td>\n",
       "      <td>0</td>\n",
       "      <td>Yes</td>\n",
       "      <td>Yes</td>\n",
       "      <td>No</td>\n",
       "      <td>No internet service</td>\n",
       "      <td>No internet service</td>\n",
       "      <td>No internet service</td>\n",
       "      <td>No internet service</td>\n",
       "      <td>No internet service</td>\n",
       "      <td>No internet service</td>\n",
       "      <td>Two year</td>\n",
       "      <td>No</td>\n",
       "      <td>Mailed check</td>\n",
       "      <td>25.35</td>\n",
       "      <td></td>\n",
       "      <td>No</td>\n",
       "    </tr>\n",
       "    <tr>\n",
       "      <th>4380</th>\n",
       "      <td>2520-SGTTA</td>\n",
       "      <td>Female</td>\n",
       "      <td>0</td>\n",
       "      <td>Yes</td>\n",
       "      <td>Yes</td>\n",
       "      <td>0</td>\n",
       "      <td>Yes</td>\n",
       "      <td>No</td>\n",
       "      <td>No</td>\n",
       "      <td>No internet service</td>\n",
       "      <td>No internet service</td>\n",
       "      <td>No internet service</td>\n",
       "      <td>No internet service</td>\n",
       "      <td>No internet service</td>\n",
       "      <td>No internet service</td>\n",
       "      <td>Two year</td>\n",
       "      <td>No</td>\n",
       "      <td>Mailed check</td>\n",
       "      <td>20.00</td>\n",
       "      <td></td>\n",
       "      <td>No</td>\n",
       "    </tr>\n",
       "    <tr>\n",
       "      <th>5218</th>\n",
       "      <td>2923-ARZLG</td>\n",
       "      <td>Male</td>\n",
       "      <td>0</td>\n",
       "      <td>Yes</td>\n",
       "      <td>Yes</td>\n",
       "      <td>0</td>\n",
       "      <td>Yes</td>\n",
       "      <td>No</td>\n",
       "      <td>No</td>\n",
       "      <td>No internet service</td>\n",
       "      <td>No internet service</td>\n",
       "      <td>No internet service</td>\n",
       "      <td>No internet service</td>\n",
       "      <td>No internet service</td>\n",
       "      <td>No internet service</td>\n",
       "      <td>One year</td>\n",
       "      <td>Yes</td>\n",
       "      <td>Mailed check</td>\n",
       "      <td>19.70</td>\n",
       "      <td></td>\n",
       "      <td>No</td>\n",
       "    </tr>\n",
       "    <tr>\n",
       "      <th>6670</th>\n",
       "      <td>4075-WKNIU</td>\n",
       "      <td>Female</td>\n",
       "      <td>0</td>\n",
       "      <td>Yes</td>\n",
       "      <td>Yes</td>\n",
       "      <td>0</td>\n",
       "      <td>Yes</td>\n",
       "      <td>Yes</td>\n",
       "      <td>DSL</td>\n",
       "      <td>No</td>\n",
       "      <td>Yes</td>\n",
       "      <td>Yes</td>\n",
       "      <td>Yes</td>\n",
       "      <td>Yes</td>\n",
       "      <td>No</td>\n",
       "      <td>Two year</td>\n",
       "      <td>No</td>\n",
       "      <td>Mailed check</td>\n",
       "      <td>73.35</td>\n",
       "      <td></td>\n",
       "      <td>No</td>\n",
       "    </tr>\n",
       "    <tr>\n",
       "      <th>6754</th>\n",
       "      <td>2775-SEFEE</td>\n",
       "      <td>Male</td>\n",
       "      <td>0</td>\n",
       "      <td>No</td>\n",
       "      <td>Yes</td>\n",
       "      <td>0</td>\n",
       "      <td>Yes</td>\n",
       "      <td>Yes</td>\n",
       "      <td>DSL</td>\n",
       "      <td>Yes</td>\n",
       "      <td>Yes</td>\n",
       "      <td>No</td>\n",
       "      <td>Yes</td>\n",
       "      <td>No</td>\n",
       "      <td>No</td>\n",
       "      <td>Two year</td>\n",
       "      <td>Yes</td>\n",
       "      <td>Bank transfer (automatic)</td>\n",
       "      <td>61.90</td>\n",
       "      <td></td>\n",
       "      <td>No</td>\n",
       "    </tr>\n",
       "  </tbody>\n",
       "</table>\n",
       "</div>"
      ],
      "text/plain": [
       "      customerID  gender  SeniorCitizen Partner Dependents  tenure  \\\n",
       "488   4472-LVYGI  Female              0     Yes        Yes       0   \n",
       "753   3115-CZMZD    Male              0      No        Yes       0   \n",
       "936   5709-LVOEQ  Female              0     Yes        Yes       0   \n",
       "1082  4367-NUYAO    Male              0     Yes        Yes       0   \n",
       "1340  1371-DWPAZ  Female              0     Yes        Yes       0   \n",
       "3331  7644-OMVMY    Male              0     Yes        Yes       0   \n",
       "3826  3213-VVOLG    Male              0     Yes        Yes       0   \n",
       "4380  2520-SGTTA  Female              0     Yes        Yes       0   \n",
       "5218  2923-ARZLG    Male              0     Yes        Yes       0   \n",
       "6670  4075-WKNIU  Female              0     Yes        Yes       0   \n",
       "6754  2775-SEFEE    Male              0      No        Yes       0   \n",
       "\n",
       "     PhoneService     MultipleLines InternetService       OnlineSecurity  \\\n",
       "488            No  No phone service             DSL                  Yes   \n",
       "753           Yes                No              No  No internet service   \n",
       "936           Yes                No             DSL                  Yes   \n",
       "1082          Yes               Yes              No  No internet service   \n",
       "1340           No  No phone service             DSL                  Yes   \n",
       "3331          Yes                No              No  No internet service   \n",
       "3826          Yes               Yes              No  No internet service   \n",
       "4380          Yes                No              No  No internet service   \n",
       "5218          Yes                No              No  No internet service   \n",
       "6670          Yes               Yes             DSL                   No   \n",
       "6754          Yes               Yes             DSL                  Yes   \n",
       "\n",
       "             OnlineBackup     DeviceProtection          TechSupport  \\\n",
       "488                    No                  Yes                  Yes   \n",
       "753   No internet service  No internet service  No internet service   \n",
       "936                   Yes                  Yes                   No   \n",
       "1082  No internet service  No internet service  No internet service   \n",
       "1340                  Yes                  Yes                  Yes   \n",
       "3331  No internet service  No internet service  No internet service   \n",
       "3826  No internet service  No internet service  No internet service   \n",
       "4380  No internet service  No internet service  No internet service   \n",
       "5218  No internet service  No internet service  No internet service   \n",
       "6670                  Yes                  Yes                  Yes   \n",
       "6754                  Yes                   No                  Yes   \n",
       "\n",
       "              StreamingTV      StreamingMovies  Contract PaperlessBilling  \\\n",
       "488                   Yes                   No  Two year              Yes   \n",
       "753   No internet service  No internet service  Two year               No   \n",
       "936                   Yes                  Yes  Two year               No   \n",
       "1082  No internet service  No internet service  Two year               No   \n",
       "1340                  Yes                   No  Two year               No   \n",
       "3331  No internet service  No internet service  Two year               No   \n",
       "3826  No internet service  No internet service  Two year               No   \n",
       "4380  No internet service  No internet service  Two year               No   \n",
       "5218  No internet service  No internet service  One year              Yes   \n",
       "6670                  Yes                   No  Two year               No   \n",
       "6754                   No                   No  Two year              Yes   \n",
       "\n",
       "                  PaymentMethod  MonthlyCharges TotalCharges Churn  \n",
       "488   Bank transfer (automatic)           52.55                 No  \n",
       "753                Mailed check           20.25                 No  \n",
       "936                Mailed check           80.85                 No  \n",
       "1082               Mailed check           25.75                 No  \n",
       "1340    Credit card (automatic)           56.05                 No  \n",
       "3331               Mailed check           19.85                 No  \n",
       "3826               Mailed check           25.35                 No  \n",
       "4380               Mailed check           20.00                 No  \n",
       "5218               Mailed check           19.70                 No  \n",
       "6670               Mailed check           73.35                 No  \n",
       "6754  Bank transfer (automatic)           61.90                 No  "
      ]
     },
     "execution_count": 163,
     "metadata": {},
     "output_type": "execute_result"
    }
   ],
   "source": [
    "non_numeric_rows = df[pd.to_numeric(df[\"TotalCharges\"], errors=\"coerce\").isna()]\n",
    "non_numeric_rows\n"
   ]
  },
  {
   "cell_type": "code",
   "execution_count": 164,
   "id": "8c5a472b-908c-43a0-9b9d-c06fa7f7bf1b",
   "metadata": {},
   "outputs": [],
   "source": [
    "df[\"TotalCharges\"] = pd.to_numeric(df[\"TotalCharges\"], errors=\"coerce\")\n"
   ]
  },
  {
   "cell_type": "code",
   "execution_count": 165,
   "id": "002bfebc-ed45-4245-a894-f8793d987266",
   "metadata": {},
   "outputs": [
    {
     "data": {
      "text/plain": [
       "customerID           0\n",
       "gender               0\n",
       "SeniorCitizen        0\n",
       "Partner              0\n",
       "Dependents           0\n",
       "tenure               0\n",
       "PhoneService         0\n",
       "MultipleLines        0\n",
       "InternetService      0\n",
       "OnlineSecurity       0\n",
       "OnlineBackup         0\n",
       "DeviceProtection     0\n",
       "TechSupport          0\n",
       "StreamingTV          0\n",
       "StreamingMovies      0\n",
       "Contract             0\n",
       "PaperlessBilling     0\n",
       "PaymentMethod        0\n",
       "MonthlyCharges       0\n",
       "TotalCharges        11\n",
       "Churn                0\n",
       "dtype: int64"
      ]
     },
     "execution_count": 165,
     "metadata": {},
     "output_type": "execute_result"
    }
   ],
   "source": [
    "df.isna().sum()"
   ]
  },
  {
   "cell_type": "code",
   "execution_count": 166,
   "id": "819268fe-c960-4498-a1d1-603d87c0a4e4",
   "metadata": {},
   "outputs": [
    {
     "name": "stderr",
     "output_type": "stream",
     "text": [
      "C:\\Users\\User\\AppData\\Local\\Temp\\ipykernel_11276\\1434224719.py:4: FutureWarning: A value is trying to be set on a copy of a DataFrame or Series through chained assignment using an inplace method.\n",
      "The behavior will change in pandas 3.0. This inplace method will never work because the intermediate object on which we are setting values always behaves as a copy.\n",
      "\n",
      "For example, when doing 'df[col].method(value, inplace=True)', try using 'df.method({col: value}, inplace=True)' or df[col] = df[col].method(value) instead, to perform the operation inplace on the original object.\n",
      "\n",
      "\n",
      "  df[\"TotalCharges\"].fillna(0, inplace=True)\n"
     ]
    }
   ],
   "source": [
    "# Replace ('  ') to 0\n",
    "import numpy as np\n",
    "\n",
    "df[\"TotalCharges\"].fillna(0, inplace=True)\n"
   ]
  },
  {
   "cell_type": "code",
   "execution_count": 167,
   "id": "48395a69-3ff7-4178-8be8-229b43049153",
   "metadata": {},
   "outputs": [
    {
     "data": {
      "text/plain": [
       "customerID          0\n",
       "gender              0\n",
       "SeniorCitizen       0\n",
       "Partner             0\n",
       "Dependents          0\n",
       "tenure              0\n",
       "PhoneService        0\n",
       "MultipleLines       0\n",
       "InternetService     0\n",
       "OnlineSecurity      0\n",
       "OnlineBackup        0\n",
       "DeviceProtection    0\n",
       "TechSupport         0\n",
       "StreamingTV         0\n",
       "StreamingMovies     0\n",
       "Contract            0\n",
       "PaperlessBilling    0\n",
       "PaymentMethod       0\n",
       "MonthlyCharges      0\n",
       "TotalCharges        0\n",
       "Churn               0\n",
       "dtype: int64"
      ]
     },
     "execution_count": 167,
     "metadata": {},
     "output_type": "execute_result"
    }
   ],
   "source": [
    "df.isna().sum()"
   ]
  },
  {
   "cell_type": "code",
   "execution_count": null,
   "id": "b055bb31-a627-4ae9-8c38-296d28e43d7e",
   "metadata": {},
   "outputs": [],
   "source": []
  },
  {
   "cell_type": "code",
   "execution_count": null,
   "id": "7fd52583-2ebe-423d-8393-3a1d64163160",
   "metadata": {},
   "outputs": [],
   "source": []
  },
  {
   "cell_type": "code",
   "execution_count": null,
   "id": "fd61a6ab-c5b2-4f0d-8219-4ad99fcca2b3",
   "metadata": {},
   "outputs": [],
   "source": []
  },
  {
   "cell_type": "code",
   "execution_count": 168,
   "id": "b362e554-966e-4056-a6a0-93e273728545",
   "metadata": {},
   "outputs": [
    {
     "data": {
      "image/png": "[encoded data removed]",
      "text/plain": [
       "<Figure size 1400x1200 with 4 Axes>"
      ]
     },
     "metadata": {},
     "output_type": "display_data"
    }
   ],
   "source": [
    "sns.set_style(\"darkgrid\")\n",
    "\n",
    "# Identify numerical columns\n",
    "numerical_columns = df.select_dtypes(include=[\"int64\", \"float64\"]).columns\n",
    "\n",
    "# Plot distribution of each numerical feature\n",
    "plt.figure(figsize=(14, len(numerical_columns) * 3))\n",
    "for idx, feature in enumerate(numerical_columns, 1):\n",
    "    plt.subplot(len(numerical_columns), 3, idx)\n",
    "    sns.histplot(df[feature], kde=True)\n",
    "    plt.title(f\"{feature} | Skewness: {round(df[feature].skew(), 2)}\")\n",
    "\n",
    "# Adjust layout and show plots\n",
    "plt.tight_layout()\n",
    "plt.show()"
   ]
  },
  {
   "cell_type": "code",
   "execution_count": 169,
   "id": "cdc4a586-c912-4bf0-873c-1826817f0dec",
   "metadata": {},
   "outputs": [
    {
     "data": {
      "text/html": [
       "<div>\n",
       "<style scoped>\n",
       "    .dataframe tbody tr th:only-of-type {\n",
       "        vertical-align: middle;\n",
       "    }\n",
       "\n",
       "    .dataframe tbody tr th {\n",
       "        vertical-align: top;\n",
       "    }\n",
       "\n",
       "    .dataframe thead th {\n",
       "        text-align: right;\n",
       "    }\n",
       "</style>\n",
       "<table border=\"1\" class=\"dataframe\">\n",
       "  <thead>\n",
       "    <tr style=\"text-align: right;\">\n",
       "      <th></th>\n",
       "      <th>SeniorCitizen</th>\n",
       "      <th>tenure</th>\n",
       "      <th>MonthlyCharges</th>\n",
       "      <th>TotalCharges</th>\n",
       "    </tr>\n",
       "  </thead>\n",
       "  <tbody>\n",
       "    <tr>\n",
       "      <th>count</th>\n",
       "      <td>7043.000000</td>\n",
       "      <td>7043.000000</td>\n",
       "      <td>7043.000000</td>\n",
       "      <td>7043.000000</td>\n",
       "    </tr>\n",
       "    <tr>\n",
       "      <th>mean</th>\n",
       "      <td>0.162147</td>\n",
       "      <td>32.371149</td>\n",
       "      <td>64.761692</td>\n",
       "      <td>2279.734304</td>\n",
       "    </tr>\n",
       "    <tr>\n",
       "      <th>std</th>\n",
       "      <td>0.368612</td>\n",
       "      <td>24.559481</td>\n",
       "      <td>30.090047</td>\n",
       "      <td>2266.794470</td>\n",
       "    </tr>\n",
       "    <tr>\n",
       "      <th>min</th>\n",
       "      <td>0.000000</td>\n",
       "      <td>0.000000</td>\n",
       "      <td>18.250000</td>\n",
       "      <td>0.000000</td>\n",
       "    </tr>\n",
       "    <tr>\n",
       "      <th>25%</th>\n",
       "      <td>0.000000</td>\n",
       "      <td>9.000000</td>\n",
       "      <td>35.500000</td>\n",
       "      <td>398.550000</td>\n",
       "    </tr>\n",
       "    <tr>\n",
       "      <th>50%</th>\n",
       "      <td>0.000000</td>\n",
       "      <td>29.000000</td>\n",
       "      <td>70.350000</td>\n",
       "      <td>1394.550000</td>\n",
       "    </tr>\n",
       "    <tr>\n",
       "      <th>75%</th>\n",
       "      <td>0.000000</td>\n",
       "      <td>55.000000</td>\n",
       "      <td>89.850000</td>\n",
       "      <td>3786.600000</td>\n",
       "    </tr>\n",
       "    <tr>\n",
       "      <th>max</th>\n",
       "      <td>1.000000</td>\n",
       "      <td>72.000000</td>\n",
       "      <td>118.750000</td>\n",
       "      <td>8684.800000</td>\n",
       "    </tr>\n",
       "  </tbody>\n",
       "</table>\n",
       "</div>"
      ],
      "text/plain": [
       "       SeniorCitizen       tenure  MonthlyCharges  TotalCharges\n",
       "count    7043.000000  7043.000000     7043.000000   7043.000000\n",
       "mean        0.162147    32.371149       64.761692   2279.734304\n",
       "std         0.368612    24.559481       30.090047   2266.794470\n",
       "min         0.000000     0.000000       18.250000      0.000000\n",
       "25%         0.000000     9.000000       35.500000    398.550000\n",
       "50%         0.000000    29.000000       70.350000   1394.550000\n",
       "75%         0.000000    55.000000       89.850000   3786.600000\n",
       "max         1.000000    72.000000      118.750000   8684.800000"
      ]
     },
     "execution_count": 169,
     "metadata": {},
     "output_type": "execute_result"
    }
   ],
   "source": [
    "df.describe()"
   ]
  },
  {
   "cell_type": "code",
   "execution_count": null,
   "id": "666f68dd-87e6-4a40-9ef1-1e5e27d7803b",
   "metadata": {},
   "outputs": [],
   "source": []
  },
  {
   "cell_type": "markdown",
   "id": "e8fa7a96-6ccf-4b86-882a-b045bf5be938",
   "metadata": {},
   "source": [
    "## Drop the not relevant column for analysis (Customer id)"
   ]
  },
  {
   "cell_type": "code",
   "execution_count": 170,
   "id": "e42d1312-3eaa-44bc-98c0-76cf709d02ee",
   "metadata": {},
   "outputs": [],
   "source": [
    "df1 = df.copy()\n",
    "\n",
    "df1.drop(['customerID'],axis = 1, inplace = True)"
   ]
  },
  {
   "cell_type": "code",
   "execution_count": 171,
   "id": "f5472b93-8349-432a-8bcb-f9550cc63759",
   "metadata": {},
   "outputs": [
    {
     "data": {
      "text/plain": [
       "(7043, 20)"
      ]
     },
     "execution_count": 171,
     "metadata": {},
     "output_type": "execute_result"
    }
   ],
   "source": [
    "df1.shape"
   ]
  },
  {
   "cell_type": "code",
   "execution_count": 172,
   "id": "b240e916-e738-4e42-8402-8fcc32df18f2",
   "metadata": {},
   "outputs": [
    {
     "data": {
      "text/html": [
       "<div>\n",
       "<style scoped>\n",
       "    .dataframe tbody tr th:only-of-type {\n",
       "        vertical-align: middle;\n",
       "    }\n",
       "\n",
       "    .dataframe tbody tr th {\n",
       "        vertical-align: top;\n",
       "    }\n",
       "\n",
       "    .dataframe thead th {\n",
       "        text-align: right;\n",
       "    }\n",
       "</style>\n",
       "<table border=\"1\" class=\"dataframe\">\n",
       "  <thead>\n",
       "    <tr style=\"text-align: right;\">\n",
       "      <th></th>\n",
       "      <th>gender</th>\n",
       "      <th>SeniorCitizen</th>\n",
       "      <th>Partner</th>\n",
       "      <th>Dependents</th>\n",
       "      <th>tenure</th>\n",
       "      <th>PhoneService</th>\n",
       "      <th>MultipleLines</th>\n",
       "      <th>InternetService</th>\n",
       "      <th>OnlineSecurity</th>\n",
       "      <th>OnlineBackup</th>\n",
       "      <th>DeviceProtection</th>\n",
       "      <th>TechSupport</th>\n",
       "      <th>StreamingTV</th>\n",
       "      <th>StreamingMovies</th>\n",
       "      <th>Contract</th>\n",
       "      <th>PaperlessBilling</th>\n",
       "      <th>PaymentMethod</th>\n",
       "      <th>MonthlyCharges</th>\n",
       "      <th>TotalCharges</th>\n",
       "      <th>Churn</th>\n",
       "    </tr>\n",
       "  </thead>\n",
       "  <tbody>\n",
       "    <tr>\n",
       "      <th>0</th>\n",
       "      <td>Female</td>\n",
       "      <td>0</td>\n",
       "      <td>Yes</td>\n",
       "      <td>No</td>\n",
       "      <td>1</td>\n",
       "      <td>No</td>\n",
       "      <td>No phone service</td>\n",
       "      <td>DSL</td>\n",
       "      <td>No</td>\n",
       "      <td>Yes</td>\n",
       "      <td>No</td>\n",
       "      <td>No</td>\n",
       "      <td>No</td>\n",
       "      <td>No</td>\n",
       "      <td>Month-to-month</td>\n",
       "      <td>Yes</td>\n",
       "      <td>Electronic check</td>\n",
       "      <td>29.85</td>\n",
       "      <td>29.85</td>\n",
       "      <td>No</td>\n",
       "    </tr>\n",
       "  </tbody>\n",
       "</table>\n",
       "</div>"
      ],
      "text/plain": [
       "   gender  SeniorCitizen Partner Dependents  tenure PhoneService  \\\n",
       "0  Female              0     Yes         No       1           No   \n",
       "\n",
       "      MultipleLines InternetService OnlineSecurity OnlineBackup  \\\n",
       "0  No phone service             DSL             No          Yes   \n",
       "\n",
       "  DeviceProtection TechSupport StreamingTV StreamingMovies        Contract  \\\n",
       "0               No          No          No              No  Month-to-month   \n",
       "\n",
       "  PaperlessBilling     PaymentMethod  MonthlyCharges  TotalCharges Churn  \n",
       "0              Yes  Electronic check           29.85         29.85    No  "
      ]
     },
     "execution_count": 172,
     "metadata": {},
     "output_type": "execute_result"
    }
   ],
   "source": [
    "df1.head(1)"
   ]
  },
  {
   "cell_type": "markdown",
   "id": "6e322249-5648-4b9c-ba3a-128bac267187",
   "metadata": {},
   "source": [
    "## Eccoding to do feature Importance"
   ]
  },
  {
   "cell_type": "code",
   "execution_count": 173,
   "id": "18a66b9e-179f-4569-b10e-e7d25ad27881",
   "metadata": {},
   "outputs": [
    {
     "data": {
      "text/html": [
       "<div>\n",
       "<style scoped>\n",
       "    .dataframe tbody tr th:only-of-type {\n",
       "        vertical-align: middle;\n",
       "    }\n",
       "\n",
       "    .dataframe tbody tr th {\n",
       "        vertical-align: top;\n",
       "    }\n",
       "\n",
       "    .dataframe thead th {\n",
       "        text-align: right;\n",
       "    }\n",
       "</style>\n",
       "<table border=\"1\" class=\"dataframe\">\n",
       "  <thead>\n",
       "    <tr style=\"text-align: right;\">\n",
       "      <th></th>\n",
       "      <th>gender</th>\n",
       "      <th>SeniorCitizen</th>\n",
       "      <th>Partner</th>\n",
       "      <th>Dependents</th>\n",
       "      <th>tenure</th>\n",
       "      <th>PhoneService</th>\n",
       "      <th>MultipleLines</th>\n",
       "      <th>InternetService</th>\n",
       "      <th>OnlineSecurity</th>\n",
       "      <th>OnlineBackup</th>\n",
       "      <th>DeviceProtection</th>\n",
       "      <th>TechSupport</th>\n",
       "      <th>StreamingTV</th>\n",
       "      <th>StreamingMovies</th>\n",
       "      <th>Contract</th>\n",
       "      <th>PaperlessBilling</th>\n",
       "      <th>PaymentMethod</th>\n",
       "      <th>MonthlyCharges</th>\n",
       "      <th>TotalCharges</th>\n",
       "      <th>Churn</th>\n",
       "    </tr>\n",
       "  </thead>\n",
       "  <tbody>\n",
       "    <tr>\n",
       "      <th>0</th>\n",
       "      <td>0</td>\n",
       "      <td>0</td>\n",
       "      <td>1</td>\n",
       "      <td>0</td>\n",
       "      <td>1</td>\n",
       "      <td>0</td>\n",
       "      <td>1</td>\n",
       "      <td>0</td>\n",
       "      <td>0</td>\n",
       "      <td>2</td>\n",
       "      <td>0</td>\n",
       "      <td>0</td>\n",
       "      <td>0</td>\n",
       "      <td>0</td>\n",
       "      <td>0</td>\n",
       "      <td>1</td>\n",
       "      <td>2</td>\n",
       "      <td>29.85</td>\n",
       "      <td>29.85</td>\n",
       "      <td>0</td>\n",
       "    </tr>\n",
       "    <tr>\n",
       "      <th>1</th>\n",
       "      <td>1</td>\n",
       "      <td>0</td>\n",
       "      <td>0</td>\n",
       "      <td>0</td>\n",
       "      <td>34</td>\n",
       "      <td>1</td>\n",
       "      <td>0</td>\n",
       "      <td>0</td>\n",
       "      <td>2</td>\n",
       "      <td>0</td>\n",
       "      <td>2</td>\n",
       "      <td>0</td>\n",
       "      <td>0</td>\n",
       "      <td>0</td>\n",
       "      <td>1</td>\n",
       "      <td>0</td>\n",
       "      <td>3</td>\n",
       "      <td>56.95</td>\n",
       "      <td>1889.50</td>\n",
       "      <td>0</td>\n",
       "    </tr>\n",
       "  </tbody>\n",
       "</table>\n",
       "</div>"
      ],
      "text/plain": [
       "   gender  SeniorCitizen  Partner  Dependents  tenure  PhoneService  \\\n",
       "0       0              0        1           0       1             0   \n",
       "1       1              0        0           0      34             1   \n",
       "\n",
       "   MultipleLines  InternetService  OnlineSecurity  OnlineBackup  \\\n",
       "0              1                0               0             2   \n",
       "1              0                0               2             0   \n",
       "\n",
       "   DeviceProtection  TechSupport  StreamingTV  StreamingMovies  Contract  \\\n",
       "0                 0            0            0                0         0   \n",
       "1                 2            0            0                0         1   \n",
       "\n",
       "   PaperlessBilling  PaymentMethod  MonthlyCharges  TotalCharges  Churn  \n",
       "0                 1              2           29.85         29.85      0  \n",
       "1                 0              3           56.95       1889.50      0  "
      ]
     },
     "execution_count": 173,
     "metadata": {},
     "output_type": "execute_result"
    }
   ],
   "source": [
    "from sklearn.preprocessing import LabelEncoder\n",
    "\n",
    "\n",
    "categorical_features = df1.select_dtypes(include=['object']).columns\n",
    "\n",
    "label_encoder = LabelEncoder()\n",
    "\n",
    "\n",
    "for feature in categorical_features:\n",
    "    df1[feature] = label_encoder.fit_transform(df1[feature])\n",
    "\n",
    "df1.head(2)\n",
    "\n"
   ]
  },
  {
   "cell_type": "code",
   "execution_count": 174,
   "id": "57f68b3a-53ea-48fa-96f8-10d93e6b60d4",
   "metadata": {},
   "outputs": [
    {
     "data": {
      "text/plain": [
       "(7043, 20)"
      ]
     },
     "execution_count": 174,
     "metadata": {},
     "output_type": "execute_result"
    }
   ],
   "source": [
    "df1.shape"
   ]
  },
  {
   "cell_type": "markdown",
   "id": "4f2a70e6-6ce2-47aa-a115-fd0ab3cc11c5",
   "metadata": {},
   "source": [
    "## Scalling\n",
    "- Standarscaler"
   ]
  },
  {
   "cell_type": "code",
   "execution_count": 175,
   "id": "04d2ec53-67fd-453e-a7ef-7ffa7e3e648d",
   "metadata": {},
   "outputs": [
    {
     "data": {
      "text/html": [
       "<div>\n",
       "<style scoped>\n",
       "    .dataframe tbody tr th:only-of-type {\n",
       "        vertical-align: middle;\n",
       "    }\n",
       "\n",
       "    .dataframe tbody tr th {\n",
       "        vertical-align: top;\n",
       "    }\n",
       "\n",
       "    .dataframe thead th {\n",
       "        text-align: right;\n",
       "    }\n",
       "</style>\n",
       "<table border=\"1\" class=\"dataframe\">\n",
       "  <thead>\n",
       "    <tr style=\"text-align: right;\">\n",
       "      <th></th>\n",
       "      <th>gender</th>\n",
       "      <th>SeniorCitizen</th>\n",
       "      <th>Partner</th>\n",
       "      <th>Dependents</th>\n",
       "      <th>tenure</th>\n",
       "      <th>PhoneService</th>\n",
       "      <th>MultipleLines</th>\n",
       "      <th>InternetService</th>\n",
       "      <th>OnlineSecurity</th>\n",
       "      <th>OnlineBackup</th>\n",
       "      <th>DeviceProtection</th>\n",
       "      <th>TechSupport</th>\n",
       "      <th>StreamingTV</th>\n",
       "      <th>StreamingMovies</th>\n",
       "      <th>Contract</th>\n",
       "      <th>PaperlessBilling</th>\n",
       "      <th>PaymentMethod</th>\n",
       "      <th>MonthlyCharges</th>\n",
       "      <th>TotalCharges</th>\n",
       "      <th>Churn</th>\n",
       "    </tr>\n",
       "  </thead>\n",
       "  <tbody>\n",
       "    <tr>\n",
       "      <th>0</th>\n",
       "      <td>0</td>\n",
       "      <td>0</td>\n",
       "      <td>1</td>\n",
       "      <td>0</td>\n",
       "      <td>-1.277445</td>\n",
       "      <td>0</td>\n",
       "      <td>1</td>\n",
       "      <td>0</td>\n",
       "      <td>0</td>\n",
       "      <td>2</td>\n",
       "      <td>0</td>\n",
       "      <td>0</td>\n",
       "      <td>0</td>\n",
       "      <td>0</td>\n",
       "      <td>0</td>\n",
       "      <td>1</td>\n",
       "      <td>2</td>\n",
       "      <td>-1.160323</td>\n",
       "      <td>-0.992611</td>\n",
       "      <td>0</td>\n",
       "    </tr>\n",
       "    <tr>\n",
       "      <th>1</th>\n",
       "      <td>1</td>\n",
       "      <td>0</td>\n",
       "      <td>0</td>\n",
       "      <td>0</td>\n",
       "      <td>0.066327</td>\n",
       "      <td>1</td>\n",
       "      <td>0</td>\n",
       "      <td>0</td>\n",
       "      <td>2</td>\n",
       "      <td>0</td>\n",
       "      <td>2</td>\n",
       "      <td>0</td>\n",
       "      <td>0</td>\n",
       "      <td>0</td>\n",
       "      <td>1</td>\n",
       "      <td>0</td>\n",
       "      <td>3</td>\n",
       "      <td>-0.259629</td>\n",
       "      <td>-0.172165</td>\n",
       "      <td>0</td>\n",
       "    </tr>\n",
       "    <tr>\n",
       "      <th>2</th>\n",
       "      <td>1</td>\n",
       "      <td>0</td>\n",
       "      <td>0</td>\n",
       "      <td>0</td>\n",
       "      <td>-1.236724</td>\n",
       "      <td>1</td>\n",
       "      <td>0</td>\n",
       "      <td>0</td>\n",
       "      <td>2</td>\n",
       "      <td>2</td>\n",
       "      <td>0</td>\n",
       "      <td>0</td>\n",
       "      <td>0</td>\n",
       "      <td>0</td>\n",
       "      <td>0</td>\n",
       "      <td>1</td>\n",
       "      <td>3</td>\n",
       "      <td>-0.362660</td>\n",
       "      <td>-0.958066</td>\n",
       "      <td>1</td>\n",
       "    </tr>\n",
       "    <tr>\n",
       "      <th>3</th>\n",
       "      <td>1</td>\n",
       "      <td>0</td>\n",
       "      <td>0</td>\n",
       "      <td>0</td>\n",
       "      <td>0.514251</td>\n",
       "      <td>0</td>\n",
       "      <td>1</td>\n",
       "      <td>0</td>\n",
       "      <td>2</td>\n",
       "      <td>0</td>\n",
       "      <td>2</td>\n",
       "      <td>2</td>\n",
       "      <td>0</td>\n",
       "      <td>0</td>\n",
       "      <td>1</td>\n",
       "      <td>0</td>\n",
       "      <td>0</td>\n",
       "      <td>-0.746535</td>\n",
       "      <td>-0.193672</td>\n",
       "      <td>0</td>\n",
       "    </tr>\n",
       "    <tr>\n",
       "      <th>4</th>\n",
       "      <td>0</td>\n",
       "      <td>0</td>\n",
       "      <td>0</td>\n",
       "      <td>0</td>\n",
       "      <td>-1.236724</td>\n",
       "      <td>1</td>\n",
       "      <td>0</td>\n",
       "      <td>1</td>\n",
       "      <td>0</td>\n",
       "      <td>0</td>\n",
       "      <td>0</td>\n",
       "      <td>0</td>\n",
       "      <td>0</td>\n",
       "      <td>0</td>\n",
       "      <td>0</td>\n",
       "      <td>1</td>\n",
       "      <td>2</td>\n",
       "      <td>0.197365</td>\n",
       "      <td>-0.938874</td>\n",
       "      <td>1</td>\n",
       "    </tr>\n",
       "  </tbody>\n",
       "</table>\n",
       "</div>"
      ],
      "text/plain": [
       "   gender  SeniorCitizen  Partner  Dependents    tenure  PhoneService  \\\n",
       "0       0              0        1           0 -1.277445             0   \n",
       "1       1              0        0           0  0.066327             1   \n",
       "2       1              0        0           0 -1.236724             1   \n",
       "3       1              0        0           0  0.514251             0   \n",
       "4       0              0        0           0 -1.236724             1   \n",
       "\n",
       "   MultipleLines  InternetService  OnlineSecurity  OnlineBackup  \\\n",
       "0              1                0               0             2   \n",
       "1              0                0               2             0   \n",
       "2              0                0               2             2   \n",
       "3              1                0               2             0   \n",
       "4              0                1               0             0   \n",
       "\n",
       "   DeviceProtection  TechSupport  StreamingTV  StreamingMovies  Contract  \\\n",
       "0                 0            0            0                0         0   \n",
       "1                 2            0            0                0         1   \n",
       "2                 0            0            0                0         0   \n",
       "3                 2            2            0                0         1   \n",
       "4                 0            0            0                0         0   \n",
       "\n",
       "   PaperlessBilling  PaymentMethod  MonthlyCharges  TotalCharges  Churn  \n",
       "0                 1              2       -1.160323     -0.992611      0  \n",
       "1                 0              3       -0.259629     -0.172165      0  \n",
       "2                 1              3       -0.362660     -0.958066      1  \n",
       "3                 0              0       -0.746535     -0.193672      0  \n",
       "4                 1              2        0.197365     -0.938874      1  "
      ]
     },
     "execution_count": 175,
     "metadata": {},
     "output_type": "execute_result"
    }
   ],
   "source": [
    "from sklearn.preprocessing import StandardScaler\n",
    "\n",
    "# Salin DataFrame asal\n",
    "df_scaled = df1.copy()\n",
    "\n",
    "# Inisialisasi StandardScaler\n",
    "scaler = StandardScaler()\n",
    "\n",
    "# Ciri numerik yang perlu diskalakan\n",
    "numerical_features = ['tenure', 'MonthlyCharges', 'TotalCharges']\n",
    "\n",
    "# Lakukan penyesuaian skala hanya pada ciri yang dipilih\n",
    "df_scaled[numerical_features] = scaler.fit_transform(df1[numerical_features])\n",
    "\n",
    "# Paparkan DataFrame yang telah diskala\n",
    "df_scaled.head()\n"
   ]
  },
  {
   "cell_type": "code",
   "execution_count": null,
   "id": "5742f394-1a8d-4ac8-960a-e26e5f3537a3",
   "metadata": {},
   "outputs": [],
   "source": []
  },
  {
   "cell_type": "code",
   "execution_count": null,
   "id": "31f8c0d9-f971-4a69-b5a2-4e1a814ca332",
   "metadata": {},
   "outputs": [],
   "source": []
  },
  {
   "cell_type": "code",
   "execution_count": null,
   "id": "9117ce18-59f9-4606-bf5a-b107ddc78593",
   "metadata": {},
   "outputs": [],
   "source": []
  },
  {
   "cell_type": "markdown",
   "id": "f102581d-d24f-451b-8001-4830568f702a",
   "metadata": {},
   "source": [
    "## Run model Random forest \n",
    "- Run train and Test report"
   ]
  },
  {
   "cell_type": "code",
   "execution_count": 176,
   "id": "1fd1caf1-36f2-450d-b605-8d957df05c17",
   "metadata": {},
   "outputs": [],
   "source": [
    "from sklearn.ensemble import RandomForestClassifier\n",
    "from sklearn.model_selection import train_test_split\n",
    "from sklearn.metrics import classification_report, accuracy_score\n",
    "import pandas as pd\n",
    "import numpy as np\n",
    "import matplotlib.pyplot as plt\n",
    "\n",
    "# Pisahkan ciri (X) dan label (y)\n",
    "X = df_scaled.drop('Churn', axis=1)  # 'Attrition' adalah target\n",
    "y = df_scaled['Churn']\n",
    "\n",
    "# Bahagikan data kepada set latihan dan set ujian\n",
    "X_train, X_test, y_train, y_test = train_test_split(X, y, test_size=0.2, random_state=42, stratify=y)\n",
    "\n",
    "\n"
   ]
  },
  {
   "cell_type": "code",
   "execution_count": 177,
   "id": "3def1bcc-757c-47ef-bd71-90141228dc10",
   "metadata": {},
   "outputs": [
    {
     "data": {
      "text/plain": [
       "(5634, 19)"
      ]
     },
     "execution_count": 177,
     "metadata": {},
     "output_type": "execute_result"
    }
   ],
   "source": [
    "X_train.shape"
   ]
  },
  {
   "cell_type": "code",
   "execution_count": 178,
   "id": "39576fbe-647f-428a-b994-95aa0d4b0e56",
   "metadata": {},
   "outputs": [
    {
     "data": {
      "text/plain": [
       "(1409, 19)"
      ]
     },
     "execution_count": 178,
     "metadata": {},
     "output_type": "execute_result"
    }
   ],
   "source": [
    " X_test.shape"
   ]
  },
  {
   "cell_type": "code",
   "execution_count": 179,
   "id": "6838e2c5-016a-4d17-8000-9c21bcf6a90d",
   "metadata": {},
   "outputs": [
    {
     "data": {
      "text/plain": [
       "Churn\n",
       "0    4139\n",
       "1    1495\n",
       "Name: count, dtype: int64"
      ]
     },
     "execution_count": 179,
     "metadata": {},
     "output_type": "execute_result"
    }
   ],
   "source": [
    "y_train.value_counts()"
   ]
  },
  {
   "cell_type": "code",
   "execution_count": 180,
   "id": "5b0b0d8f-69b5-481b-90df-06e58de9915f",
   "metadata": {},
   "outputs": [
    {
     "data": {
      "text/plain": [
       "Churn\n",
       "0    1035\n",
       "1     374\n",
       "Name: count, dtype: int64"
      ]
     },
     "execution_count": 180,
     "metadata": {},
     "output_type": "execute_result"
    }
   ],
   "source": [
    "y_test.value_counts()"
   ]
  },
  {
   "cell_type": "code",
   "execution_count": 181,
   "id": "3fcc9dd4-3819-4977-8a43-d92c16b6bd8c",
   "metadata": {},
   "outputs": [
    {
     "name": "stdout",
     "output_type": "stream",
     "text": [
      "\n",
      "=== Performance on Train Set ===\n",
      "Accuracy (Train): 0.9980475683351083\n",
      "\n",
      "Classification Report (Train):\n",
      "              precision    recall  f1-score   support\n",
      "\n",
      "           0       1.00      1.00      1.00      4139\n",
      "           1       1.00      1.00      1.00      1495\n",
      "\n",
      "    accuracy                           1.00      5634\n",
      "   macro avg       1.00      1.00      1.00      5634\n",
      "weighted avg       1.00      1.00      1.00      5634\n",
      "\n",
      " \n",
      "----------------------------------------------------------------------\n",
      " \n",
      "=== Performance on Test Set ===\n",
      "Accuracy (Test): 0.7934705464868701\n",
      "\n",
      "Classification Report (Test):\n",
      "              precision    recall  f1-score   support\n",
      "\n",
      "           0       0.84      0.90      0.86      1035\n",
      "           1       0.64      0.51      0.57       374\n",
      "\n",
      "    accuracy                           0.79      1409\n",
      "   macro avg       0.74      0.70      0.72      1409\n",
      "weighted avg       0.78      0.79      0.79      1409\n",
      "\n"
     ]
    }
   ],
   "source": [
    "# Latih model Random Forest\n",
    "rf_model = RandomForestClassifier(random_state=42)\n",
    "rf_model.fit(X_train, y_train)\n",
    "\n",
    "# Ramal pada data ujian\n",
    "y_test_pred = rf_model.predict(X_test)\n",
    "y_train_pred = rf_model.predict(X_train)\n",
    "\n",
    "\n",
    "# Laporan prestasi untuk set latihan\n",
    "print(\"\\n=== Performance on Train Set ===\")\n",
    "print(\"Accuracy (Train):\", accuracy_score(y_train, y_train_pred))\n",
    "print(\"\\nClassification Report (Train):\")\n",
    "print(classification_report(y_train, y_train_pred))\n",
    "\n",
    "print(' ')\n",
    "print('--------------'*5)\n",
    "print(' ')\n",
    "\n",
    "\n",
    "# Laporan prestasi untuk set ujian\n",
    "print(\"=== Performance on Test Set ===\")\n",
    "print(\"Accuracy (Test):\", accuracy_score(y_test, y_test_pred))\n",
    "print(\"\\nClassification Report (Test):\")\n",
    "print(classification_report(y_test, y_test_pred))\n",
    "\n"
   ]
  },
  {
   "cell_type": "markdown",
   "id": "6826c344-4dee-4df8-9599-7d7c63fdd9a0",
   "metadata": {},
   "source": [
    "# Tune"
   ]
  },
  {
   "cell_type": "code",
   "execution_count": 182,
   "id": "258ccc53-f57e-403a-b1f3-bdfdf0943156",
   "metadata": {},
   "outputs": [
    {
     "name": "stdout",
     "output_type": "stream",
     "text": [
      "Fitting 5 folds for each of 72 candidates, totalling 360 fits\n",
      "Best Parameters: {'max_depth': 15, 'min_samples_leaf': 5, 'min_samples_split': 15, 'n_estimators': 100}\n",
      "\n",
      "Cross-Validation Scores: [0.78881988 0.79591837 0.77373558 0.78172138 0.75488455]\n",
      "Mean CV Accuracy: 0.7790159511174923\n",
      "\n",
      "=== Performance on Train Set ===\n",
      "Accuracy (Train): 0.844337948171814\n",
      "\n",
      "Classification Report (Train):\n",
      "              precision    recall  f1-score   support\n",
      "\n",
      "           0       0.94      0.84      0.89      4139\n",
      "           1       0.66      0.86      0.75      1495\n",
      "\n",
      "    accuracy                           0.84      5634\n",
      "   macro avg       0.80      0.85      0.82      5634\n",
      "weighted avg       0.87      0.84      0.85      5634\n",
      "\n",
      "\n",
      "=== Performance on Test Set ===\n",
      "Accuracy (Test): 0.7693399574166075\n",
      "\n",
      "Classification Report (Test):\n",
      "              precision    recall  f1-score   support\n",
      "\n",
      "           0       0.89      0.78      0.83      1035\n",
      "           1       0.55      0.74      0.63       374\n",
      "\n",
      "    accuracy                           0.77      1409\n",
      "   macro avg       0.72      0.76      0.73      1409\n",
      "weighted avg       0.80      0.77      0.78      1409\n",
      "\n",
      "\n",
      "=== Feature Importance ===\n",
      "             Feature  Importance\n",
      "14          Contract    0.189816\n",
      "4             tenure    0.148057\n",
      "18      TotalCharges    0.118554\n",
      "17    MonthlyCharges    0.112372\n",
      "8     OnlineSecurity    0.090211\n",
      "11       TechSupport    0.085835\n",
      "7    InternetService    0.049313\n",
      "16     PaymentMethod    0.040716\n",
      "9       OnlineBackup    0.030801\n",
      "15  PaperlessBilling    0.021148\n",
      "10  DeviceProtection    0.018859\n",
      "6      MultipleLines    0.015360\n",
      "0             gender    0.014597\n",
      "3         Dependents    0.013394\n",
      "12       StreamingTV    0.012995\n",
      "13   StreamingMovies    0.012800\n",
      "2            Partner    0.011877\n",
      "1      SeniorCitizen    0.008409\n",
      "5       PhoneService    0.004887\n"
     ]
    },
    {
     "data": {
      "image/png": "[encoded data removed]",
      "text/plain": [
       "<Figure size 1000x600 with 1 Axes>"
      ]
     },
     "metadata": {},
     "output_type": "display_data"
    }
   ],
   "source": [
    "from sklearn.ensemble import RandomForestClassifier\n",
    "from sklearn.model_selection import GridSearchCV, cross_val_score, train_test_split\n",
    "from sklearn.metrics import accuracy_score, classification_report\n",
    "import matplotlib.pyplot as plt\n",
    "\n",
    "\n",
    "# Model Random Forest dengan hyperparameter tuning\n",
    "rf = RandomForestClassifier(random_state=42, class_weight=\"balanced\")\n",
    "\n",
    "# Hyperparameter grid\n",
    "param_grid = {\n",
    "    'n_estimators': [50, 100, 150],\n",
    "    'max_depth': [None, 5, 10, 15],\n",
    "    'min_samples_split': [5, 10, 15],\n",
    "    'min_samples_leaf': [5, 10]\n",
    "}\n",
    "\n",
    "# GridSearchCV untuk mencari parameter terbaik\n",
    "grid_search = GridSearchCV(estimator=rf, param_grid=param_grid, \n",
    "                           cv=5, scoring='accuracy', verbose=2, n_jobs=-1)\n",
    "\n",
    "# Latih model dengan GridSearchCV\n",
    "grid_search.fit(X_train, y_train)\n",
    "\n",
    "# Model terbaik berdasarkan GridSearchCV\n",
    "best_model = grid_search.best_estimator_\n",
    "\n",
    "# Cetak parameter terbaik\n",
    "print(\"Best Parameters:\", grid_search.best_params_)\n",
    "\n",
    "# Penilaian menggunakan cross-validation\n",
    "cv_scores = cross_val_score(best_model, X_train, y_train, cv=5, scoring='accuracy')\n",
    "print(\"\\nCross-Validation Scores:\", cv_scores)\n",
    "print(\"Mean CV Accuracy:\", cv_scores.mean())\n",
    "\n",
    "# Latih model terbaik pada data latihan\n",
    "best_model.fit(X_train, y_train)\n",
    "\n",
    "# Ramalan pada data ujian\n",
    "y_test_pred = best_model.predict(X_test)\n",
    "y_train_pred = best_model.predict(X_train)\n",
    "\n",
    "# Laporan prestasi untuk set latihan\n",
    "print(\"\\n=== Performance on Train Set ===\")\n",
    "print(\"Accuracy (Train):\", accuracy_score(y_train, y_train_pred))\n",
    "print(\"\\nClassification Report (Train):\")\n",
    "print(classification_report(y_train, y_train_pred))\n",
    "\n",
    "# Laporan prestasi untuk set ujian\n",
    "print(\"\\n=== Performance on Test Set ===\")\n",
    "print(\"Accuracy (Test):\", accuracy_score(y_test, y_test_pred))\n",
    "print(\"\\nClassification Report (Test):\")\n",
    "print(classification_report(y_test, y_test_pred))\n",
    "\n",
    "# Feature importance\n",
    "feature_importance = best_model.feature_importances_\n",
    "feature_names = X.columns\n",
    "importance_df = pd.DataFrame({\n",
    "    'Feature': feature_names,\n",
    "    'Importance': feature_importance\n",
    "}).sort_values(by='Importance', ascending=False)\n",
    "\n",
    "# Paparkan feature importance\n",
    "print(\"\\n=== Feature Importance ===\")\n",
    "print(importance_df)\n",
    "\n",
    "# Visualisasi feature importance\n",
    "plt.figure(figsize=(10, 6))\n",
    "plt.barh(importance_df['Feature'], importance_df['Importance'])\n",
    "plt.gca().invert_yaxis()  # Invert y-axis supaya yang paling penting di atas\n",
    "plt.xlabel('Importance')\n",
    "plt.title('Feature Importance')\n",
    "plt.show()\n"
   ]
  },
  {
   "cell_type": "markdown",
   "id": "05725038-dbcb-480e-8c16-68c02c119c99",
   "metadata": {},
   "source": [
    "## Using Threshold Mean Feature Importance ( Feature selection )"
   ]
  },
  {
   "cell_type": "code",
   "execution_count": 183,
   "id": "23db3f8d-b910-4925-bbdd-fbe10e11528f",
   "metadata": {},
   "outputs": [
    {
     "name": "stdout",
     "output_type": "stream",
     "text": [
      "\n",
      "Selected Features (Importance > Mean):\n",
      "           Feature  Importance\n",
      "14        Contract    0.189816\n",
      "4           tenure    0.148057\n",
      "18    TotalCharges    0.118554\n",
      "17  MonthlyCharges    0.112372\n",
      "8   OnlineSecurity    0.090211\n",
      "11     TechSupport    0.085835\n"
     ]
    }
   ],
   "source": [
    "# Dapatkan purata importance\n",
    "mean_importance = importance_df['Importance'].mean()\n",
    "\n",
    "# Pilih ciri dengan importance > mean\n",
    "selected_features = importance_df[importance_df['Importance'] > mean_importance]\n",
    "\n",
    "# Ciri-ciri yang dipilih\n",
    "print(\"\\nSelected Features (Importance > Mean):\")\n",
    "print(selected_features)\n",
    "\n",
    "# Pilih hanya ciri-ciri yang dipilih\n",
    "X_train_selected = X_train[selected_features['Feature']]\n",
    "X_test_selected = X_test[selected_features['Feature']]\n"
   ]
  },
  {
   "cell_type": "markdown",
   "id": "03b029ef-96a8-42ed-a78d-ad662a9a3ff6",
   "metadata": {},
   "source": [
    "## Predictive modelling"
   ]
  },
  {
   "cell_type": "code",
   "execution_count": null,
   "id": "163bcc9f-7c13-442f-9a5d-bfb54d8c7699",
   "metadata": {},
   "outputs": [],
   "source": []
  },
  {
   "cell_type": "markdown",
   "id": "4da6a265-f3e8-424b-a3ef-0a247cacf27f",
   "metadata": {},
   "source": [
    "## Encode (ONE HOT ENCODE)"
   ]
  },
  {
   "cell_type": "code",
   "execution_count": 184,
   "id": "0ae25342-2c67-4ae2-8c91-ba58eaa53836",
   "metadata": {},
   "outputs": [
    {
     "data": {
      "text/html": [
       "<div>\n",
       "<style scoped>\n",
       "    .dataframe tbody tr th:only-of-type {\n",
       "        vertical-align: middle;\n",
       "    }\n",
       "\n",
       "    .dataframe tbody tr th {\n",
       "        vertical-align: top;\n",
       "    }\n",
       "\n",
       "    .dataframe thead th {\n",
       "        text-align: right;\n",
       "    }\n",
       "</style>\n",
       "<table border=\"1\" class=\"dataframe\">\n",
       "  <thead>\n",
       "    <tr style=\"text-align: right;\">\n",
       "      <th></th>\n",
       "      <th>Contract</th>\n",
       "      <th>tenure</th>\n",
       "      <th>MonthlyCharges</th>\n",
       "      <th>OnlineSecurity</th>\n",
       "      <th>TotalCharges</th>\n",
       "      <th>TechSupport</th>\n",
       "      <th>Churn</th>\n",
       "    </tr>\n",
       "  </thead>\n",
       "  <tbody>\n",
       "    <tr>\n",
       "      <th>0</th>\n",
       "      <td>Month-to-month</td>\n",
       "      <td>1</td>\n",
       "      <td>29.85</td>\n",
       "      <td>No</td>\n",
       "      <td>29.85</td>\n",
       "      <td>No</td>\n",
       "      <td>No</td>\n",
       "    </tr>\n",
       "    <tr>\n",
       "      <th>1</th>\n",
       "      <td>One year</td>\n",
       "      <td>34</td>\n",
       "      <td>56.95</td>\n",
       "      <td>Yes</td>\n",
       "      <td>1889.50</td>\n",
       "      <td>No</td>\n",
       "      <td>No</td>\n",
       "    </tr>\n",
       "    <tr>\n",
       "      <th>2</th>\n",
       "      <td>Month-to-month</td>\n",
       "      <td>2</td>\n",
       "      <td>53.85</td>\n",
       "      <td>Yes</td>\n",
       "      <td>108.15</td>\n",
       "      <td>No</td>\n",
       "      <td>Yes</td>\n",
       "    </tr>\n",
       "    <tr>\n",
       "      <th>3</th>\n",
       "      <td>One year</td>\n",
       "      <td>45</td>\n",
       "      <td>42.30</td>\n",
       "      <td>Yes</td>\n",
       "      <td>1840.75</td>\n",
       "      <td>Yes</td>\n",
       "      <td>No</td>\n",
       "    </tr>\n",
       "    <tr>\n",
       "      <th>4</th>\n",
       "      <td>Month-to-month</td>\n",
       "      <td>2</td>\n",
       "      <td>70.70</td>\n",
       "      <td>No</td>\n",
       "      <td>151.65</td>\n",
       "      <td>No</td>\n",
       "      <td>Yes</td>\n",
       "    </tr>\n",
       "  </tbody>\n",
       "</table>\n",
       "</div>"
      ],
      "text/plain": [
       "         Contract  tenure  MonthlyCharges OnlineSecurity  TotalCharges  \\\n",
       "0  Month-to-month       1           29.85             No         29.85   \n",
       "1        One year      34           56.95            Yes       1889.50   \n",
       "2  Month-to-month       2           53.85            Yes        108.15   \n",
       "3        One year      45           42.30            Yes       1840.75   \n",
       "4  Month-to-month       2           70.70             No        151.65   \n",
       "\n",
       "  TechSupport Churn  \n",
       "0          No    No  \n",
       "1          No    No  \n",
       "2          No   Yes  \n",
       "3         Yes    No  \n",
       "4          No   Yes  "
      ]
     },
     "execution_count": 184,
     "metadata": {},
     "output_type": "execute_result"
    }
   ],
   "source": [
    "df_final = df.copy()\n",
    "\n",
    "# Senarai ciri yang ingin dikekalkan berdasarkan Feature Importance\n",
    "selected_features1 = ['Contract', 'tenure', 'MonthlyCharges', 'OnlineSecurity', 'TotalCharges', 'TechSupport', 'Churn']\n",
    "\n",
    "# Drop ciri-ciri yang tidak berkaitan daripada df_feature\n",
    "df_filtered1 = df_final[selected_features1]\n",
    "\n",
    "# Paparkan DataFrame yang telah ditapis\n",
    "df_filtered1.head()\n"
   ]
  },
  {
   "cell_type": "code",
   "execution_count": 185,
   "id": "97081063-abe0-4a98-a3ac-7dbe273ddaa2",
   "metadata": {},
   "outputs": [
    {
     "data": {
      "text/plain": [
       "Contract\n",
       "Month-to-month    3875\n",
       "Two year          1695\n",
       "One year          1473\n",
       "Name: count, dtype: int64"
      ]
     },
     "execution_count": 185,
     "metadata": {},
     "output_type": "execute_result"
    }
   ],
   "source": [
    "df_filtered1['Contract'].value_counts()"
   ]
  },
  {
   "cell_type": "code",
   "execution_count": null,
   "id": "dd1d0e4f-7aa9-48d7-96b0-608741647253",
   "metadata": {},
   "outputs": [],
   "source": []
  },
  {
   "cell_type": "code",
   "execution_count": null,
   "id": "48b3c311-cdea-4b11-826b-488879688f64",
   "metadata": {},
   "outputs": [],
   "source": []
  },
  {
   "cell_type": "code",
   "execution_count": 186,
   "id": "da0c353d-f64d-41f8-b7e8-2b42a3c35b2f",
   "metadata": {},
   "outputs": [
    {
     "name": "stderr",
     "output_type": "stream",
     "text": [
      "C:\\Users\\User\\AppData\\Local\\Temp\\ipykernel_11276\\1664222783.py:7: SettingWithCopyWarning: \n",
      "A value is trying to be set on a copy of a slice from a DataFrame.\n",
      "Try using .loc[row_indexer,col_indexer] = value instead\n",
      "\n",
      "See the caveats in the documentation: https://pandas.pydata.org/pandas-docs/stable/user_guide/indexing.html#returning-a-view-versus-a-copy\n",
      "  df_filtered1['Churn'] = le.fit_transform(df_filtered1['Churn'])\n"
     ]
    },
    {
     "data": {
      "text/html": [
       "<div>\n",
       "<style scoped>\n",
       "    .dataframe tbody tr th:only-of-type {\n",
       "        vertical-align: middle;\n",
       "    }\n",
       "\n",
       "    .dataframe tbody tr th {\n",
       "        vertical-align: top;\n",
       "    }\n",
       "\n",
       "    .dataframe thead th {\n",
       "        text-align: right;\n",
       "    }\n",
       "</style>\n",
       "<table border=\"1\" class=\"dataframe\">\n",
       "  <thead>\n",
       "    <tr style=\"text-align: right;\">\n",
       "      <th></th>\n",
       "      <th>tenure</th>\n",
       "      <th>MonthlyCharges</th>\n",
       "      <th>TotalCharges</th>\n",
       "      <th>Churn</th>\n",
       "      <th>Contract_Month-to-month</th>\n",
       "      <th>Contract_One year</th>\n",
       "      <th>Contract_Two year</th>\n",
       "      <th>OnlineSecurity_No</th>\n",
       "      <th>OnlineSecurity_No internet service</th>\n",
       "      <th>OnlineSecurity_Yes</th>\n",
       "      <th>TechSupport_No</th>\n",
       "      <th>TechSupport_No internet service</th>\n",
       "      <th>TechSupport_Yes</th>\n",
       "    </tr>\n",
       "  </thead>\n",
       "  <tbody>\n",
       "    <tr>\n",
       "      <th>0</th>\n",
       "      <td>1</td>\n",
       "      <td>29.85</td>\n",
       "      <td>29.85</td>\n",
       "      <td>0</td>\n",
       "      <td>True</td>\n",
       "      <td>False</td>\n",
       "      <td>False</td>\n",
       "      <td>True</td>\n",
       "      <td>False</td>\n",
       "      <td>False</td>\n",
       "      <td>True</td>\n",
       "      <td>False</td>\n",
       "      <td>False</td>\n",
       "    </tr>\n",
       "    <tr>\n",
       "      <th>1</th>\n",
       "      <td>34</td>\n",
       "      <td>56.95</td>\n",
       "      <td>1889.50</td>\n",
       "      <td>0</td>\n",
       "      <td>False</td>\n",
       "      <td>True</td>\n",
       "      <td>False</td>\n",
       "      <td>False</td>\n",
       "      <td>False</td>\n",
       "      <td>True</td>\n",
       "      <td>True</td>\n",
       "      <td>False</td>\n",
       "      <td>False</td>\n",
       "    </tr>\n",
       "    <tr>\n",
       "      <th>2</th>\n",
       "      <td>2</td>\n",
       "      <td>53.85</td>\n",
       "      <td>108.15</td>\n",
       "      <td>1</td>\n",
       "      <td>True</td>\n",
       "      <td>False</td>\n",
       "      <td>False</td>\n",
       "      <td>False</td>\n",
       "      <td>False</td>\n",
       "      <td>True</td>\n",
       "      <td>True</td>\n",
       "      <td>False</td>\n",
       "      <td>False</td>\n",
       "    </tr>\n",
       "    <tr>\n",
       "      <th>3</th>\n",
       "      <td>45</td>\n",
       "      <td>42.30</td>\n",
       "      <td>1840.75</td>\n",
       "      <td>0</td>\n",
       "      <td>False</td>\n",
       "      <td>True</td>\n",
       "      <td>False</td>\n",
       "      <td>False</td>\n",
       "      <td>False</td>\n",
       "      <td>True</td>\n",
       "      <td>False</td>\n",
       "      <td>False</td>\n",
       "      <td>True</td>\n",
       "    </tr>\n",
       "    <tr>\n",
       "      <th>4</th>\n",
       "      <td>2</td>\n",
       "      <td>70.70</td>\n",
       "      <td>151.65</td>\n",
       "      <td>1</td>\n",
       "      <td>True</td>\n",
       "      <td>False</td>\n",
       "      <td>False</td>\n",
       "      <td>True</td>\n",
       "      <td>False</td>\n",
       "      <td>False</td>\n",
       "      <td>True</td>\n",
       "      <td>False</td>\n",
       "      <td>False</td>\n",
       "    </tr>\n",
       "  </tbody>\n",
       "</table>\n",
       "</div>"
      ],
      "text/plain": [
       "   tenure  MonthlyCharges  TotalCharges  Churn  Contract_Month-to-month  \\\n",
       "0       1           29.85         29.85      0                     True   \n",
       "1      34           56.95       1889.50      0                    False   \n",
       "2       2           53.85        108.15      1                     True   \n",
       "3      45           42.30       1840.75      0                    False   \n",
       "4       2           70.70        151.65      1                     True   \n",
       "\n",
       "   Contract_One year  Contract_Two year  OnlineSecurity_No  \\\n",
       "0              False              False               True   \n",
       "1               True              False              False   \n",
       "2              False              False              False   \n",
       "3               True              False              False   \n",
       "4              False              False               True   \n",
       "\n",
       "   OnlineSecurity_No internet service  OnlineSecurity_Yes  TechSupport_No  \\\n",
       "0                               False               False            True   \n",
       "1                               False                True            True   \n",
       "2                               False                True            True   \n",
       "3                               False                True           False   \n",
       "4                               False               False            True   \n",
       "\n",
       "   TechSupport_No internet service  TechSupport_Yes  \n",
       "0                            False            False  \n",
       "1                            False            False  \n",
       "2                            False            False  \n",
       "3                            False             True  \n",
       "4                            False            False  "
      ]
     },
     "execution_count": 186,
     "metadata": {},
     "output_type": "execute_result"
    }
   ],
   "source": [
    "import pandas as pd\n",
    "from sklearn.preprocessing import LabelEncoder\n",
    "\n",
    "# Assuming df_filtered1 is your DataFrame\n",
    "# Encoding the target variable Y (Churn) - binary encoding\n",
    "le = LabelEncoder()\n",
    "df_filtered1['Churn'] = le.fit_transform(df_filtered1['Churn'])\n",
    "\n",
    "# One-hot encoding categorical variables: Contract, OnlineSecurity, TechSupport\n",
    "df_filtered1 = pd.get_dummies(df_filtered1, columns=['Contract', 'OnlineSecurity', 'TechSupport'], drop_first=False)\n",
    "\n",
    "# Check the result\n",
    "df_filtered1.head()\n"
   ]
  },
  {
   "cell_type": "code",
   "execution_count": 187,
   "id": "de9c2581-0e8d-467b-a797-28ad5befba0c",
   "metadata": {},
   "outputs": [
    {
     "name": "stdout",
     "output_type": "stream",
     "text": [
      "<class 'pandas.core.frame.DataFrame'>\n",
      "RangeIndex: 5 entries, 0 to 4\n",
      "Data columns (total 13 columns):\n",
      " #   Column                              Non-Null Count  Dtype  \n",
      "---  ------                              --------------  -----  \n",
      " 0   tenure                              5 non-null      int64  \n",
      " 1   MonthlyCharges                      5 non-null      float64\n",
      " 2   TotalCharges                        5 non-null      float64\n",
      " 3   Churn                               5 non-null      int64  \n",
      " 4   Contract_Month-to-month             5 non-null      bool   \n",
      " 5   Contract_One year                   5 non-null      bool   \n",
      " 6   Contract_Two year                   5 non-null      bool   \n",
      " 7   OnlineSecurity_No                   5 non-null      bool   \n",
      " 8   OnlineSecurity_No internet service  5 non-null      bool   \n",
      " 9   OnlineSecurity_Yes                  5 non-null      bool   \n",
      " 10  TechSupport_No                      5 non-null      bool   \n",
      " 11  TechSupport_No internet service     5 non-null      bool   \n",
      " 12  TechSupport_Yes                     5 non-null      bool   \n",
      "dtypes: bool(9), float64(2), int64(2)\n",
      "memory usage: 337.0 bytes\n"
     ]
    }
   ],
   "source": [
    "df_filtered1.head().info()"
   ]
  },
  {
   "cell_type": "code",
   "execution_count": 188,
   "id": "0e764158-882e-420e-816f-b3e940e5bf5e",
   "metadata": {},
   "outputs": [
    {
     "name": "stderr",
     "output_type": "stream",
     "text": [
      "C:\\Users\\User\\AppData\\Local\\Temp\\ipykernel_11276\\615561583.py:5: FutureWarning: A value is trying to be set on a copy of a DataFrame or Series through chained assignment using an inplace method.\n",
      "The behavior will change in pandas 3.0. This inplace method will never work because the intermediate object on which we are setting values always behaves as a copy.\n",
      "\n",
      "For example, when doing 'df[col].method(value, inplace=True)', try using 'df.method({col: value}, inplace=True)' or df[col] = df[col].method(value) instead, to perform the operation inplace on the original object.\n",
      "\n",
      "\n",
      "  df_filtered1['TotalCharges'].fillna(0, inplace=True)\n"
     ]
    }
   ],
   "source": [
    "# Convert TotalCharges to numeric, forcing errors to NaN\n",
    "df_filtered1['TotalCharges'] = pd.to_numeric(df_filtered1['TotalCharges'], errors='coerce')\n",
    "\n",
    "# If you want to fill NaN values with 0 (or any other appropriate value)\n",
    "df_filtered1['TotalCharges'].fillna(0, inplace=True)\n",
    "\n"
   ]
  },
  {
   "cell_type": "code",
   "execution_count": 189,
   "id": "973fe0fd-aa9d-43fd-bf94-72ef949ea7d2",
   "metadata": {},
   "outputs": [
    {
     "data": {
      "text/html": [
       "<div>\n",
       "<style scoped>\n",
       "    .dataframe tbody tr th:only-of-type {\n",
       "        vertical-align: middle;\n",
       "    }\n",
       "\n",
       "    .dataframe tbody tr th {\n",
       "        vertical-align: top;\n",
       "    }\n",
       "\n",
       "    .dataframe thead th {\n",
       "        text-align: right;\n",
       "    }\n",
       "</style>\n",
       "<table border=\"1\" class=\"dataframe\">\n",
       "  <thead>\n",
       "    <tr style=\"text-align: right;\">\n",
       "      <th></th>\n",
       "      <th>tenure</th>\n",
       "      <th>MonthlyCharges</th>\n",
       "      <th>TotalCharges</th>\n",
       "      <th>Churn</th>\n",
       "      <th>Contract_Month-to-month</th>\n",
       "      <th>Contract_One year</th>\n",
       "      <th>Contract_Two year</th>\n",
       "      <th>OnlineSecurity_No</th>\n",
       "      <th>OnlineSecurity_No internet service</th>\n",
       "      <th>OnlineSecurity_Yes</th>\n",
       "      <th>TechSupport_No</th>\n",
       "      <th>TechSupport_No internet service</th>\n",
       "      <th>TechSupport_Yes</th>\n",
       "    </tr>\n",
       "  </thead>\n",
       "  <tbody>\n",
       "    <tr>\n",
       "      <th>0</th>\n",
       "      <td>1</td>\n",
       "      <td>29.85</td>\n",
       "      <td>29.85</td>\n",
       "      <td>0</td>\n",
       "      <td>True</td>\n",
       "      <td>False</td>\n",
       "      <td>False</td>\n",
       "      <td>True</td>\n",
       "      <td>False</td>\n",
       "      <td>False</td>\n",
       "      <td>True</td>\n",
       "      <td>False</td>\n",
       "      <td>False</td>\n",
       "    </tr>\n",
       "    <tr>\n",
       "      <th>1</th>\n",
       "      <td>34</td>\n",
       "      <td>56.95</td>\n",
       "      <td>1889.50</td>\n",
       "      <td>0</td>\n",
       "      <td>False</td>\n",
       "      <td>True</td>\n",
       "      <td>False</td>\n",
       "      <td>False</td>\n",
       "      <td>False</td>\n",
       "      <td>True</td>\n",
       "      <td>True</td>\n",
       "      <td>False</td>\n",
       "      <td>False</td>\n",
       "    </tr>\n",
       "    <tr>\n",
       "      <th>2</th>\n",
       "      <td>2</td>\n",
       "      <td>53.85</td>\n",
       "      <td>108.15</td>\n",
       "      <td>1</td>\n",
       "      <td>True</td>\n",
       "      <td>False</td>\n",
       "      <td>False</td>\n",
       "      <td>False</td>\n",
       "      <td>False</td>\n",
       "      <td>True</td>\n",
       "      <td>True</td>\n",
       "      <td>False</td>\n",
       "      <td>False</td>\n",
       "    </tr>\n",
       "    <tr>\n",
       "      <th>3</th>\n",
       "      <td>45</td>\n",
       "      <td>42.30</td>\n",
       "      <td>1840.75</td>\n",
       "      <td>0</td>\n",
       "      <td>False</td>\n",
       "      <td>True</td>\n",
       "      <td>False</td>\n",
       "      <td>False</td>\n",
       "      <td>False</td>\n",
       "      <td>True</td>\n",
       "      <td>False</td>\n",
       "      <td>False</td>\n",
       "      <td>True</td>\n",
       "    </tr>\n",
       "    <tr>\n",
       "      <th>4</th>\n",
       "      <td>2</td>\n",
       "      <td>70.70</td>\n",
       "      <td>151.65</td>\n",
       "      <td>1</td>\n",
       "      <td>True</td>\n",
       "      <td>False</td>\n",
       "      <td>False</td>\n",
       "      <td>True</td>\n",
       "      <td>False</td>\n",
       "      <td>False</td>\n",
       "      <td>True</td>\n",
       "      <td>False</td>\n",
       "      <td>False</td>\n",
       "    </tr>\n",
       "    <tr>\n",
       "      <th>...</th>\n",
       "      <td>...</td>\n",
       "      <td>...</td>\n",
       "      <td>...</td>\n",
       "      <td>...</td>\n",
       "      <td>...</td>\n",
       "      <td>...</td>\n",
       "      <td>...</td>\n",
       "      <td>...</td>\n",
       "      <td>...</td>\n",
       "      <td>...</td>\n",
       "      <td>...</td>\n",
       "      <td>...</td>\n",
       "      <td>...</td>\n",
       "    </tr>\n",
       "    <tr>\n",
       "      <th>7038</th>\n",
       "      <td>24</td>\n",
       "      <td>84.80</td>\n",
       "      <td>1990.50</td>\n",
       "      <td>0</td>\n",
       "      <td>False</td>\n",
       "      <td>True</td>\n",
       "      <td>False</td>\n",
       "      <td>False</td>\n",
       "      <td>False</td>\n",
       "      <td>True</td>\n",
       "      <td>False</td>\n",
       "      <td>False</td>\n",
       "      <td>True</td>\n",
       "    </tr>\n",
       "    <tr>\n",
       "      <th>7039</th>\n",
       "      <td>72</td>\n",
       "      <td>103.20</td>\n",
       "      <td>7362.90</td>\n",
       "      <td>0</td>\n",
       "      <td>False</td>\n",
       "      <td>True</td>\n",
       "      <td>False</td>\n",
       "      <td>True</td>\n",
       "      <td>False</td>\n",
       "      <td>False</td>\n",
       "      <td>True</td>\n",
       "      <td>False</td>\n",
       "      <td>False</td>\n",
       "    </tr>\n",
       "    <tr>\n",
       "      <th>7040</th>\n",
       "      <td>11</td>\n",
       "      <td>29.60</td>\n",
       "      <td>346.45</td>\n",
       "      <td>0</td>\n",
       "      <td>True</td>\n",
       "      <td>False</td>\n",
       "      <td>False</td>\n",
       "      <td>False</td>\n",
       "      <td>False</td>\n",
       "      <td>True</td>\n",
       "      <td>True</td>\n",
       "      <td>False</td>\n",
       "      <td>False</td>\n",
       "    </tr>\n",
       "    <tr>\n",
       "      <th>7041</th>\n",
       "      <td>4</td>\n",
       "      <td>74.40</td>\n",
       "      <td>306.60</td>\n",
       "      <td>1</td>\n",
       "      <td>True</td>\n",
       "      <td>False</td>\n",
       "      <td>False</td>\n",
       "      <td>True</td>\n",
       "      <td>False</td>\n",
       "      <td>False</td>\n",
       "      <td>True</td>\n",
       "      <td>False</td>\n",
       "      <td>False</td>\n",
       "    </tr>\n",
       "    <tr>\n",
       "      <th>7042</th>\n",
       "      <td>66</td>\n",
       "      <td>105.65</td>\n",
       "      <td>6844.50</td>\n",
       "      <td>0</td>\n",
       "      <td>False</td>\n",
       "      <td>False</td>\n",
       "      <td>True</td>\n",
       "      <td>False</td>\n",
       "      <td>False</td>\n",
       "      <td>True</td>\n",
       "      <td>False</td>\n",
       "      <td>False</td>\n",
       "      <td>True</td>\n",
       "    </tr>\n",
       "  </tbody>\n",
       "</table>\n",
       "<p>7043 rows × 13 columns</p>\n",
       "</div>"
      ],
      "text/plain": [
       "      tenure  MonthlyCharges  TotalCharges  Churn  Contract_Month-to-month  \\\n",
       "0          1           29.85         29.85      0                     True   \n",
       "1         34           56.95       1889.50      0                    False   \n",
       "2          2           53.85        108.15      1                     True   \n",
       "3         45           42.30       1840.75      0                    False   \n",
       "4          2           70.70        151.65      1                     True   \n",
       "...      ...             ...           ...    ...                      ...   \n",
       "7038      24           84.80       1990.50      0                    False   \n",
       "7039      72          103.20       7362.90      0                    False   \n",
       "7040      11           29.60        346.45      0                     True   \n",
       "7041       4           74.40        306.60      1                     True   \n",
       "7042      66          105.65       6844.50      0                    False   \n",
       "\n",
       "      Contract_One year  Contract_Two year  OnlineSecurity_No  \\\n",
       "0                 False              False               True   \n",
       "1                  True              False              False   \n",
       "2                 False              False              False   \n",
       "3                  True              False              False   \n",
       "4                 False              False               True   \n",
       "...                 ...                ...                ...   \n",
       "7038               True              False              False   \n",
       "7039               True              False               True   \n",
       "7040              False              False              False   \n",
       "7041              False              False               True   \n",
       "7042              False               True              False   \n",
       "\n",
       "      OnlineSecurity_No internet service  OnlineSecurity_Yes  TechSupport_No  \\\n",
       "0                                  False               False            True   \n",
       "1                                  False                True            True   \n",
       "2                                  False                True            True   \n",
       "3                                  False                True           False   \n",
       "4                                  False               False            True   \n",
       "...                                  ...                 ...             ...   \n",
       "7038                               False                True           False   \n",
       "7039                               False               False            True   \n",
       "7040                               False                True            True   \n",
       "7041                               False               False            True   \n",
       "7042                               False                True           False   \n",
       "\n",
       "      TechSupport_No internet service  TechSupport_Yes  \n",
       "0                               False            False  \n",
       "1                               False            False  \n",
       "2                               False            False  \n",
       "3                               False             True  \n",
       "4                               False            False  \n",
       "...                               ...              ...  \n",
       "7038                            False             True  \n",
       "7039                            False            False  \n",
       "7040                            False            False  \n",
       "7041                            False            False  \n",
       "7042                            False             True  \n",
       "\n",
       "[7043 rows x 13 columns]"
      ]
     },
     "execution_count": 189,
     "metadata": {},
     "output_type": "execute_result"
    }
   ],
   "source": [
    "df_filtered1"
   ]
  },
  {
   "cell_type": "markdown",
   "id": "03d0dceb-f171-4745-8b48-98893004b7d2",
   "metadata": {},
   "source": [
    "## Scalling"
   ]
  },
  {
   "cell_type": "code",
   "execution_count": 190,
   "id": "1c208c9a-1fcf-48b6-b645-9f72f41899f9",
   "metadata": {},
   "outputs": [
    {
     "data": {
      "text/html": [
       "<div>\n",
       "<style scoped>\n",
       "    .dataframe tbody tr th:only-of-type {\n",
       "        vertical-align: middle;\n",
       "    }\n",
       "\n",
       "    .dataframe tbody tr th {\n",
       "        vertical-align: top;\n",
       "    }\n",
       "\n",
       "    .dataframe thead th {\n",
       "        text-align: right;\n",
       "    }\n",
       "</style>\n",
       "<table border=\"1\" class=\"dataframe\">\n",
       "  <thead>\n",
       "    <tr style=\"text-align: right;\">\n",
       "      <th></th>\n",
       "      <th>tenure</th>\n",
       "      <th>MonthlyCharges</th>\n",
       "      <th>TotalCharges</th>\n",
       "      <th>Churn</th>\n",
       "      <th>Contract_Month-to-month</th>\n",
       "      <th>Contract_One year</th>\n",
       "      <th>Contract_Two year</th>\n",
       "      <th>OnlineSecurity_No</th>\n",
       "      <th>OnlineSecurity_No internet service</th>\n",
       "      <th>OnlineSecurity_Yes</th>\n",
       "      <th>TechSupport_No</th>\n",
       "      <th>TechSupport_No internet service</th>\n",
       "      <th>TechSupport_Yes</th>\n",
       "    </tr>\n",
       "  </thead>\n",
       "  <tbody>\n",
       "    <tr>\n",
       "      <th>0</th>\n",
       "      <td>-1.277445</td>\n",
       "      <td>-1.160323</td>\n",
       "      <td>-0.992611</td>\n",
       "      <td>0</td>\n",
       "      <td>True</td>\n",
       "      <td>False</td>\n",
       "      <td>False</td>\n",
       "      <td>True</td>\n",
       "      <td>False</td>\n",
       "      <td>False</td>\n",
       "      <td>True</td>\n",
       "      <td>False</td>\n",
       "      <td>False</td>\n",
       "    </tr>\n",
       "    <tr>\n",
       "      <th>1</th>\n",
       "      <td>0.066327</td>\n",
       "      <td>-0.259629</td>\n",
       "      <td>-0.172165</td>\n",
       "      <td>0</td>\n",
       "      <td>False</td>\n",
       "      <td>True</td>\n",
       "      <td>False</td>\n",
       "      <td>False</td>\n",
       "      <td>False</td>\n",
       "      <td>True</td>\n",
       "      <td>True</td>\n",
       "      <td>False</td>\n",
       "      <td>False</td>\n",
       "    </tr>\n",
       "    <tr>\n",
       "      <th>2</th>\n",
       "      <td>-1.236724</td>\n",
       "      <td>-0.362660</td>\n",
       "      <td>-0.958066</td>\n",
       "      <td>1</td>\n",
       "      <td>True</td>\n",
       "      <td>False</td>\n",
       "      <td>False</td>\n",
       "      <td>False</td>\n",
       "      <td>False</td>\n",
       "      <td>True</td>\n",
       "      <td>True</td>\n",
       "      <td>False</td>\n",
       "      <td>False</td>\n",
       "    </tr>\n",
       "    <tr>\n",
       "      <th>3</th>\n",
       "      <td>0.514251</td>\n",
       "      <td>-0.746535</td>\n",
       "      <td>-0.193672</td>\n",
       "      <td>0</td>\n",
       "      <td>False</td>\n",
       "      <td>True</td>\n",
       "      <td>False</td>\n",
       "      <td>False</td>\n",
       "      <td>False</td>\n",
       "      <td>True</td>\n",
       "      <td>False</td>\n",
       "      <td>False</td>\n",
       "      <td>True</td>\n",
       "    </tr>\n",
       "    <tr>\n",
       "      <th>4</th>\n",
       "      <td>-1.236724</td>\n",
       "      <td>0.197365</td>\n",
       "      <td>-0.938874</td>\n",
       "      <td>1</td>\n",
       "      <td>True</td>\n",
       "      <td>False</td>\n",
       "      <td>False</td>\n",
       "      <td>True</td>\n",
       "      <td>False</td>\n",
       "      <td>False</td>\n",
       "      <td>True</td>\n",
       "      <td>False</td>\n",
       "      <td>False</td>\n",
       "    </tr>\n",
       "  </tbody>\n",
       "</table>\n",
       "</div>"
      ],
      "text/plain": [
       "     tenure  MonthlyCharges  TotalCharges  Churn  Contract_Month-to-month  \\\n",
       "0 -1.277445       -1.160323     -0.992611      0                     True   \n",
       "1  0.066327       -0.259629     -0.172165      0                    False   \n",
       "2 -1.236724       -0.362660     -0.958066      1                     True   \n",
       "3  0.514251       -0.746535     -0.193672      0                    False   \n",
       "4 -1.236724        0.197365     -0.938874      1                     True   \n",
       "\n",
       "   Contract_One year  Contract_Two year  OnlineSecurity_No  \\\n",
       "0              False              False               True   \n",
       "1               True              False              False   \n",
       "2              False              False              False   \n",
       "3               True              False              False   \n",
       "4              False              False               True   \n",
       "\n",
       "   OnlineSecurity_No internet service  OnlineSecurity_Yes  TechSupport_No  \\\n",
       "0                               False               False            True   \n",
       "1                               False                True            True   \n",
       "2                               False                True            True   \n",
       "3                               False                True           False   \n",
       "4                               False               False            True   \n",
       "\n",
       "   TechSupport_No internet service  TechSupport_Yes  \n",
       "0                            False            False  \n",
       "1                            False            False  \n",
       "2                            False            False  \n",
       "3                            False             True  \n",
       "4                            False            False  "
      ]
     },
     "execution_count": 190,
     "metadata": {},
     "output_type": "execute_result"
    }
   ],
   "source": [
    "from sklearn.preprocessing import StandardScaler\n",
    "\n",
    "# Initialize the scaler\n",
    "scaler = StandardScaler()\n",
    "\n",
    "# Select numerical columns to scale\n",
    "numerical_columns = ['tenure', 'MonthlyCharges', 'TotalCharges']\n",
    "\n",
    "# Apply the scaling\n",
    "df_filtered1[numerical_columns] = scaler.fit_transform(df_filtered1[numerical_columns])\n",
    "\n",
    "# Check the result\n",
    "df_filtered1.head()\n"
   ]
  },
  {
   "cell_type": "code",
   "execution_count": 191,
   "id": "0520f9e0-583a-47ad-96b5-a17059243c6b",
   "metadata": {},
   "outputs": [
    {
     "data": {
      "text/plain": [
       "(7043, 13)"
      ]
     },
     "execution_count": 191,
     "metadata": {},
     "output_type": "execute_result"
    }
   ],
   "source": [
    "df_filtered1.shape"
   ]
  },
  {
   "cell_type": "markdown",
   "id": "b7166542-adca-4be6-b828-7c0b5c97deda",
   "metadata": {},
   "source": [
    "## predictive modelling"
   ]
  },
  {
   "cell_type": "code",
   "execution_count": null,
   "id": "2d4a138a-301a-4128-9761-ac9434fea468",
   "metadata": {},
   "outputs": [],
   "source": []
  },
  {
   "cell_type": "markdown",
   "id": "cff16bf3-752f-4cc2-9052-396db101d05d",
   "metadata": {},
   "source": [
    "## KNN"
   ]
  },
  {
   "cell_type": "code",
   "execution_count": 192,
   "id": "bad00c7f-2d68-494c-9b7d-90810ff42a71",
   "metadata": {},
   "outputs": [
    {
     "name": "stdout",
     "output_type": "stream",
     "text": [
      "Ketepatan Model KNN (Set Ujian): 0.7863733144073811\n",
      "Matriks Kekeliruan Model KNN (Set Ujian):\n",
      "[[921 115]\n",
      " [186 187]]\n",
      "Classification Report Model KNN (Set Ujian):\n",
      "              precision    recall  f1-score   support\n",
      "\n",
      "           0       0.83      0.89      0.86      1036\n",
      "           1       0.62      0.50      0.55       373\n",
      "\n",
      "    accuracy                           0.79      1409\n",
      "   macro avg       0.73      0.70      0.71      1409\n",
      "weighted avg       0.78      0.79      0.78      1409\n",
      "\n"
     ]
    }
   ],
   "source": [
    "from sklearn.model_selection import train_test_split\n",
    "from sklearn.neighbors import KNeighborsClassifier\n",
    "from sklearn.metrics import accuracy_score, confusion_matrix, classification_report\n",
    "\n",
    "# Pisahkan pemboleh ubah sasaran (Churn) dan pemboleh ubah ciri (features)\n",
    "X1 = df_filtered1.drop('Churn', axis=1)  # Ciri-ciri\n",
    "y1 = df_filtered1['Churn']  # Sasaran\n",
    "\n",
    "# Membahagikan data kepada set latihan (80%) dan set ujian (20%)\n",
    "X_train1, X_test1, y_train1, y_test1 = train_test_split(X1, y1, test_size=0.2, random_state=42)\n",
    "\n",
    "# Membangunkan model KNN\n",
    "model_knn = KNeighborsClassifier(n_neighbors=5)  # Anda boleh menukar n_neighbors mengikut keperluan\n",
    "\n",
    "# Melatih model menggunakan data latihan\n",
    "model_knn.fit(X_train1, y_train1)\n",
    "\n",
    "# Meramalkan hasil menggunakan data ujian\n",
    "y_pred_test = model_knn.predict(X_test1)\n",
    "\n",
    "# Menilai model pada set ujian\n",
    "accuracy_test = accuracy_score(y_test1, y_pred_test)\n",
    "conf_matrix_test = confusion_matrix(y_test1, y_pred_test)\n",
    "\n",
    "# Paparkan keputusan pada set ujian\n",
    "print(f'Ketepatan Model KNN (Set Ujian): {accuracy_test}')\n",
    "print(f'Matriks Kekeliruan Model KNN (Set Ujian):\\n{conf_matrix_test}')\n",
    "\n",
    "# Paparkan Classification Report Model KNN (Set Ujian)\n",
    "class_report_test = classification_report(y_test1, y_pred_test)\n",
    "print(f'Classification Report Model KNN (Set Ujian):\\n{class_report_test}')\n"
   ]
  },
  {
   "cell_type": "markdown",
   "id": "d4ee0266-a694-4d40-8133-37e6f9c46a76",
   "metadata": {},
   "source": [
    "## Tune"
   ]
  },
  {
   "cell_type": "code",
   "execution_count": 193,
   "id": "a9694930-3969-4fea-98d7-e2460592cc83",
   "metadata": {},
   "outputs": [
    {
     "name": "stdout",
     "output_type": "stream",
     "text": [
      "Ketepatan Model KNN selepas Penalaan: 0.8743789921930447\n",
      "Matriks Kekeliruan Model KNN selepas Penalaan:\n",
      "[[891 145]\n",
      " [ 32 341]]\n",
      "Classification Report Model KNN selepas Penalaan:\n",
      "              precision    recall  f1-score   support\n",
      "\n",
      "           0       0.97      0.86      0.91      1036\n",
      "           1       0.70      0.91      0.79       373\n",
      "\n",
      "    accuracy                           0.87      1409\n",
      "   macro avg       0.83      0.89      0.85      1409\n",
      "weighted avg       0.90      0.87      0.88      1409\n",
      "\n"
     ]
    }
   ],
   "source": [
    "from sklearn.model_selection import train_test_split, GridSearchCV\n",
    "from sklearn.neighbors import KNeighborsClassifier\n",
    "from sklearn.metrics import accuracy_score, confusion_matrix, classification_report\n",
    "from sklearn.preprocessing import StandardScaler\n",
    "from imblearn.over_sampling import SMOTE\n",
    "\n",
    "# Pisahkan pemboleh ubah sasaran (Churn) dan pemboleh ubah ciri (features)\n",
    "X1 = df_filtered1.drop('Churn', axis=1)  # Ciri-ciri\n",
    "y1 = df_filtered1['Churn']  # Sasaran\n",
    "\n",
    "# Menyeimbangkan data menggunakan SMOTE\n",
    "smote = SMOTE(random_state=42)\n",
    "X_train_resampled, y_train_resampled = smote.fit_resample(X1, y1)\n",
    "\n",
    "# Menyusun semula data\n",
    "scaler = StandardScaler()\n",
    "X_train_rescaled = scaler.fit_transform(X_train_resampled)\n",
    "X_test_rescaled = scaler.transform(X_test1)\n",
    "\n",
    "# Membahagikan data kepada set latihan (80%) dan set ujian (20%)\n",
    "X_train1, X_test1, y_train1, y_test1 = train_test_split(X1, y1, test_size=0.2, random_state=42)\n",
    "\n",
    "# Membangunkan model KNN dengan parameter tuning menggunakan GridSearchCV\n",
    "param_grid = {'n_neighbors': [3, 5, 7, 9, 11]}\n",
    "grid_search = GridSearchCV(KNeighborsClassifier(), param_grid, cv=5)\n",
    "grid_search.fit(X_train_rescaled, y_train_resampled)\n",
    "\n",
    "# Dapatkan model terbaik daripada GridSearchCV\n",
    "best_model = grid_search.best_estimator_\n",
    "\n",
    "# Melatih model terbaik menggunakan data latihan yang telah diselaraskan\n",
    "best_model.fit(X_train_rescaled, y_train_resampled)\n",
    "\n",
    "# Meramalkan hasil menggunakan data ujian\n",
    "y_pred_knn = best_model.predict(X_test_rescaled)\n",
    "\n",
    "# Menilai model\n",
    "accuracy_knn = accuracy_score(y_test1, y_pred_knn)\n",
    "conf_matrix_knn = confusion_matrix(y_test1, y_pred_knn)\n",
    "\n",
    "# Paparkan keputusan\n",
    "print(f'Ketepatan Model KNN selepas Penalaan: {accuracy_knn}')\n",
    "print(f'Matriks Kekeliruan Model KNN selepas Penalaan:\\n{conf_matrix_knn}')\n",
    "\n",
    "# Paparkan Classification Report Model KNN selepas Penalaan\n",
    "class_report_knn = classification_report(y_test1, y_pred_knn)\n",
    "print(f'Classification Report Model KNN selepas Penalaan:\\n{class_report_knn}')\n"
   ]
  },
  {
   "cell_type": "code",
   "execution_count": null,
   "id": "6fd3ee77-3742-42f2-9926-e9745c01a6ce",
   "metadata": {},
   "outputs": [],
   "source": []
  },
  {
   "cell_type": "code",
   "execution_count": null,
   "id": "5295a6aa-c599-49af-8014-74a365d139cd",
   "metadata": {},
   "outputs": [],
   "source": []
  },
  {
   "cell_type": "markdown",
   "id": "956ea590-ed19-434a-9e39-3bd106d2cd51",
   "metadata": {},
   "source": [
    "## Random Forest"
   ]
  },
  {
   "cell_type": "code",
   "execution_count": 194,
   "id": "a61a8abe-323f-4b96-a8f7-e4243ee7c2ba",
   "metadata": {},
   "outputs": [
    {
     "name": "stdout",
     "output_type": "stream",
     "text": [
      "Ketepatan Model Random Forest (Set Ujian): 0.7764371894960965\n",
      "Matriks Kekeliruan Model Random Forest (Set Ujian):\n",
      "[[912 124]\n",
      " [191 182]]\n",
      "Classification Report Model Random Forest (Set Ujian):\n",
      "              precision    recall  f1-score   support\n",
      "\n",
      "           0       0.83      0.88      0.85      1036\n",
      "           1       0.59      0.49      0.54       373\n",
      "\n",
      "    accuracy                           0.78      1409\n",
      "   macro avg       0.71      0.68      0.69      1409\n",
      "weighted avg       0.77      0.78      0.77      1409\n",
      "\n"
     ]
    }
   ],
   "source": [
    "from sklearn.model_selection import train_test_split\n",
    "from sklearn.ensemble import RandomForestClassifier\n",
    "from sklearn.metrics import accuracy_score, confusion_matrix, classification_report\n",
    "\n",
    "# Pisahkan pemboleh ubah sasaran (Churn) dan pemboleh ubah ciri (features)\n",
    "X1 = df_filtered1.drop('Churn', axis=1)  # Ciri-ciri\n",
    "y1 = df_filtered1['Churn']  # Sasaran\n",
    "\n",
    "# Membahagikan data kepada set latihan (80%) dan set ujian (20%)\n",
    "X_train1, X_test1, y_train1, y_test1 = train_test_split(X1, y1, test_size=0.2, random_state=42)\n",
    "\n",
    "# Membangunkan model Random Forest\n",
    "model_rf = RandomForestClassifier(random_state=42)  # Anda boleh menukar parameter mengikut keperluan\n",
    "\n",
    "# Melatih model menggunakan data latihan\n",
    "model_rf.fit(X_train1, y_train1)\n",
    "\n",
    "# Meramalkan hasil menggunakan data ujian\n",
    "y_pred_test = model_rf.predict(X_test1)\n",
    "\n",
    "# Menilai model pada set ujian\n",
    "accuracy_test = accuracy_score(y_test1, y_pred_test)\n",
    "conf_matrix_test = confusion_matrix(y_test1, y_pred_test)\n",
    "\n",
    "# Paparkan keputusan pada set ujian\n",
    "print(f'Ketepatan Model Random Forest (Set Ujian): {accuracy_test}')\n",
    "print(f'Matriks Kekeliruan Model Random Forest (Set Ujian):\\n{conf_matrix_test}')\n",
    "\n",
    "# Paparkan Classification Report Model Random Forest (Set Ujian)\n",
    "class_report_test = classification_report(y_test1, y_pred_test)\n",
    "print(f'Classification Report Model Random Forest (Set Ujian):\\n{class_report_test}')\n"
   ]
  },
  {
   "cell_type": "markdown",
   "id": "a6caca89-b09d-471a-b5e2-fd92e7aaf6cc",
   "metadata": {},
   "source": [
    "## Tune"
   ]
  },
  {
   "cell_type": "code",
   "execution_count": 195,
   "id": "115cdc3d-3735-4b2a-8a3f-f93088dcf378",
   "metadata": {},
   "outputs": [
    {
     "name": "stdout",
     "output_type": "stream",
     "text": [
      "Fitting 5 folds for each of 108 candidates, totalling 540 fits\n",
      "Ketepatan Model Random Forest: 0.9339957416607523\n",
      "Matriks Kekeliruan Model Random Forest:\n",
      "[[973  63]\n",
      " [ 30 343]]\n",
      "Classification Report Model Random Forest:\n",
      "              precision    recall  f1-score   support\n",
      "\n",
      "           0       0.97      0.94      0.95      1036\n",
      "           1       0.84      0.92      0.88       373\n",
      "\n",
      "    accuracy                           0.93      1409\n",
      "   macro avg       0.91      0.93      0.92      1409\n",
      "weighted avg       0.94      0.93      0.93      1409\n",
      "\n",
      "Feature Importances:\n",
      "                                Feature  Importance\n",
      "1                       MonthlyCharges    0.239185\n",
      "2                         TotalCharges    0.226259\n",
      "0                               tenure    0.196061\n",
      "3              Contract_Month-to-month    0.102953\n",
      "9                       TechSupport_No    0.066975\n",
      "5                    Contract_Two year    0.054198\n",
      "6                    OnlineSecurity_No    0.053037\n",
      "4                    Contract_One year    0.018485\n",
      "7   OnlineSecurity_No internet service    0.012571\n",
      "10     TechSupport_No internet service    0.012327\n",
      "8                   OnlineSecurity_Yes    0.010221\n",
      "11                     TechSupport_Yes    0.007728\n"
     ]
    },
    {
     "data": {
      "image/png": "[encoded data removed]",
      "text/plain": [
       "<Figure size 1000x600 with 1 Axes>"
      ]
     },
     "metadata": {},
     "output_type": "display_data"
    }
   ],
   "source": [
    "from sklearn.model_selection import train_test_split, GridSearchCV\n",
    "from sklearn.ensemble import RandomForestClassifier\n",
    "from sklearn.metrics import accuracy_score, confusion_matrix, classification_report\n",
    "from sklearn.preprocessing import StandardScaler\n",
    "from imblearn.over_sampling import SMOTE\n",
    "import pandas as pd\n",
    "import matplotlib.pyplot as plt\n",
    "\n",
    "# Pisahkan pemboleh ubah sasaran (Churn) dan pemboleh ubah ciri (features)\n",
    "X1 = df_filtered1.drop('Churn', axis=1)  # Ciri-ciri\n",
    "y1 = df_filtered1['Churn']  # Sasaran\n",
    "\n",
    "# Menyeimbangkan data menggunakan SMOTE\n",
    "smote = SMOTE(random_state=42)\n",
    "X_train_resampled, y_train_resampled = smote.fit_resample(X1, y1)\n",
    "\n",
    "# Menyusun semula data\n",
    "scaler = StandardScaler()\n",
    "X_train_rescaled = scaler.fit_transform(X_train_resampled)\n",
    "X_test_rescaled = scaler.transform(X_test1)\n",
    "\n",
    "# Membahagikan data kepada set latihan (80%) dan set ujian (20%)\n",
    "X_train1, X_test1, y_train1, y_test1 = train_test_split(X1, y1, test_size=0.2, random_state=42)\n",
    "\n",
    "# Membangunkan model Random Forest\n",
    "rf_model = RandomForestClassifier(random_state=42)\n",
    "\n",
    "# Penalaan Hiperparameter menggunakan GridSearchCV\n",
    "param_grid = {\n",
    "    'n_estimators': [50, 100, 150],\n",
    "    'max_depth': [None, 10, 20, 30],\n",
    "    'min_samples_split': [2, 5, 10],\n",
    "    'min_samples_leaf': [1, 2, 4]\n",
    "}\n",
    "\n",
    "grid_search = GridSearchCV(rf_model, param_grid, cv=5, n_jobs=-1, verbose=2)\n",
    "grid_search.fit(X_train_rescaled, y_train_resampled)\n",
    "\n",
    "# Model terbaik selepas penalaan hiperparameter\n",
    "best_rf_model = grid_search.best_estimator_\n",
    "\n",
    "# Melatih model terbaik menggunakan data latihan yang telah diselaraskan\n",
    "best_rf_model.fit(X_train_rescaled, y_train_resampled)\n",
    "\n",
    "# Meramalkan hasil menggunakan data ujian\n",
    "y_pred_rf = best_rf_model.predict(X_test_rescaled)\n",
    "\n",
    "# Menilai model\n",
    "accuracy_rf = accuracy_score(y_test1, y_pred_rf)\n",
    "conf_matrix_rf = confusion_matrix(y_test1, y_pred_rf)\n",
    "\n",
    "# Paparkan keputusan\n",
    "print(f'Ketepatan Model Random Forest: {accuracy_rf}')\n",
    "print(f'Matriks Kekeliruan Model Random Forest:\\n{conf_matrix_rf}')\n",
    "\n",
    "# Paparkan Classification Report Model Random Forest\n",
    "class_report_rf = classification_report(y_test1, y_pred_rf)\n",
    "print(f'Classification Report Model Random Forest:\\n{class_report_rf}')\n",
    "\n",
    "# Feature Importance\n",
    "feature_importances = best_rf_model.feature_importances_\n",
    "\n",
    "# Convert feature importance into a DataFrame for better readability\n",
    "feature_importance_df = pd.DataFrame({\n",
    "    'Feature': X1.columns,\n",
    "    'Importance': feature_importances\n",
    "}).sort_values(by='Importance', ascending=False)\n",
    "\n",
    "print(\"Feature Importances:\\n\", feature_importance_df)\n",
    "\n",
    "# Visualize the feature importance\n",
    "plt.figure(figsize=(10, 6))\n",
    "plt.barh(feature_importance_df['Feature'], feature_importance_df['Importance'], color='skyblue')\n",
    "plt.xlabel('Importance')\n",
    "plt.title('Feature Importance in Random Forest Model')\n",
    "plt.gca().invert_yaxis()  # To display the most important feature on top\n",
    "plt.show()\n"
   ]
  },
  {
   "cell_type": "markdown",
   "id": "4c6e1a5f-e930-4287-a12e-15db950d159c",
   "metadata": {},
   "source": [
    "# Conclusion for the feature"
   ]
  },
  {
   "cell_type": "code",
   "execution_count": 196,
   "id": "ee7938b8-249e-4880-aba3-8da17dbd95ce",
   "metadata": {},
   "outputs": [
    {
     "data": {
      "text/html": [
       "<div>\n",
       "<style scoped>\n",
       "    .dataframe tbody tr th:only-of-type {\n",
       "        vertical-align: middle;\n",
       "    }\n",
       "\n",
       "    .dataframe tbody tr th {\n",
       "        vertical-align: top;\n",
       "    }\n",
       "\n",
       "    .dataframe thead th {\n",
       "        text-align: right;\n",
       "    }\n",
       "</style>\n",
       "<table border=\"1\" class=\"dataframe\">\n",
       "  <thead>\n",
       "    <tr style=\"text-align: right;\">\n",
       "      <th></th>\n",
       "      <th>tenure</th>\n",
       "      <th>MonthlyCharges</th>\n",
       "      <th>TotalCharges</th>\n",
       "      <th>Churn</th>\n",
       "      <th>Contract_Month-to-month</th>\n",
       "      <th>Contract_One year</th>\n",
       "      <th>Contract_Two year</th>\n",
       "      <th>OnlineSecurity_No</th>\n",
       "      <th>OnlineSecurity_No internet service</th>\n",
       "      <th>OnlineSecurity_Yes</th>\n",
       "      <th>TechSupport_No</th>\n",
       "      <th>TechSupport_No internet service</th>\n",
       "      <th>TechSupport_Yes</th>\n",
       "    </tr>\n",
       "  </thead>\n",
       "  <tbody>\n",
       "    <tr>\n",
       "      <th>0</th>\n",
       "      <td>-1.277445</td>\n",
       "      <td>-1.160323</td>\n",
       "      <td>-0.992611</td>\n",
       "      <td>0</td>\n",
       "      <td>True</td>\n",
       "      <td>False</td>\n",
       "      <td>False</td>\n",
       "      <td>True</td>\n",
       "      <td>False</td>\n",
       "      <td>False</td>\n",
       "      <td>True</td>\n",
       "      <td>False</td>\n",
       "      <td>False</td>\n",
       "    </tr>\n",
       "    <tr>\n",
       "      <th>1</th>\n",
       "      <td>0.066327</td>\n",
       "      <td>-0.259629</td>\n",
       "      <td>-0.172165</td>\n",
       "      <td>0</td>\n",
       "      <td>False</td>\n",
       "      <td>True</td>\n",
       "      <td>False</td>\n",
       "      <td>False</td>\n",
       "      <td>False</td>\n",
       "      <td>True</td>\n",
       "      <td>True</td>\n",
       "      <td>False</td>\n",
       "      <td>False</td>\n",
       "    </tr>\n",
       "    <tr>\n",
       "      <th>2</th>\n",
       "      <td>-1.236724</td>\n",
       "      <td>-0.362660</td>\n",
       "      <td>-0.958066</td>\n",
       "      <td>1</td>\n",
       "      <td>True</td>\n",
       "      <td>False</td>\n",
       "      <td>False</td>\n",
       "      <td>False</td>\n",
       "      <td>False</td>\n",
       "      <td>True</td>\n",
       "      <td>True</td>\n",
       "      <td>False</td>\n",
       "      <td>False</td>\n",
       "    </tr>\n",
       "    <tr>\n",
       "      <th>3</th>\n",
       "      <td>0.514251</td>\n",
       "      <td>-0.746535</td>\n",
       "      <td>-0.193672</td>\n",
       "      <td>0</td>\n",
       "      <td>False</td>\n",
       "      <td>True</td>\n",
       "      <td>False</td>\n",
       "      <td>False</td>\n",
       "      <td>False</td>\n",
       "      <td>True</td>\n",
       "      <td>False</td>\n",
       "      <td>False</td>\n",
       "      <td>True</td>\n",
       "    </tr>\n",
       "    <tr>\n",
       "      <th>4</th>\n",
       "      <td>-1.236724</td>\n",
       "      <td>0.197365</td>\n",
       "      <td>-0.938874</td>\n",
       "      <td>1</td>\n",
       "      <td>True</td>\n",
       "      <td>False</td>\n",
       "      <td>False</td>\n",
       "      <td>True</td>\n",
       "      <td>False</td>\n",
       "      <td>False</td>\n",
       "      <td>True</td>\n",
       "      <td>False</td>\n",
       "      <td>False</td>\n",
       "    </tr>\n",
       "  </tbody>\n",
       "</table>\n",
       "</div>"
      ],
      "text/plain": [
       "     tenure  MonthlyCharges  TotalCharges  Churn  Contract_Month-to-month  \\\n",
       "0 -1.277445       -1.160323     -0.992611      0                     True   \n",
       "1  0.066327       -0.259629     -0.172165      0                    False   \n",
       "2 -1.236724       -0.362660     -0.958066      1                     True   \n",
       "3  0.514251       -0.746535     -0.193672      0                    False   \n",
       "4 -1.236724        0.197365     -0.938874      1                     True   \n",
       "\n",
       "   Contract_One year  Contract_Two year  OnlineSecurity_No  \\\n",
       "0              False              False               True   \n",
       "1               True              False              False   \n",
       "2              False              False              False   \n",
       "3               True              False              False   \n",
       "4              False              False               True   \n",
       "\n",
       "   OnlineSecurity_No internet service  OnlineSecurity_Yes  TechSupport_No  \\\n",
       "0                               False               False            True   \n",
       "1                               False                True            True   \n",
       "2                               False                True            True   \n",
       "3                               False                True           False   \n",
       "4                               False               False            True   \n",
       "\n",
       "   TechSupport_No internet service  TechSupport_Yes  \n",
       "0                            False            False  \n",
       "1                            False            False  \n",
       "2                            False            False  \n",
       "3                            False             True  \n",
       "4                            False            False  "
      ]
     },
     "execution_count": 196,
     "metadata": {},
     "output_type": "execute_result"
    }
   ],
   "source": [
    "df_filtered1.head()\n"
   ]
  },
  {
   "cell_type": "markdown",
   "id": "d34713b7-687e-451b-8ab6-ecf0605c981a",
   "metadata": {},
   "source": [
    "## Churn"
   ]
  },
  {
   "cell_type": "code",
   "execution_count": 197,
   "id": "d018d4c1-eb74-424b-b618-89339a00cd60",
   "metadata": {},
   "outputs": [
    {
     "data": {
      "text/plain": [
       "Churn\n",
       "0    5174\n",
       "1    1869\n",
       "Name: count, dtype: int64"
      ]
     },
     "execution_count": 197,
     "metadata": {},
     "output_type": "execute_result"
    }
   ],
   "source": [
    "df_filtered1['Churn'].value_counts()"
   ]
  },
  {
   "cell_type": "code",
   "execution_count": 198,
   "id": "9ab57646-d2d0-4bb0-b7ba-f75509a121aa",
   "metadata": {},
   "outputs": [
    {
     "data": {
      "image/png": "[encoded data removed]",
      "text/plain": [
       "<Figure size 800x600 with 1 Axes>"
      ]
     },
     "metadata": {},
     "output_type": "display_data"
    }
   ],
   "source": [
    "import matplotlib.pyplot as plt\n",
    "\n",
    "# Plotting the churn distribution as a bar chart\n",
    "churn_counts = df_filtered1['Churn'].value_counts()\n",
    "\n",
    "# Plot the bar chart\n",
    "plt.figure(figsize=(8, 6))\n",
    "bars = plt.bar(churn_counts.index, churn_counts, color=['lightblue', 'lightcoral'])\n",
    "\n",
    "# Add value labels above the bars\n",
    "for bar in bars:\n",
    "    yval = bar.get_height()\n",
    "    plt.text(bar.get_x() + bar.get_width()/2, yval + 50, int(yval), ha='center', va='bottom', fontsize=12)\n",
    "\n",
    "plt.xlabel('Churn')\n",
    "plt.ylabel('Count')\n",
    "plt.title('Churn Distribution')\n",
    "plt.tight_layout()\n",
    "\n",
    "# Display the plot\n",
    "plt.show()\n"
   ]
  },
  {
   "cell_type": "markdown",
   "id": "c5add85b-b931-425d-be9c-124d9f180cd6",
   "metadata": {},
   "source": [
    "# CATEGORY"
   ]
  },
  {
   "cell_type": "markdown",
   "id": "8dd69c9a-4f20-49b1-852f-680e85b87687",
   "metadata": {},
   "source": [
    "## Contract Feature"
   ]
  },
  {
   "cell_type": "code",
   "execution_count": 199,
   "id": "09a1e948-24e1-472a-bbcf-a1cfef6047dd",
   "metadata": {},
   "outputs": [
    {
     "data": {
      "text/html": [
       "<div>\n",
       "<style scoped>\n",
       "    .dataframe tbody tr th:only-of-type {\n",
       "        vertical-align: middle;\n",
       "    }\n",
       "\n",
       "    .dataframe tbody tr th {\n",
       "        vertical-align: top;\n",
       "    }\n",
       "\n",
       "    .dataframe thead th {\n",
       "        text-align: right;\n",
       "    }\n",
       "</style>\n",
       "<table border=\"1\" class=\"dataframe\">\n",
       "  <thead>\n",
       "    <tr style=\"text-align: right;\">\n",
       "      <th></th>\n",
       "      <th>Contract</th>\n",
       "      <th>tenure</th>\n",
       "      <th>MonthlyCharges</th>\n",
       "      <th>OnlineSecurity</th>\n",
       "      <th>TotalCharges</th>\n",
       "      <th>TechSupport</th>\n",
       "      <th>Churn</th>\n",
       "    </tr>\n",
       "  </thead>\n",
       "  <tbody>\n",
       "    <tr>\n",
       "      <th>0</th>\n",
       "      <td>Month-to-month</td>\n",
       "      <td>1</td>\n",
       "      <td>29.85</td>\n",
       "      <td>No</td>\n",
       "      <td>29.85</td>\n",
       "      <td>No</td>\n",
       "      <td>No</td>\n",
       "    </tr>\n",
       "    <tr>\n",
       "      <th>1</th>\n",
       "      <td>One year</td>\n",
       "      <td>34</td>\n",
       "      <td>56.95</td>\n",
       "      <td>Yes</td>\n",
       "      <td>1889.50</td>\n",
       "      <td>No</td>\n",
       "      <td>No</td>\n",
       "    </tr>\n",
       "    <tr>\n",
       "      <th>2</th>\n",
       "      <td>Month-to-month</td>\n",
       "      <td>2</td>\n",
       "      <td>53.85</td>\n",
       "      <td>Yes</td>\n",
       "      <td>108.15</td>\n",
       "      <td>No</td>\n",
       "      <td>Yes</td>\n",
       "    </tr>\n",
       "    <tr>\n",
       "      <th>3</th>\n",
       "      <td>One year</td>\n",
       "      <td>45</td>\n",
       "      <td>42.30</td>\n",
       "      <td>Yes</td>\n",
       "      <td>1840.75</td>\n",
       "      <td>Yes</td>\n",
       "      <td>No</td>\n",
       "    </tr>\n",
       "    <tr>\n",
       "      <th>4</th>\n",
       "      <td>Month-to-month</td>\n",
       "      <td>2</td>\n",
       "      <td>70.70</td>\n",
       "      <td>No</td>\n",
       "      <td>151.65</td>\n",
       "      <td>No</td>\n",
       "      <td>Yes</td>\n",
       "    </tr>\n",
       "  </tbody>\n",
       "</table>\n",
       "</div>"
      ],
      "text/plain": [
       "         Contract  tenure  MonthlyCharges OnlineSecurity  TotalCharges  \\\n",
       "0  Month-to-month       1           29.85             No         29.85   \n",
       "1        One year      34           56.95            Yes       1889.50   \n",
       "2  Month-to-month       2           53.85            Yes        108.15   \n",
       "3        One year      45           42.30            Yes       1840.75   \n",
       "4  Month-to-month       2           70.70             No        151.65   \n",
       "\n",
       "  TechSupport Churn  \n",
       "0          No    No  \n",
       "1          No    No  \n",
       "2          No   Yes  \n",
       "3         Yes    No  \n",
       "4          No   Yes  "
      ]
     },
     "execution_count": 199,
     "metadata": {},
     "output_type": "execute_result"
    }
   ],
   "source": [
    "df_final1 = df.copy()\n",
    "\n",
    "# Senarai ciri yang ingin dikekalkan berdasarkan Feature Importance\n",
    "selected_features = ['Contract', 'tenure', 'MonthlyCharges', 'OnlineSecurity', 'TotalCharges', 'TechSupport', 'Churn']\n",
    "\n",
    "# Drop ciri-ciri yang tidak berkaitan daripada df_feature\n",
    "df_filtered2 = df_final[selected_features]\n",
    "\n",
    "# Paparkan DataFrame yang telah ditapis\n",
    "df_filtered2.head()\n"
   ]
  },
  {
   "cell_type": "code",
   "execution_count": 200,
   "id": "2a245e5e-75df-49ee-a9dc-14eb21a33665",
   "metadata": {},
   "outputs": [
    {
     "data": {
      "text/plain": [
       "Contract\n",
       "Month-to-month    3875\n",
       "Two year          1695\n",
       "One year          1473\n",
       "Name: count, dtype: int64"
      ]
     },
     "execution_count": 200,
     "metadata": {},
     "output_type": "execute_result"
    }
   ],
   "source": [
    "df_filtered2['Contract'].value_counts()"
   ]
  },
  {
   "cell_type": "code",
   "execution_count": 201,
   "id": "8fbbc5a9-939f-4222-9b91-a126f84cfa96",
   "metadata": {},
   "outputs": [
    {
     "data": {
      "text/plain": [
       "Contract        Churn\n",
       "Month-to-month  No       2220\n",
       "                Yes      1655\n",
       "One year        No       1307\n",
       "                Yes       166\n",
       "Two year        No       1647\n",
       "                Yes        48\n",
       "Name: count, dtype: int64"
      ]
     },
     "execution_count": 201,
     "metadata": {},
     "output_type": "execute_result"
    }
   ],
   "source": [
    "df_filtered2.groupby('Contract')['Churn'].value_counts()\n"
   ]
  },
  {
   "cell_type": "code",
   "execution_count": 202,
   "id": "c9284b76-86ff-4cc1-9266-dfcad927203e",
   "metadata": {},
   "outputs": [
    {
     "name": "stdout",
     "output_type": "stream",
     "text": [
      "Churn             No   Yes  Churn Rate (%)\n",
      "Contract                                  \n",
      "Month-to-month  2220  1655       42.709677\n",
      "One year        1307   166       11.269518\n",
      "Two year        1647    48        2.831858\n"
     ]
    }
   ],
   "source": [
    "# Group by 'Contract' and 'Churn', and count values\n",
    "churn_contract = df_filtered2.groupby(['Contract', 'Churn']).size().unstack()\n",
    "\n",
    "# Calculate churn rate\n",
    "churn_contract['Churn Rate (%)'] = (churn_contract['Yes'] / (churn_contract['Yes'] + churn_contract['No'])) * 100\n",
    "\n",
    "# Display results\n",
    "print(churn_contract)\n"
   ]
  },
  {
   "cell_type": "code",
   "execution_count": 203,
   "id": "3e806d29-1495-40e7-ad5e-6b29d53f5c8d",
   "metadata": {},
   "outputs": [
    {
     "data": {
      "image/png": "[encoded data removed]",
      "text/plain": [
       "<Figure size 1000x600 with 1 Axes>"
      ]
     },
     "metadata": {},
     "output_type": "display_data"
    }
   ],
   "source": [
    "import matplotlib.pyplot as plt\n",
    "\n",
    "# Plotting the churn rate by Contract Type\n",
    "plt.figure(figsize=(10, 6))\n",
    "bars = plt.bar(churn_contract.index, churn_contract['Churn Rate (%)'], color='skyblue')\n",
    "\n",
    "# Add value labels above the bars\n",
    "for bar in bars:\n",
    "    yval = bar.get_height()\n",
    "    plt.text(bar.get_x() + bar.get_width()/2, yval + 2, f'{yval:.2f}%', ha='center', va='bottom', fontsize=12)\n",
    "\n",
    "plt.xlabel('Contract')\n",
    "plt.ylabel('Churn Rate (%)')\n",
    "plt.title('Churn Rate by Contract Type')\n",
    "plt.ylim(0, 100)  # Set the y-axis to range from 0 to 100\n",
    "plt.xticks(rotation=45)\n",
    "plt.tight_layout()\n",
    "\n",
    "# Show the plot\n",
    "plt.show()\n"
   ]
  },
  {
   "cell_type": "markdown",
   "id": "55342a3a-bdf5-4d6e-a6c3-fd8286e1e77e",
   "metadata": {},
   "source": [
    "## OnlineSecurity"
   ]
  },
  {
   "cell_type": "code",
   "execution_count": 204,
   "id": "8a293669-8f23-4b28-8b5c-733f8a5fa1e0",
   "metadata": {},
   "outputs": [
    {
     "data": {
      "text/plain": [
       "OnlineSecurity\n",
       "No                     3498\n",
       "Yes                    2019\n",
       "No internet service    1526\n",
       "Name: count, dtype: int64"
      ]
     },
     "execution_count": 204,
     "metadata": {},
     "output_type": "execute_result"
    }
   ],
   "source": [
    "df_filtered2['OnlineSecurity'].value_counts()"
   ]
  },
  {
   "cell_type": "code",
   "execution_count": 205,
   "id": "9b42e847-eba0-4da5-8367-8d629110cc57",
   "metadata": {},
   "outputs": [
    {
     "data": {
      "text/plain": [
       "OnlineSecurity       Churn\n",
       "No                   No       2037\n",
       "                     Yes      1461\n",
       "No internet service  No       1413\n",
       "                     Yes       113\n",
       "Yes                  No       1724\n",
       "                     Yes       295\n",
       "Name: count, dtype: int64"
      ]
     },
     "execution_count": 205,
     "metadata": {},
     "output_type": "execute_result"
    }
   ],
   "source": [
    "df_filtered2.groupby('OnlineSecurity')['Churn'].value_counts()"
   ]
  },
  {
   "cell_type": "code",
   "execution_count": 206,
   "id": "d1064934-8aaf-4337-a001-ead839ac5b8b",
   "metadata": {},
   "outputs": [
    {
     "name": "stdout",
     "output_type": "stream",
     "text": [
      "Churn                  No   Yes  Churn Rate (%)\n",
      "OnlineSecurity                                 \n",
      "No                   2037  1461       41.766724\n",
      "No internet service  1413   113        7.404980\n",
      "Yes                  1724   295       14.611194\n"
     ]
    }
   ],
   "source": [
    "# Group by 'OnlineSecurity' and 'Churn', and count values\n",
    "churn_security = df_filtered2.groupby(['OnlineSecurity', 'Churn']).size().unstack()\n",
    "\n",
    "# Calculate churn rate\n",
    "churn_security['Churn Rate (%)'] = (churn_security['Yes'] / (churn_security['Yes'] + churn_security['No'])) * 100\n",
    "\n",
    "# Display results\n",
    "print(churn_security)\n"
   ]
  },
  {
   "cell_type": "code",
   "execution_count": 207,
   "id": "615e9dae-c87f-4e00-b54a-8a38b1a9d45d",
   "metadata": {},
   "outputs": [
    {
     "data": {
      "image/png": "[encoded data removed]",
      "text/plain": [
       "<Figure size 1000x600 with 1 Axes>"
      ]
     },
     "metadata": {},
     "output_type": "display_data"
    }
   ],
   "source": [
    "import matplotlib.pyplot as plt\n",
    "\n",
    "# Plotting the churn rate by Online Security\n",
    "plt.figure(figsize=(10, 6))\n",
    "bars = plt.bar(churn_security.index, churn_security['Churn Rate (%)'], color='lightseagreen')\n",
    "\n",
    "# Add value labels above the bars\n",
    "for bar in bars:\n",
    "    yval = bar.get_height()\n",
    "    plt.text(bar.get_x() + bar.get_width()/2, yval + 2, f'{yval:.2f}%', ha='center', va='bottom', fontsize=12)\n",
    "\n",
    "plt.xlabel('Online Security')\n",
    "plt.ylabel('Churn Rate (%)')\n",
    "plt.title('Churn Rate by Online Security')\n",
    "plt.ylim(0, 100)  # Set the y-axis to range from 0 to 100\n",
    "plt.xticks(rotation=45)\n",
    "plt.tight_layout()\n",
    "\n",
    "# Show the plot\n",
    "plt.show()\n"
   ]
  },
  {
   "cell_type": "markdown",
   "id": "651515d6-db80-4530-9725-e202e9f97b6e",
   "metadata": {},
   "source": [
    "## TechSupport"
   ]
  },
  {
   "cell_type": "code",
   "execution_count": 208,
   "id": "3ee156d9-0da2-43d0-ae95-f72817adf4df",
   "metadata": {},
   "outputs": [
    {
     "data": {
      "text/plain": [
       "TechSupport\n",
       "No                     3473\n",
       "Yes                    2044\n",
       "No internet service    1526\n",
       "Name: count, dtype: int64"
      ]
     },
     "execution_count": 208,
     "metadata": {},
     "output_type": "execute_result"
    }
   ],
   "source": [
    "df_filtered2['TechSupport'].value_counts()"
   ]
  },
  {
   "cell_type": "code",
   "execution_count": 209,
   "id": "20d67a16-f890-4ca3-bb7c-26ca234e749b",
   "metadata": {},
   "outputs": [
    {
     "data": {
      "text/plain": [
       "TechSupport          Churn\n",
       "No                   No       2027\n",
       "                     Yes      1446\n",
       "No internet service  No       1413\n",
       "                     Yes       113\n",
       "Yes                  No       1734\n",
       "                     Yes       310\n",
       "Name: count, dtype: int64"
      ]
     },
     "execution_count": 209,
     "metadata": {},
     "output_type": "execute_result"
    }
   ],
   "source": [
    "df_filtered2.groupby('TechSupport')['Churn'].value_counts()"
   ]
  },
  {
   "cell_type": "code",
   "execution_count": 210,
   "id": "fd565d7d-a4ed-4cc5-92a1-dfba9e5eb18c",
   "metadata": {},
   "outputs": [
    {
     "name": "stdout",
     "output_type": "stream",
     "text": [
      "Churn                  No   Yes  Churn Rate (%)\n",
      "TechSupport                                    \n",
      "No                   2027  1446       41.635474\n",
      "No internet service  1413   113        7.404980\n",
      "Yes                  1734   310       15.166341\n"
     ]
    }
   ],
   "source": [
    "# Group by 'TechSupport' and 'Churn', and count values\n",
    "churn_techsupport = df_filtered2.groupby(['TechSupport', 'Churn']).size().unstack()\n",
    "\n",
    "# Calculate churn rate\n",
    "churn_techsupport['Churn Rate (%)'] = (churn_techsupport['Yes'] / (churn_techsupport['Yes'] + churn_techsupport['No'])) * 100\n",
    "\n",
    "# Display results\n",
    "print(churn_techsupport)\n"
   ]
  },
  {
   "cell_type": "code",
   "execution_count": 211,
   "id": "2f736c9b-f26c-4ae0-9a27-546f50dedd9e",
   "metadata": {},
   "outputs": [
    {
     "data": {
      "image/png": "[encoded data removed]",
      "text/plain": [
       "<Figure size 1000x600 with 1 Axes>"
      ]
     },
     "metadata": {},
     "output_type": "display_data"
    }
   ],
   "source": [
    "import matplotlib.pyplot as plt\n",
    "\n",
    "# Plotting the churn rate by Tech Support\n",
    "plt.figure(figsize=(10, 6))\n",
    "bars = plt.bar(churn_techsupport.index, churn_techsupport['Churn Rate (%)'], color='lightcoral')\n",
    "\n",
    "# Add value labels above the bars\n",
    "for bar in bars:\n",
    "    yval = bar.get_height()\n",
    "    plt.text(bar.get_x() + bar.get_width()/2, yval + 2, f'{yval:.2f}%', ha='center', va='bottom', fontsize=12)\n",
    "\n",
    "plt.xlabel('Tech Support')\n",
    "plt.ylabel('Churn Rate (%)')\n",
    "plt.title('Churn Rate by Tech Support')\n",
    "plt.ylim(0, 100)  # Set the y-axis to range from 0 to 100\n",
    "plt.xticks(rotation=45)\n",
    "plt.tight_layout()\n",
    "\n",
    "# Show the plot\n",
    "plt.show()\n"
   ]
  },
  {
   "cell_type": "markdown",
   "id": "5fc08ca1-f623-4f1b-961e-e29e16fcca54",
   "metadata": {},
   "source": [
    "# NUMERICAL"
   ]
  },
  {
   "cell_type": "markdown",
   "id": "8cf0cd79-4b25-4c17-9f98-b84a81e3ffec",
   "metadata": {},
   "source": [
    "## Basic statistic"
   ]
  },
  {
   "cell_type": "code",
   "execution_count": 243,
   "id": "e0dd6d6f-999e-4e2f-83ff-549c670f4a31",
   "metadata": {},
   "outputs": [
    {
     "data": {
      "text/html": [
       "<div>\n",
       "<style scoped>\n",
       "    .dataframe tbody tr th:only-of-type {\n",
       "        vertical-align: middle;\n",
       "    }\n",
       "\n",
       "    .dataframe tbody tr th {\n",
       "        vertical-align: top;\n",
       "    }\n",
       "\n",
       "    .dataframe thead th {\n",
       "        text-align: right;\n",
       "    }\n",
       "</style>\n",
       "<table border=\"1\" class=\"dataframe\">\n",
       "  <thead>\n",
       "    <tr style=\"text-align: right;\">\n",
       "      <th></th>\n",
       "      <th>tenure</th>\n",
       "      <th>MonthlyCharges</th>\n",
       "      <th>TotalCharges</th>\n",
       "    </tr>\n",
       "  </thead>\n",
       "  <tbody>\n",
       "    <tr>\n",
       "      <th>count</th>\n",
       "      <td>7043.000000</td>\n",
       "      <td>7043.000000</td>\n",
       "      <td>7043.000000</td>\n",
       "    </tr>\n",
       "    <tr>\n",
       "      <th>mean</th>\n",
       "      <td>32.371149</td>\n",
       "      <td>64.761692</td>\n",
       "      <td>2279.734304</td>\n",
       "    </tr>\n",
       "    <tr>\n",
       "      <th>std</th>\n",
       "      <td>24.559481</td>\n",
       "      <td>30.090047</td>\n",
       "      <td>2266.794470</td>\n",
       "    </tr>\n",
       "    <tr>\n",
       "      <th>min</th>\n",
       "      <td>0.000000</td>\n",
       "      <td>18.250000</td>\n",
       "      <td>0.000000</td>\n",
       "    </tr>\n",
       "    <tr>\n",
       "      <th>25%</th>\n",
       "      <td>9.000000</td>\n",
       "      <td>35.500000</td>\n",
       "      <td>398.550000</td>\n",
       "    </tr>\n",
       "    <tr>\n",
       "      <th>50%</th>\n",
       "      <td>29.000000</td>\n",
       "      <td>70.350000</td>\n",
       "      <td>1394.550000</td>\n",
       "    </tr>\n",
       "    <tr>\n",
       "      <th>75%</th>\n",
       "      <td>55.000000</td>\n",
       "      <td>89.850000</td>\n",
       "      <td>3786.600000</td>\n",
       "    </tr>\n",
       "    <tr>\n",
       "      <th>max</th>\n",
       "      <td>72.000000</td>\n",
       "      <td>118.750000</td>\n",
       "      <td>8684.800000</td>\n",
       "    </tr>\n",
       "  </tbody>\n",
       "</table>\n",
       "</div>"
      ],
      "text/plain": [
       "            tenure  MonthlyCharges  TotalCharges\n",
       "count  7043.000000     7043.000000   7043.000000\n",
       "mean     32.371149       64.761692   2279.734304\n",
       "std      24.559481       30.090047   2266.794470\n",
       "min       0.000000       18.250000      0.000000\n",
       "25%       9.000000       35.500000    398.550000\n",
       "50%      29.000000       70.350000   1394.550000\n",
       "75%      55.000000       89.850000   3786.600000\n",
       "max      72.000000      118.750000   8684.800000"
      ]
     },
     "execution_count": 243,
     "metadata": {},
     "output_type": "execute_result"
    }
   ],
   "source": [
    "df_segmen.describe()"
   ]
  },
  {
   "cell_type": "markdown",
   "id": "da222136-8ab2-482f-bdb5-2073daa2c2dd",
   "metadata": {},
   "source": [
    "## Segment for Numerikal"
   ]
  },
  {
   "cell_type": "code",
   "execution_count": 266,
   "id": "ca4ddc49-c85e-4861-8981-0059ad7b2dc0",
   "metadata": {},
   "outputs": [
    {
     "data": {
      "text/html": [
       "<div>\n",
       "<style scoped>\n",
       "    .dataframe tbody tr th:only-of-type {\n",
       "        vertical-align: middle;\n",
       "    }\n",
       "\n",
       "    .dataframe tbody tr th {\n",
       "        vertical-align: top;\n",
       "    }\n",
       "\n",
       "    .dataframe thead th {\n",
       "        text-align: right;\n",
       "    }\n",
       "</style>\n",
       "<table border=\"1\" class=\"dataframe\">\n",
       "  <thead>\n",
       "    <tr style=\"text-align: right;\">\n",
       "      <th></th>\n",
       "      <th>Contract</th>\n",
       "      <th>tenure</th>\n",
       "      <th>MonthlyCharges</th>\n",
       "      <th>OnlineSecurity</th>\n",
       "      <th>TotalCharges</th>\n",
       "      <th>TechSupport</th>\n",
       "      <th>Churn</th>\n",
       "    </tr>\n",
       "  </thead>\n",
       "  <tbody>\n",
       "    <tr>\n",
       "      <th>0</th>\n",
       "      <td>Month-to-month</td>\n",
       "      <td>1</td>\n",
       "      <td>29.85</td>\n",
       "      <td>No</td>\n",
       "      <td>29.85</td>\n",
       "      <td>No</td>\n",
       "      <td>No</td>\n",
       "    </tr>\n",
       "    <tr>\n",
       "      <th>1</th>\n",
       "      <td>One year</td>\n",
       "      <td>34</td>\n",
       "      <td>56.95</td>\n",
       "      <td>Yes</td>\n",
       "      <td>1889.50</td>\n",
       "      <td>No</td>\n",
       "      <td>No</td>\n",
       "    </tr>\n",
       "    <tr>\n",
       "      <th>2</th>\n",
       "      <td>Month-to-month</td>\n",
       "      <td>2</td>\n",
       "      <td>53.85</td>\n",
       "      <td>Yes</td>\n",
       "      <td>108.15</td>\n",
       "      <td>No</td>\n",
       "      <td>Yes</td>\n",
       "    </tr>\n",
       "    <tr>\n",
       "      <th>3</th>\n",
       "      <td>One year</td>\n",
       "      <td>45</td>\n",
       "      <td>42.30</td>\n",
       "      <td>Yes</td>\n",
       "      <td>1840.75</td>\n",
       "      <td>Yes</td>\n",
       "      <td>No</td>\n",
       "    </tr>\n",
       "    <tr>\n",
       "      <th>4</th>\n",
       "      <td>Month-to-month</td>\n",
       "      <td>2</td>\n",
       "      <td>70.70</td>\n",
       "      <td>No</td>\n",
       "      <td>151.65</td>\n",
       "      <td>No</td>\n",
       "      <td>Yes</td>\n",
       "    </tr>\n",
       "  </tbody>\n",
       "</table>\n",
       "</div>"
      ],
      "text/plain": [
       "         Contract  tenure  MonthlyCharges OnlineSecurity  TotalCharges  \\\n",
       "0  Month-to-month       1           29.85             No         29.85   \n",
       "1        One year      34           56.95            Yes       1889.50   \n",
       "2  Month-to-month       2           53.85            Yes        108.15   \n",
       "3        One year      45           42.30            Yes       1840.75   \n",
       "4  Month-to-month       2           70.70             No        151.65   \n",
       "\n",
       "  TechSupport Churn  \n",
       "0          No    No  \n",
       "1          No    No  \n",
       "2          No   Yes  \n",
       "3         Yes    No  \n",
       "4          No   Yes  "
      ]
     },
     "execution_count": 266,
     "metadata": {},
     "output_type": "execute_result"
    }
   ],
   "source": [
    "df_segmen = df_filtered2.copy()\n",
    "df_segmen.head()"
   ]
  },
  {
   "cell_type": "markdown",
   "id": "b493a768-5510-4430-980a-f79133eb8ae8",
   "metadata": {},
   "source": [
    "### Tenure"
   ]
  },
  {
   "cell_type": "code",
   "execution_count": 265,
   "id": "d04add36-0b72-4d58-be21-c6d45207a732",
   "metadata": {},
   "outputs": [],
   "source": [
    "import pandas as pd\n",
    "\n",
    "# Define the bins for tenure\n",
    "bins = [-1, 12, 36, 120]\n",
    "labels = ['Short-term (<12)', 'Medium-term (12-36)', 'Long-term (>36)']\n",
    "\n",
    "# Create a new column 'Tenure Bin' based on the defined bins\n",
    "df_segmen['Tenure Cluster'] = pd.cut(df_segmen['tenure'], bins=bins, labels=labels, right=True)\n"
   ]
  },
  {
   "cell_type": "markdown",
   "id": "163604b0-0f3c-4ed4-8f83-5c505b648966",
   "metadata": {},
   "source": [
    "### Monthly Charges"
   ]
  },
  {
   "cell_type": "code",
   "execution_count": 267,
   "id": "ee2f4974-11c3-4969-b36f-1769d0c9e1d6",
   "metadata": {},
   "outputs": [],
   "source": [
    "import pandas as pd\n",
    "\n",
    "# Define the bins for Monthly Charges\n",
    "bins = [0, 40, 80, 120]\n",
    "labels = ['Low (< 40)', 'Moderate (40 - 80)', 'High (> 80)']\n",
    "\n",
    "# Create a new column 'Monthly Charge Bin' based on the defined bins\n",
    "df_segmen['Monthly Charge Cluster $'] = pd.cut(df_segmen['MonthlyCharges'], bins=bins, labels=labels, right=True)\n",
    "\n"
   ]
  },
  {
   "cell_type": "markdown",
   "id": "1105ce78-6b7b-4d43-a354-858887d1dd1a",
   "metadata": {},
   "source": [
    "### Total Charges"
   ]
  },
  {
   "cell_type": "code",
   "execution_count": 268,
   "id": "f049b56e-f2c4-438b-b775-424d360109ab",
   "metadata": {},
   "outputs": [],
   "source": [
    "# Definisikan bins untuk TotalCharges\n",
    "bins = [-1, 1000, 5000, 10000]  # Bin yang sesuai\n",
    "labels = ['Low Charge (<1000)', 'Medium Charge (1000-5000)', 'High Charge (>5000)']\n",
    "\n",
    "# Create a new column 'TotalCharges Bin'\n",
    "df_segmen['TotalCharges Cluster'] = pd.cut(df_segmen['TotalCharges'], bins=bins, labels=labels, right=True)\n"
   ]
  },
  {
   "cell_type": "markdown",
   "id": "a045ec36-0c6c-484d-afcc-27a2c2e04d4c",
   "metadata": {},
   "source": [
    "## Segmen Tenure Cluster\t"
   ]
  },
  {
   "cell_type": "code",
   "execution_count": 255,
   "id": "82be6f52-803f-4c71-b19a-39bdd404afe8",
   "metadata": {},
   "outputs": [
    {
     "data": {
      "text/plain": [
       "Tenure Cluster\n",
       "Long-term (>36)        3001\n",
       "Short-term (<12)       2186\n",
       "Medium-term (12-36)    1856\n",
       "Name: count, dtype: int64"
      ]
     },
     "execution_count": 255,
     "metadata": {},
     "output_type": "execute_result"
    }
   ],
   "source": [
    "df_segmen['Tenure Cluster'].value_counts()"
   ]
  },
  {
   "cell_type": "code",
   "execution_count": 256,
   "id": "35a4370f-40d0-4ff3-aac9-525b81d66c58",
   "metadata": {},
   "outputs": [
    {
     "name": "stderr",
     "output_type": "stream",
     "text": [
      "C:\\Users\\User\\AppData\\Local\\Temp\\ipykernel_11276\\2401102255.py:1: FutureWarning: The default of observed=False is deprecated and will be changed to True in a future version of pandas. Pass observed=False to retain current behavior or observed=True to adopt the future default and silence this warning.\n",
      "  df_segmen.groupby('Tenure Cluster')['Churn'].value_counts()\n"
     ]
    },
    {
     "data": {
      "text/plain": [
       "Tenure Cluster       Churn\n",
       "Short-term (<12)     No       1149\n",
       "                     Yes      1037\n",
       "Medium-term (12-36)  No       1382\n",
       "                     Yes       474\n",
       "Long-term (>36)      No       2643\n",
       "                     Yes       358\n",
       "Name: count, dtype: int64"
      ]
     },
     "execution_count": 256,
     "metadata": {},
     "output_type": "execute_result"
    }
   ],
   "source": [
    "df_segmen.groupby('Tenure Cluster')['Churn'].value_counts()"
   ]
  },
  {
   "cell_type": "code",
   "execution_count": 257,
   "id": "2ce796aa-ebe2-48b5-a664-b64a3d05fc2c",
   "metadata": {},
   "outputs": [
    {
     "name": "stdout",
     "output_type": "stream",
     "text": [
      "Churn                Churn Rate (%)\n",
      "Tenure Cluster                     \n",
      "Short-term (<12)          47.438243\n",
      "Medium-term (12-36)       25.538793\n",
      "Long-term (>36)           11.929357\n"
     ]
    },
    {
     "name": "stderr",
     "output_type": "stream",
     "text": [
      "C:\\Users\\User\\AppData\\Local\\Temp\\ipykernel_11276\\3660970490.py:2: FutureWarning: The default of observed=False is deprecated and will be changed to True in a future version of pandas. Pass observed=False to retain current behavior or observed=True to adopt the future default and silence this warning.\n",
      "  churn_by_tenure = df_segmen.groupby(['Tenure Cluster', 'Churn']).size().unstack()\n"
     ]
    }
   ],
   "source": [
    "# Group by 'Tenure Cluster' and 'Churn' and get the counts\n",
    "churn_by_tenure = df_segmen.groupby(['Tenure Cluster', 'Churn']).size().unstack()\n",
    "\n",
    "# Calculate churn rate for each 'Tenure Cluster'\n",
    "churn_by_tenure['Churn Rate (%)'] = (churn_by_tenure['Yes'] / (churn_by_tenure['Yes'] + churn_by_tenure['No'])) * 100\n",
    "\n",
    "# Display the churn rate\n",
    "print(churn_by_tenure[['Churn Rate (%)']])\n"
   ]
  },
  {
   "cell_type": "code",
   "execution_count": 258,
   "id": "59716eeb-82a0-41be-9a3f-c576fe85be39",
   "metadata": {},
   "outputs": [
    {
     "data": {
      "image/png": "[encoded data removed]",
      "text/plain": [
       "<Figure size 1000x600 with 1 Axes>"
      ]
     },
     "metadata": {},
     "output_type": "display_data"
    }
   ],
   "source": [
    "import matplotlib.pyplot as plt\n",
    "\n",
    "# Plotting the churn rate by Tenure Cluster\n",
    "plt.figure(figsize=(10, 6))\n",
    "bars = plt.bar(churn_by_tenure.index, churn_by_tenure['Churn Rate (%)'], color='lightblue')\n",
    "\n",
    "# Adding labels and title\n",
    "plt.xlabel('Tenure Cluster')\n",
    "plt.ylabel('Churn Rate (%)')\n",
    "plt.title('Churn Rate by Tenure Cluster')\n",
    "plt.ylim(0, 100)  # Set y-axis to range from 0 to 100\n",
    "plt.xticks(rotation=45)  # Rotate the x-axis labels for better readability\n",
    "\n",
    "# Annotate each bar with the churn rate value\n",
    "for bar in bars:\n",
    "    yval = bar.get_height()\n",
    "    plt.text(bar.get_x() + bar.get_width()/2, yval + 1, f'{yval:.2f}%', ha='center', va='bottom')\n",
    "\n",
    "plt.tight_layout()\n",
    "\n",
    "# Show the plot\n",
    "plt.show()\n"
   ]
  },
  {
   "cell_type": "markdown",
   "id": "5e873a36-bd2f-4fa6-8b3e-2c90013df5b8",
   "metadata": {},
   "source": [
    "## Segmen Monthly Charge Cluster $"
   ]
  },
  {
   "cell_type": "code",
   "execution_count": 274,
   "id": "6aa07577-3c1d-4b76-9b9e-49b601db21b5",
   "metadata": {},
   "outputs": [
    {
     "data": {
      "text/plain": [
       "Monthly Charge Cluster $\n",
       "High (> 80)           2666\n",
       "Moderate (40 - 80)    2539\n",
       "Low (< 40)            1838\n",
       "Name: count, dtype: int64"
      ]
     },
     "execution_count": 274,
     "metadata": {},
     "output_type": "execute_result"
    }
   ],
   "source": [
    "df_segmen['Monthly Charge Cluster $'].value_counts()"
   ]
  },
  {
   "cell_type": "code",
   "execution_count": 275,
   "id": "a5f3b195-183a-4434-9662-dac8a43961d5",
   "metadata": {},
   "outputs": [
    {
     "name": "stderr",
     "output_type": "stream",
     "text": [
      "C:\\Users\\User\\AppData\\Local\\Temp\\ipykernel_11276\\422013565.py:1: FutureWarning: The default of observed=False is deprecated and will be changed to True in a future version of pandas. Pass observed=False to retain current behavior or observed=True to adopt the future default and silence this warning.\n",
      "  df_segmen.groupby('Monthly Charge Cluster $')['Churn'].value_counts()\n"
     ]
    },
    {
     "data": {
      "text/plain": [
       "Monthly Charge Cluster $  Churn\n",
       "Low (< 40)                No       1624\n",
       "                          Yes       214\n",
       "Moderate (40 - 80)        No       1790\n",
       "                          Yes       749\n",
       "High (> 80)               No       1760\n",
       "                          Yes       906\n",
       "Name: count, dtype: int64"
      ]
     },
     "execution_count": 275,
     "metadata": {},
     "output_type": "execute_result"
    }
   ],
   "source": [
    "df_segmen.groupby('Monthly Charge Cluster $')['Churn'].value_counts()"
   ]
  },
  {
   "cell_type": "code",
   "execution_count": 276,
   "id": "7cc4f477-789c-44b7-a4ff-b863f19c1d9d",
   "metadata": {},
   "outputs": [
    {
     "name": "stdout",
     "output_type": "stream",
     "text": [
      "Churn                     Churn Rate (%)\n",
      "Monthly Charge Cluster $                \n",
      "Low (< 40)                     11.643090\n",
      "Moderate (40 - 80)             29.499803\n",
      "High (> 80)                    33.983496\n"
     ]
    },
    {
     "name": "stderr",
     "output_type": "stream",
     "text": [
      "C:\\Users\\User\\AppData\\Local\\Temp\\ipykernel_11276\\972067836.py:2: FutureWarning: The default of observed=False is deprecated and will be changed to True in a future version of pandas. Pass observed=False to retain current behavior or observed=True to adopt the future default and silence this warning.\n",
      "  churn_by_charge = df_segmen.groupby(['Monthly Charge Cluster $', 'Churn']).size().unstack()\n"
     ]
    }
   ],
   "source": [
    "# Group by 'Monthly Charge Cluster $' and 'Churn', then get the counts\n",
    "churn_by_charge = df_segmen.groupby(['Monthly Charge Cluster $', 'Churn']).size().unstack()\n",
    "\n",
    "# Calculate churn rate for each 'Monthly Charge Cluster $'\n",
    "churn_by_charge['Churn Rate (%)'] = (churn_by_charge['Yes'] / (churn_by_charge['Yes'] + churn_by_charge['No'])) * 100\n",
    "\n",
    "# Display the churn rate\n",
    "print(churn_by_charge[['Churn Rate (%)']])\n"
   ]
  },
  {
   "cell_type": "code",
   "execution_count": 277,
   "id": "38ce463f-0a57-4365-8ee8-821e802dc134",
   "metadata": {},
   "outputs": [
    {
     "data": {
      "image/png": "[encoded data removed]",
      "text/plain": [
       "<Figure size 1000x600 with 1 Axes>"
      ]
     },
     "metadata": {},
     "output_type": "display_data"
    }
   ],
   "source": [
    "import matplotlib.pyplot as plt\n",
    "\n",
    "# Plotting the churn rate by Monthly Charge Cluster $\n",
    "plt.figure(figsize=(10, 6))\n",
    "bars = plt.bar(churn_by_charge.index, churn_by_charge['Churn Rate (%)'], color='lightgreen')\n",
    "\n",
    "# Adding labels and title\n",
    "plt.xlabel('Monthly Charge Cluster $')\n",
    "plt.ylabel('Churn Rate (%)')\n",
    "plt.title('Churn Rate by Monthly Charge Cluster $')\n",
    "plt.ylim(0, 100)  # Set y-axis to range from 0 to 100\n",
    "plt.xticks(rotation=45)  # Rotate the x-axis labels for better readability\n",
    "\n",
    "# Annotate each bar with the churn rate value\n",
    "for bar in bars:\n",
    "    yval = bar.get_height()\n",
    "    plt.text(bar.get_x() + bar.get_width()/2, yval + 1, f'{yval:.2f}%', ha='center', va='bottom')\n",
    "\n",
    "plt.tight_layout()\n",
    "\n",
    "# Show the plot\n",
    "plt.show()\n"
   ]
  },
  {
   "cell_type": "code",
   "execution_count": null,
   "id": "8abe1b50-528e-4668-980c-26686b43b09d",
   "metadata": {},
   "outputs": [],
   "source": []
  },
  {
   "cell_type": "code",
   "execution_count": null,
   "id": "b76c3c90-66f4-4c52-80d6-9f786ec6ef5b",
   "metadata": {},
   "outputs": [],
   "source": []
  },
  {
   "cell_type": "markdown",
   "id": "5a863a76-4870-48c3-a08d-1d0e6d05a475",
   "metadata": {},
   "source": [
    "## Segmen Total Charges Cluster\t"
   ]
  },
  {
   "cell_type": "code",
   "execution_count": 278,
   "id": "d5abd380-feef-48f9-b86b-1d7d4ec11a27",
   "metadata": {},
   "outputs": [
    {
     "data": {
      "text/plain": [
       "TotalCharges Cluster\n",
       "Medium Charge (1000-5000)    3004\n",
       "Low Charge (<1000)           2904\n",
       "High Charge (>5000)          1135\n",
       "Name: count, dtype: int64"
      ]
     },
     "execution_count": 278,
     "metadata": {},
     "output_type": "execute_result"
    }
   ],
   "source": [
    "df_segmen['TotalCharges Cluster'].value_counts()"
   ]
  },
  {
   "cell_type": "code",
   "execution_count": 280,
   "id": "f06fbedd-065a-47af-b1a0-dc193384a921",
   "metadata": {},
   "outputs": [
    {
     "name": "stderr",
     "output_type": "stream",
     "text": [
      "C:\\Users\\User\\AppData\\Local\\Temp\\ipykernel_11276\\2501239646.py:1: FutureWarning: The default of observed=False is deprecated and will be changed to True in a future version of pandas. Pass observed=False to retain current behavior or observed=True to adopt the future default and silence this warning.\n",
      "  df_segmen.groupby('TotalCharges Cluster')['Churn'].value_counts()\n"
     ]
    },
    {
     "data": {
      "text/plain": [
       "TotalCharges Cluster       Churn\n",
       "Low Charge (<1000)         No       1834\n",
       "                           Yes      1070\n",
       "Medium Charge (1000-5000)  No       2362\n",
       "                           Yes       642\n",
       "High Charge (>5000)        No        978\n",
       "                           Yes       157\n",
       "Name: count, dtype: int64"
      ]
     },
     "execution_count": 280,
     "metadata": {},
     "output_type": "execute_result"
    }
   ],
   "source": [
    "df_segmen.groupby('TotalCharges Cluster')['Churn'].value_counts()"
   ]
  },
  {
   "cell_type": "code",
   "execution_count": 282,
   "id": "c01d6c3c-61c2-4d1b-8857-328d00462e95",
   "metadata": {},
   "outputs": [
    {
     "name": "stdout",
     "output_type": "stream",
     "text": [
      "Churn                      Churn Rate (%)\n",
      "TotalCharges Cluster                     \n",
      "Low Charge (<1000)              36.845730\n",
      "Medium Charge (1000-5000)       21.371505\n",
      "High Charge (>5000)             13.832599\n"
     ]
    },
    {
     "name": "stderr",
     "output_type": "stream",
     "text": [
      "C:\\Users\\User\\AppData\\Local\\Temp\\ipykernel_11276\\3204041239.py:2: FutureWarning: The default of observed=False is deprecated and will be changed to True in a future version of pandas. Pass observed=False to retain current behavior or observed=True to adopt the future default and silence this warning.\n",
      "  churn_by_total_charges = df_segmen.groupby(['TotalCharges Cluster', 'Churn']).size().unstack()\n"
     ]
    }
   ],
   "source": [
    "# Group by 'TotalCharges Cluster' and 'Churn', then get the counts\n",
    "churn_by_total_charges = df_segmen.groupby(['TotalCharges Cluster', 'Churn']).size().unstack()\n",
    "\n",
    "# Calculate churn rate for each 'TotalCharges Cluster'\n",
    "churn_by_total_charges['Churn Rate (%)'] = (churn_by_total_charges['Yes'] / \n",
    "                                            (churn_by_total_charges['Yes'] + churn_by_total_charges['No'])) * 100\n",
    "\n",
    "# Display the churn rate\n",
    "print(churn_by_total_charges[['Churn Rate (%)']])\n"
   ]
  },
  {
   "cell_type": "code",
   "execution_count": 284,
   "id": "6e20abf8-451a-4f36-8476-32c66a8f488f",
   "metadata": {},
   "outputs": [
    {
     "data": {
      "image/png": "[encoded data removed]",
      "text/plain": [
       "<Figure size 1000x600 with 1 Axes>"
      ]
     },
     "metadata": {},
     "output_type": "display_data"
    }
   ],
   "source": [
    "import matplotlib.pyplot as plt\n",
    "\n",
    "# Simulated churn rate data\n",
    "churn_by_total_charges = {\n",
    "    'TotalCharges Cluster': ['Low Charge (<1000)', 'Medium Charge (1000-5000)', 'High Charge (>5000)'],\n",
    "    'Churn Rate (%)': [36.845730, 21.371505, 13.832599]\n",
    "}\n",
    "\n",
    "# Extract data\n",
    "clusters = churn_by_total_charges['TotalCharges Cluster']\n",
    "churn_rates = churn_by_total_charges['Churn Rate (%)']\n",
    "\n",
    "# Plotting the churn rate by TotalCharges Cluster\n",
    "plt.figure(figsize=(10, 6))\n",
    "bars = plt.bar(clusters, churn_rates, color='yellow')  # Change color to yellow\n",
    "\n",
    "# Adding labels and title\n",
    "plt.xlabel('TotalCharges Cluster', fontsize=12)\n",
    "plt.ylabel('Churn Rate (%)', fontsize=12)\n",
    "plt.title('Churn Rate by TotalCharges Cluster', fontsize=14)\n",
    "plt.ylim(0, 50)  # Set y-axis to range from 0 to 50\n",
    "plt.xticks(rotation=45, fontsize=10)  # Rotate the x-axis labels for better readability\n",
    "\n",
    "# Annotate each bar with the churn rate value\n",
    "for bar in bars:\n",
    "    yval = bar.get_height()\n",
    "    plt.text(bar.get_x() + bar.get_width() / 2, yval + 1, f'{yval:.2f}%', ha='center', va='bottom', fontsize=10)\n",
    "\n",
    "plt.tight_layout()\n",
    "\n",
    "# Show the plot\n",
    "plt.show()\n"
   ]
  },
  {
   "cell_type": "code",
   "execution_count": null,
   "id": "1d9141d5-a30e-4fa1-818a-9200e8e89daa",
   "metadata": {},
   "outputs": [],
   "source": []
  },
  {
   "cell_type": "code",
   "execution_count": null,
   "id": "fbaebdf1-3975-4a41-8337-9d35420fca62",
   "metadata": {},
   "outputs": [],
   "source": []
  },
  {
   "cell_type": "code",
   "execution_count": null,
   "id": "82391d56-def2-4fa7-b11e-2d8ce295f110",
   "metadata": {},
   "outputs": [],
   "source": []
  },
  {
   "cell_type": "code",
   "execution_count": null,
   "id": "fff6ddb3-30c0-4803-abb7-0e8cb04689b3",
   "metadata": {},
   "outputs": [],
   "source": []
  },
  {
   "cell_type": "code",
   "execution_count": null,
   "id": "390b3a88-1553-4f2f-8dc8-564679035b7a",
   "metadata": {},
   "outputs": [],
   "source": []
  },
  {
   "cell_type": "code",
   "execution_count": null,
   "id": "0b32ac3f-4545-4560-8da7-f778d5c2985c",
   "metadata": {},
   "outputs": [],
   "source": []
  },
  {
   "cell_type": "code",
   "execution_count": 273,
   "id": "4b214668-0951-409a-ad16-e1a17639157b",
   "metadata": {},
   "outputs": [
    {
     "data": {
      "text/html": [
       "<div>\n",
       "<style scoped>\n",
       "    .dataframe tbody tr th:only-of-type {\n",
       "        vertical-align: middle;\n",
       "    }\n",
       "\n",
       "    .dataframe tbody tr th {\n",
       "        vertical-align: top;\n",
       "    }\n",
       "\n",
       "    .dataframe thead th {\n",
       "        text-align: right;\n",
       "    }\n",
       "</style>\n",
       "<table border=\"1\" class=\"dataframe\">\n",
       "  <thead>\n",
       "    <tr style=\"text-align: right;\">\n",
       "      <th></th>\n",
       "      <th>Contract</th>\n",
       "      <th>tenure</th>\n",
       "      <th>MonthlyCharges</th>\n",
       "      <th>OnlineSecurity</th>\n",
       "      <th>TotalCharges</th>\n",
       "      <th>TechSupport</th>\n",
       "      <th>Churn</th>\n",
       "      <th>Monthly Charge Cluster $</th>\n",
       "      <th>TotalCharges Cluster</th>\n",
       "    </tr>\n",
       "  </thead>\n",
       "  <tbody>\n",
       "    <tr>\n",
       "      <th>0</th>\n",
       "      <td>Month-to-month</td>\n",
       "      <td>1</td>\n",
       "      <td>29.85</td>\n",
       "      <td>No</td>\n",
       "      <td>29.85</td>\n",
       "      <td>No</td>\n",
       "      <td>No</td>\n",
       "      <td>Low (&lt; 40)</td>\n",
       "      <td>Low Charge (&lt;1000)</td>\n",
       "    </tr>\n",
       "    <tr>\n",
       "      <th>1</th>\n",
       "      <td>One year</td>\n",
       "      <td>34</td>\n",
       "      <td>56.95</td>\n",
       "      <td>Yes</td>\n",
       "      <td>1889.50</td>\n",
       "      <td>No</td>\n",
       "      <td>No</td>\n",
       "      <td>Moderate (40 - 80)</td>\n",
       "      <td>Medium Charge (1000-5000)</td>\n",
       "    </tr>\n",
       "    <tr>\n",
       "      <th>2</th>\n",
       "      <td>Month-to-month</td>\n",
       "      <td>2</td>\n",
       "      <td>53.85</td>\n",
       "      <td>Yes</td>\n",
       "      <td>108.15</td>\n",
       "      <td>No</td>\n",
       "      <td>Yes</td>\n",
       "      <td>Moderate (40 - 80)</td>\n",
       "      <td>Low Charge (&lt;1000)</td>\n",
       "    </tr>\n",
       "    <tr>\n",
       "      <th>3</th>\n",
       "      <td>One year</td>\n",
       "      <td>45</td>\n",
       "      <td>42.30</td>\n",
       "      <td>Yes</td>\n",
       "      <td>1840.75</td>\n",
       "      <td>Yes</td>\n",
       "      <td>No</td>\n",
       "      <td>Moderate (40 - 80)</td>\n",
       "      <td>Medium Charge (1000-5000)</td>\n",
       "    </tr>\n",
       "    <tr>\n",
       "      <th>4</th>\n",
       "      <td>Month-to-month</td>\n",
       "      <td>2</td>\n",
       "      <td>70.70</td>\n",
       "      <td>No</td>\n",
       "      <td>151.65</td>\n",
       "      <td>No</td>\n",
       "      <td>Yes</td>\n",
       "      <td>Moderate (40 - 80)</td>\n",
       "      <td>Low Charge (&lt;1000)</td>\n",
       "    </tr>\n",
       "    <tr>\n",
       "      <th>...</th>\n",
       "      <td>...</td>\n",
       "      <td>...</td>\n",
       "      <td>...</td>\n",
       "      <td>...</td>\n",
       "      <td>...</td>\n",
       "      <td>...</td>\n",
       "      <td>...</td>\n",
       "      <td>...</td>\n",
       "      <td>...</td>\n",
       "    </tr>\n",
       "    <tr>\n",
       "      <th>7038</th>\n",
       "      <td>One year</td>\n",
       "      <td>24</td>\n",
       "      <td>84.80</td>\n",
       "      <td>Yes</td>\n",
       "      <td>1990.50</td>\n",
       "      <td>Yes</td>\n",
       "      <td>No</td>\n",
       "      <td>High (&gt; 80)</td>\n",
       "      <td>Medium Charge (1000-5000)</td>\n",
       "    </tr>\n",
       "    <tr>\n",
       "      <th>7039</th>\n",
       "      <td>One year</td>\n",
       "      <td>72</td>\n",
       "      <td>103.20</td>\n",
       "      <td>No</td>\n",
       "      <td>7362.90</td>\n",
       "      <td>No</td>\n",
       "      <td>No</td>\n",
       "      <td>High (&gt; 80)</td>\n",
       "      <td>High Charge (&gt;5000)</td>\n",
       "    </tr>\n",
       "    <tr>\n",
       "      <th>7040</th>\n",
       "      <td>Month-to-month</td>\n",
       "      <td>11</td>\n",
       "      <td>29.60</td>\n",
       "      <td>Yes</td>\n",
       "      <td>346.45</td>\n",
       "      <td>No</td>\n",
       "      <td>No</td>\n",
       "      <td>Low (&lt; 40)</td>\n",
       "      <td>Low Charge (&lt;1000)</td>\n",
       "    </tr>\n",
       "    <tr>\n",
       "      <th>7041</th>\n",
       "      <td>Month-to-month</td>\n",
       "      <td>4</td>\n",
       "      <td>74.40</td>\n",
       "      <td>No</td>\n",
       "      <td>306.60</td>\n",
       "      <td>No</td>\n",
       "      <td>Yes</td>\n",
       "      <td>Moderate (40 - 80)</td>\n",
       "      <td>Low Charge (&lt;1000)</td>\n",
       "    </tr>\n",
       "    <tr>\n",
       "      <th>7042</th>\n",
       "      <td>Two year</td>\n",
       "      <td>66</td>\n",
       "      <td>105.65</td>\n",
       "      <td>Yes</td>\n",
       "      <td>6844.50</td>\n",
       "      <td>Yes</td>\n",
       "      <td>No</td>\n",
       "      <td>High (&gt; 80)</td>\n",
       "      <td>High Charge (&gt;5000)</td>\n",
       "    </tr>\n",
       "  </tbody>\n",
       "</table>\n",
       "<p>7043 rows × 9 columns</p>\n",
       "</div>"
      ],
      "text/plain": [
       "            Contract  tenure  MonthlyCharges OnlineSecurity  TotalCharges  \\\n",
       "0     Month-to-month       1           29.85             No         29.85   \n",
       "1           One year      34           56.95            Yes       1889.50   \n",
       "2     Month-to-month       2           53.85            Yes        108.15   \n",
       "3           One year      45           42.30            Yes       1840.75   \n",
       "4     Month-to-month       2           70.70             No        151.65   \n",
       "...              ...     ...             ...            ...           ...   \n",
       "7038        One year      24           84.80            Yes       1990.50   \n",
       "7039        One year      72          103.20             No       7362.90   \n",
       "7040  Month-to-month      11           29.60            Yes        346.45   \n",
       "7041  Month-to-month       4           74.40             No        306.60   \n",
       "7042        Two year      66          105.65            Yes       6844.50   \n",
       "\n",
       "     TechSupport Churn Monthly Charge Cluster $       TotalCharges Cluster  \n",
       "0             No    No               Low (< 40)         Low Charge (<1000)  \n",
       "1             No    No       Moderate (40 - 80)  Medium Charge (1000-5000)  \n",
       "2             No   Yes       Moderate (40 - 80)         Low Charge (<1000)  \n",
       "3            Yes    No       Moderate (40 - 80)  Medium Charge (1000-5000)  \n",
       "4             No   Yes       Moderate (40 - 80)         Low Charge (<1000)  \n",
       "...          ...   ...                      ...                        ...  \n",
       "7038         Yes    No              High (> 80)  Medium Charge (1000-5000)  \n",
       "7039          No    No              High (> 80)        High Charge (>5000)  \n",
       "7040          No    No               Low (< 40)         Low Charge (<1000)  \n",
       "7041          No   Yes       Moderate (40 - 80)         Low Charge (<1000)  \n",
       "7042         Yes    No              High (> 80)        High Charge (>5000)  \n",
       "\n",
       "[7043 rows x 9 columns]"
      ]
     },
     "execution_count": 273,
     "metadata": {},
     "output_type": "execute_result"
    }
   ],
   "source": [
    "df_segmen"
   ]
  },
  {
   "cell_type": "code",
   "execution_count": null,
   "id": "53479827-d577-4ebb-9ee3-42a737226709",
   "metadata": {},
   "outputs": [],
   "source": []
  },
  {
   "cell_type": "code",
   "execution_count": null,
   "id": "de826d73-f5fb-41a0-a9bb-986a8f75ee40",
   "metadata": {},
   "outputs": [],
   "source": []
  },
  {
   "cell_type": "code",
   "execution_count": null,
   "id": "e3042802-4c50-435c-9443-c3417add4b9c",
   "metadata": {},
   "outputs": [],
   "source": []
  },
  {
   "cell_type": "code",
   "execution_count": null,
   "id": "946e21a7-c437-45c7-b5b0-d6f88a5adc43",
   "metadata": {},
   "outputs": [],
   "source": []
  },
  {
   "cell_type": "code",
   "execution_count": null,
   "id": "cd69b56f-5680-4f53-b92a-02c55d51ef99",
   "metadata": {},
   "outputs": [],
   "source": []
  },
  {
   "cell_type": "code",
   "execution_count": null,
   "id": "ab524314-8718-4bd0-a1d3-69c799102115",
   "metadata": {},
   "outputs": [],
   "source": []
  },
  {
   "cell_type": "code",
   "execution_count": null,
   "id": "98a165b3-7b7f-4e31-a798-d951c517ae5d",
   "metadata": {},
   "outputs": [],
   "source": []
  },
  {
   "cell_type": "code",
   "execution_count": null,
   "id": "26111ce5-ac47-4901-ba1d-b06776b7716a",
   "metadata": {},
   "outputs": [],
   "source": []
  },
  {
   "cell_type": "markdown",
   "id": "e47ae555-872a-4308-93f5-e380cbc510af",
   "metadata": {},
   "source": [
    "## Finish"
   ]
  },
  {
   "cell_type": "code",
   "execution_count": 232,
   "id": "8acd1a16-ba70-438b-9850-d1a4b622f491",
   "metadata": {},
   "outputs": [
    {
     "data": {
      "image/png": "[encoded data removed]",
      "text/plain": [
       "<Figure size 800x600 with 1 Axes>"
      ]
     },
     "metadata": {},
     "output_type": "display_data"
    }
   ],
   "source": [
    "import matplotlib.pyplot as plt\n",
    "import numpy as np\n",
    "\n",
    "# Accuracy data\n",
    "accuracy_before = [0.7857, 0.7807]  # KNN and Random Forest before tuning\n",
    "accuracy_after = [0.8715, 0.9865]   # KNN and Random Forest after tuning\n",
    "models = ['KNN', 'Random Forest']\n",
    "\n",
    "# Plot for accuracy comparison\n",
    "plt.figure(figsize=(8, 6))\n",
    "bar_width = 0.35\n",
    "index = np.arange(len(models))\n",
    "\n",
    "# Plot before and after\n",
    "plt.bar(index, accuracy_before, bar_width, label='Before Tuning', color='b')\n",
    "plt.bar(index + bar_width, accuracy_after, bar_width, label='After Tuning', color='g')\n",
    "\n",
    "plt.xlabel('Model', fontsize=12)\n",
    "plt.ylabel('Accuracy', fontsize=12)\n",
    "plt.title('Accuracy Comparison of KNN and Random Forest Models', fontsize=14)\n",
    "plt.xticks(index + bar_width / 2, models)\n",
    "plt.legend()\n",
    "\n",
    "plt.tight_layout()\n",
    "plt.show()\n"
   ]
  },
  {
   "cell_type": "code",
   "execution_count": 228,
   "id": "b71e96f4-dffb-4643-bd5f-bb19cd4e3391",
   "metadata": {},
   "outputs": [
    {
     "data": {
      "image/png": "[encoded data removed]",
      "text/plain": [
       "<Figure size 800x600 with 2 Axes>"
      ]
     },
     "metadata": {},
     "output_type": "display_data"
    }
   ],
   "source": [
    "import seaborn as sns\n",
    "import matplotlib.pyplot as plt\n",
    "import numpy as np\n",
    "\n",
    "# Confusion Matrix for Random Forest after Tuning\n",
    "conf_matrix_rf = np.array([[973, 63], [30, 343]])\n",
    "\n",
    "# Plot confusion matrix as heatmap\n",
    "plt.figure(figsize=(8, 6))\n",
    "sns.heatmap(conf_matrix_rf, annot=True, fmt='d', cmap='Blues', xticklabels=['Churn=0', 'Churn=1'], yticklabels=['Churn=0', 'Churn=1'])\n",
    "plt.title('Confusion Matrix for Random Forest After Tuning', fontsize=14)\n",
    "plt.xlabel('Predicted', fontsize=12)\n",
    "plt.ylabel('Actual', fontsize=12)\n",
    "plt.show()\n"
   ]
  },
  {
   "cell_type": "code",
   "execution_count": null,
   "id": "814c8e0f-2cff-4b27-ae95-0d28221adf0b",
   "metadata": {},
   "outputs": [],
   "source": []
  },
  {
   "cell_type": "code",
   "execution_count": null,
   "id": "c4fc16cc-aa95-4319-8d68-25c49f961d9c",
   "metadata": {},
   "outputs": [],
   "source": []
  }
 ],
 "metadata": {
  "kernelspec": {
   "display_name": "Python 3 (ipykernel)",
   "language": "python",
   "name": "python3"
  },
  "language_info": {
   "codemirror_mode": {
    "name": "ipython",
    "version": 3
   },
   "file_extension": ".py",
   "mimetype": "text/x-python",
   "name": "python",
   "nbconvert_exporter": "python",
   "pygments_lexer": "ipython3",
   "version": "3.13.0"
  }
 },
 "nbformat": 4,
 "nbformat_minor": 5
}
